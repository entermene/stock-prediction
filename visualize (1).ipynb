{
 "cells": [
  {
   "cell_type": "markdown",
   "metadata": {},
   "source": [
    "# Visualization: Trading Session"
   ]
  },
  {
   "cell_type": "code",
   "execution_count": 3,
   "metadata": {},
   "outputs": [
    {
     "name": "stdout",
     "output_type": "stream",
     "text": [
      "Defaulting to user installation because normal site-packages is not writeable\n",
      "Looking in links: /usr/share/pip-wheels\n",
      "Collecting altair\n",
      "  Downloading altair-5.2.0-py3-none-any.whl (996 kB)\n",
      "\u001b[K     |████████████████████████████████| 996 kB 3.2 MB/s eta 0:00:01\n",
      "\u001b[?25hRequirement already satisfied: packaging in /opt/conda/envs/anaconda-2022.05-py39/lib/python3.9/site-packages (from altair) (21.3)\n",
      "Requirement already satisfied: typing-extensions>=4.0.1 in /opt/conda/envs/anaconda-2022.05-py39/lib/python3.9/site-packages (from altair) (4.1.1)\n",
      "Requirement already satisfied: pandas>=0.25 in /opt/conda/envs/anaconda-2022.05-py39/lib/python3.9/site-packages (from altair) (1.4.2)\n",
      "Requirement already satisfied: toolz in /opt/conda/envs/anaconda-2022.05-py39/lib/python3.9/site-packages (from altair) (0.11.2)\n",
      "Requirement already satisfied: numpy in ./.local/lib/python3.9/site-packages (from altair) (1.26.2)\n",
      "Requirement already satisfied: jinja2 in /opt/conda/envs/anaconda-2022.05-py39/lib/python3.9/site-packages (from altair) (2.11.3)\n",
      "Requirement already satisfied: jsonschema>=3.0 in /opt/conda/envs/anaconda-2022.05-py39/lib/python3.9/site-packages (from altair) (4.4.0)\n",
      "Requirement already satisfied: pyrsistent!=0.17.0,!=0.17.1,!=0.17.2,>=0.14.0 in /opt/conda/envs/anaconda-2022.05-py39/lib/python3.9/site-packages (from jsonschema>=3.0->altair) (0.18.0)\n",
      "Requirement already satisfied: attrs>=17.4.0 in /opt/conda/envs/anaconda-2022.05-py39/lib/python3.9/site-packages (from jsonschema>=3.0->altair) (21.4.0)\n",
      "Requirement already satisfied: python-dateutil>=2.8.1 in /opt/conda/envs/anaconda-2022.05-py39/lib/python3.9/site-packages (from pandas>=0.25->altair) (2.8.2)\n",
      "Requirement already satisfied: pytz>=2020.1 in /opt/conda/envs/anaconda-2022.05-py39/lib/python3.9/site-packages (from pandas>=0.25->altair) (2021.3)\n",
      "Requirement already satisfied: six>=1.5 in /opt/conda/envs/anaconda-2022.05-py39/lib/python3.9/site-packages (from python-dateutil>=2.8.1->pandas>=0.25->altair) (1.16.0)\n",
      "Requirement already satisfied: MarkupSafe>=0.23 in /opt/conda/envs/anaconda-2022.05-py39/lib/python3.9/site-packages (from jinja2->altair) (2.0.1)\n",
      "Requirement already satisfied: pyparsing!=3.0.5,>=2.0.2 in /opt/conda/envs/anaconda-2022.05-py39/lib/python3.9/site-packages (from packaging->altair) (3.0.4)\n",
      "Installing collected packages: altair\n",
      "Successfully installed altair-5.2.0\n"
     ]
    }
   ],
   "source": [
    "!pip install altair"
   ]
  },
  {
   "cell_type": "code",
   "execution_count": 6,
   "metadata": {},
   "outputs": [],
   "source": [
    "import pandas as pd\n",
    "import numpy as np\n",
    "\n",
    "import altair as alt\n",
    "import seaborn as sns\n",
    "import matplotlib.pyplot as plt"
   ]
  },
  {
   "cell_type": "markdown",
   "metadata": {},
   "source": [
    "### 1. Define parameters and Load model"
   ]
  },
  {
   "cell_type": "code",
   "execution_count": 8,
   "metadata": {},
   "outputs": [
    {
     "name": "stderr",
     "output_type": "stream",
     "text": [
      "WARNING:absl:`lr` is deprecated in Keras optimizer, please use `learning_rate` or use the legacy optimizer, e.g.,tf.keras.optimizers.legacy.Adam.\n"
     ]
    }
   ],
   "source": [
    "from trading_bot.agent import Agent\n",
    "\n",
    "model_name = 'model_double-dqn_GOOG_50'\n",
    "test_stock = 'BAP(1).csv'\n",
    "\n",
    "window_size = 10\n",
    "debug = True\n",
    "\n",
    "agent = Agent(window_size, pretrained=True, model_name=model_name)"
   ]
  },
  {
   "cell_type": "markdown",
   "metadata": {},
   "source": [
    "### 2. Load test data"
   ]
  },
  {
   "cell_type": "code",
   "execution_count": 9,
   "metadata": {},
   "outputs": [
    {
     "data": {
      "text/html": [
       "<div>\n",
       "<style scoped>\n",
       "    .dataframe tbody tr th:only-of-type {\n",
       "        vertical-align: middle;\n",
       "    }\n",
       "\n",
       "    .dataframe tbody tr th {\n",
       "        vertical-align: top;\n",
       "    }\n",
       "\n",
       "    .dataframe thead th {\n",
       "        text-align: right;\n",
       "    }\n",
       "</style>\n",
       "<table border=\"1\" class=\"dataframe\">\n",
       "  <thead>\n",
       "    <tr style=\"text-align: right;\">\n",
       "      <th></th>\n",
       "      <th>date</th>\n",
       "      <th>actual</th>\n",
       "    </tr>\n",
       "  </thead>\n",
       "  <tbody>\n",
       "    <tr>\n",
       "      <th>0</th>\n",
       "      <td>2022-12-19</td>\n",
       "      <td>133.622040</td>\n",
       "    </tr>\n",
       "    <tr>\n",
       "      <th>1</th>\n",
       "      <td>2022-12-20</td>\n",
       "      <td>134.766327</td>\n",
       "    </tr>\n",
       "    <tr>\n",
       "      <th>2</th>\n",
       "      <td>2022-12-21</td>\n",
       "      <td>135.313583</td>\n",
       "    </tr>\n",
       "    <tr>\n",
       "      <th>3</th>\n",
       "      <td>2022-12-22</td>\n",
       "      <td>132.736465</td>\n",
       "    </tr>\n",
       "    <tr>\n",
       "      <th>4</th>\n",
       "      <td>2022-12-23</td>\n",
       "      <td>134.000153</td>\n",
       "    </tr>\n",
       "  </tbody>\n",
       "</table>\n",
       "</div>"
      ],
      "text/plain": [
       "        date      actual\n",
       "0 2022-12-19  133.622040\n",
       "1 2022-12-20  134.766327\n",
       "2 2022-12-21  135.313583\n",
       "3 2022-12-22  132.736465\n",
       "4 2022-12-23  134.000153"
      ]
     },
     "execution_count": 9,
     "metadata": {},
     "output_type": "execute_result"
    }
   ],
   "source": [
    "# read csv into dataframe\n",
    "df = pd.read_csv(test_stock)\n",
    "# filter out the desired features\n",
    "df = df[['Date', 'Adj Close']]\n",
    "# rename feature column names\n",
    "df = df.rename(columns={'Adj Close': 'actual', 'Date': 'date'})\n",
    "# convert dates from object to DateTime type\n",
    "dates = df['date']\n",
    "dates = pd.to_datetime(dates, infer_datetime_format=True)\n",
    "df['date'] = dates\n",
    "\n",
    "df.head()"
   ]
  },
  {
   "cell_type": "code",
   "execution_count": 10,
   "metadata": {},
   "outputs": [],
   "source": [
    "# !pip install coloredlogs"
   ]
  },
  {
   "cell_type": "code",
   "execution_count": 11,
   "metadata": {},
   "outputs": [],
   "source": [
    "# plt.plot(df['actual']) "
   ]
  },
  {
   "cell_type": "code",
   "execution_count": 29,
   "metadata": {},
   "outputs": [
    {
     "name": "stdout",
     "output_type": "stream",
     "text": [
      "250\n"
     ]
    }
   ],
   "source": [
    "test_data=[]\n",
    "ascending_list=[i for i in range(1,250+1)]\n",
    "random_list=[random.randint(0, 1000) for _ in range(250)]\n",
    "\n",
    "for x,y in zip(ascending_list, random_list):\n",
    "    z = x + y\n",
    "    test_data .append(z)\n",
    "print(len(test_data))\n",
    "# # test_data = get_stock_data(test_stock)\n",
    "# print(test_data.shape)"
   ]
  },
  {
   "cell_type": "code",
   "execution_count": 23,
   "metadata": {},
   "outputs": [
    {
     "name": "stdout",
     "output_type": "stream",
     "text": [
      "[]\n"
     ]
    }
   ],
   "source": [
    "# # test_data = get_stock_data(test_stock)\n",
    "# # test_data=[]\n",
    "# print(test_data)"
   ]
  },
  {
   "cell_type": "markdown",
   "metadata": {},
   "source": [
    "### 3. Running Eval"
   ]
  },
  {
   "cell_type": "code",
   "execution_count": 37,
   "metadata": {},
   "outputs": [
    {
     "name": "stderr",
     "output_type": "stream",
     "text": [
      "2023-12-20 02:25:08 blue-nbjupyterhub4 root[12388] DEBUG switching to TensorFlow for CPU\n"
     ]
    },
    {
     "name": "stdout",
     "output_type": "stream",
     "text": [
      "1/1 [==============================] - 0s 15ms/step\n",
      "1/1 [==============================] - 0s 14ms/step\n"
     ]
    },
    {
     "name": "stderr",
     "output_type": "stream",
     "text": [
      "2023-12-20 02:25:09 blue-nbjupyterhub4 root[12388] DEBUG Buy at: $389.00\n"
     ]
    },
    {
     "name": "stdout",
     "output_type": "stream",
     "text": [
      "1/1 [==============================] - 0s 14ms/step\n"
     ]
    },
    {
     "name": "stderr",
     "output_type": "stream",
     "text": [
      "2023-12-20 02:25:09 blue-nbjupyterhub4 root[12388] DEBUG Sell at: $764.00 | Position: +$375.00\n"
     ]
    },
    {
     "name": "stdout",
     "output_type": "stream",
     "text": [
      "1/1 [==============================] - 0s 14ms/step\n"
     ]
    },
    {
     "name": "stderr",
     "output_type": "stream",
     "text": [
      "2023-12-20 02:25:09 blue-nbjupyterhub4 root[12388] DEBUG Buy at: $872.00\n"
     ]
    },
    {
     "name": "stdout",
     "output_type": "stream",
     "text": [
      "1/1 [==============================] - 0s 14ms/step\n"
     ]
    },
    {
     "name": "stderr",
     "output_type": "stream",
     "text": [
      "2023-12-20 02:25:09 blue-nbjupyterhub4 root[12388] DEBUG Buy at: $143.00\n"
     ]
    },
    {
     "name": "stdout",
     "output_type": "stream",
     "text": [
      "1/1 [==============================] - 0s 14ms/step\n"
     ]
    },
    {
     "name": "stderr",
     "output_type": "stream",
     "text": [
      "2023-12-20 02:25:09 blue-nbjupyterhub4 root[12388] DEBUG Sell at: $681.00 | Position: -$191.00\n"
     ]
    },
    {
     "name": "stdout",
     "output_type": "stream",
     "text": [
      "1/1 [==============================] - 0s 14ms/step\n"
     ]
    },
    {
     "name": "stderr",
     "output_type": "stream",
     "text": [
      "2023-12-20 02:25:09 blue-nbjupyterhub4 root[12388] DEBUG Sell at: $993.00 | Position: +$850.00\n"
     ]
    },
    {
     "name": "stdout",
     "output_type": "stream",
     "text": [
      "1/1 [==============================] - 0s 16ms/step\n"
     ]
    },
    {
     "name": "stderr",
     "output_type": "stream",
     "text": [
      "2023-12-20 02:25:09 blue-nbjupyterhub4 root[12388] DEBUG Buy at: $343.00\n"
     ]
    },
    {
     "name": "stdout",
     "output_type": "stream",
     "text": [
      "1/1 [==============================] - 0s 14ms/step\n"
     ]
    },
    {
     "name": "stderr",
     "output_type": "stream",
     "text": [
      "2023-12-20 02:25:09 blue-nbjupyterhub4 root[12388] DEBUG Sell at: $535.00 | Position: +$192.00\n"
     ]
    },
    {
     "name": "stdout",
     "output_type": "stream",
     "text": [
      "1/1 [==============================] - 0s 14ms/step\n",
      "1/1 [==============================] - 0s 14ms/step\n"
     ]
    },
    {
     "name": "stderr",
     "output_type": "stream",
     "text": [
      "2023-12-20 02:25:09 blue-nbjupyterhub4 root[12388] DEBUG Buy at: $160.00\n"
     ]
    },
    {
     "name": "stdout",
     "output_type": "stream",
     "text": [
      "1/1 [==============================] - 0s 14ms/step\n"
     ]
    },
    {
     "name": "stderr",
     "output_type": "stream",
     "text": [
      "2023-12-20 02:25:09 blue-nbjupyterhub4 root[12388] DEBUG Sell at: $422.00 | Position: +$262.00\n"
     ]
    },
    {
     "name": "stdout",
     "output_type": "stream",
     "text": [
      "1/1 [==============================] - 0s 14ms/step\n",
      "1/1 [==============================] - 0s 14ms/step\n"
     ]
    },
    {
     "name": "stderr",
     "output_type": "stream",
     "text": [
      "2023-12-20 02:25:09 blue-nbjupyterhub4 root[12388] DEBUG Buy at: $473.00\n"
     ]
    },
    {
     "name": "stdout",
     "output_type": "stream",
     "text": [
      "1/1 [==============================] - 0s 14ms/step\n"
     ]
    },
    {
     "name": "stderr",
     "output_type": "stream",
     "text": [
      "2023-12-20 02:25:09 blue-nbjupyterhub4 root[12388] DEBUG Sell at: $776.00 | Position: +$303.00\n"
     ]
    },
    {
     "name": "stdout",
     "output_type": "stream",
     "text": [
      "1/1 [==============================] - 0s 14ms/step\n"
     ]
    },
    {
     "name": "stderr",
     "output_type": "stream",
     "text": [
      "2023-12-20 02:25:09 blue-nbjupyterhub4 root[12388] DEBUG Buy at: $352.00\n"
     ]
    },
    {
     "name": "stdout",
     "output_type": "stream",
     "text": [
      "1/1 [==============================] - 0s 15ms/step\n"
     ]
    },
    {
     "name": "stderr",
     "output_type": "stream",
     "text": [
      "2023-12-20 02:25:09 blue-nbjupyterhub4 root[12388] DEBUG Buy at: $32.00\n"
     ]
    },
    {
     "name": "stdout",
     "output_type": "stream",
     "text": [
      "1/1 [==============================] - 0s 14ms/step\n"
     ]
    },
    {
     "name": "stderr",
     "output_type": "stream",
     "text": [
      "2023-12-20 02:25:09 blue-nbjupyterhub4 root[12388] DEBUG Sell at: $361.00 | Position: +$9.00\n"
     ]
    },
    {
     "name": "stdout",
     "output_type": "stream",
     "text": [
      "1/1 [==============================] - 0s 14ms/step\n"
     ]
    },
    {
     "name": "stderr",
     "output_type": "stream",
     "text": [
      "2023-12-20 02:25:09 blue-nbjupyterhub4 root[12388] DEBUG Buy at: $186.00\n"
     ]
    },
    {
     "name": "stdout",
     "output_type": "stream",
     "text": [
      "1/1 [==============================] - 0s 14ms/step\n"
     ]
    },
    {
     "name": "stderr",
     "output_type": "stream",
     "text": [
      "2023-12-20 02:25:09 blue-nbjupyterhub4 root[12388] DEBUG Sell at: $967.00 | Position: +$935.00\n"
     ]
    },
    {
     "name": "stdout",
     "output_type": "stream",
     "text": [
      "1/1 [==============================] - 0s 14ms/step\n"
     ]
    },
    {
     "name": "stderr",
     "output_type": "stream",
     "text": [
      "2023-12-20 02:25:09 blue-nbjupyterhub4 root[12388] DEBUG Buy at: $356.00\n"
     ]
    },
    {
     "name": "stdout",
     "output_type": "stream",
     "text": [
      "1/1 [==============================] - 0s 14ms/step\n"
     ]
    },
    {
     "name": "stderr",
     "output_type": "stream",
     "text": [
      "2023-12-20 02:25:10 blue-nbjupyterhub4 root[12388] DEBUG Sell at: $633.00 | Position: +$447.00\n"
     ]
    },
    {
     "name": "stdout",
     "output_type": "stream",
     "text": [
      "1/1 [==============================] - 0s 14ms/step\n"
     ]
    },
    {
     "name": "stderr",
     "output_type": "stream",
     "text": [
      "2023-12-20 02:25:10 blue-nbjupyterhub4 root[12388] DEBUG Buy at: $504.00\n"
     ]
    },
    {
     "name": "stdout",
     "output_type": "stream",
     "text": [
      "1/1 [==============================] - 0s 14ms/step\n"
     ]
    },
    {
     "name": "stderr",
     "output_type": "stream",
     "text": [
      "2023-12-20 02:25:10 blue-nbjupyterhub4 root[12388] DEBUG Buy at: $49.00\n"
     ]
    },
    {
     "name": "stdout",
     "output_type": "stream",
     "text": [
      "1/1 [==============================] - 0s 14ms/step\n"
     ]
    },
    {
     "name": "stderr",
     "output_type": "stream",
     "text": [
      "2023-12-20 02:25:10 blue-nbjupyterhub4 root[12388] DEBUG Buy at: $425.00\n"
     ]
    },
    {
     "name": "stdout",
     "output_type": "stream",
     "text": [
      "1/1 [==============================] - 0s 14ms/step\n"
     ]
    },
    {
     "name": "stderr",
     "output_type": "stream",
     "text": [
      "2023-12-20 02:25:10 blue-nbjupyterhub4 root[12388] DEBUG Buy at: $768.00\n"
     ]
    },
    {
     "name": "stdout",
     "output_type": "stream",
     "text": [
      "1/1 [==============================] - 0s 14ms/step\n"
     ]
    },
    {
     "name": "stderr",
     "output_type": "stream",
     "text": [
      "2023-12-20 02:25:10 blue-nbjupyterhub4 root[12388] DEBUG Buy at: $994.00\n"
     ]
    },
    {
     "name": "stdout",
     "output_type": "stream",
     "text": [
      "1/1 [==============================] - 0s 14ms/step\n"
     ]
    },
    {
     "name": "stderr",
     "output_type": "stream",
     "text": [
      "2023-12-20 02:25:10 blue-nbjupyterhub4 root[12388] DEBUG Buy at: $723.00\n"
     ]
    },
    {
     "name": "stdout",
     "output_type": "stream",
     "text": [
      "1/1 [==============================] - 0s 14ms/step\n"
     ]
    },
    {
     "name": "stderr",
     "output_type": "stream",
     "text": [
      "2023-12-20 02:25:10 blue-nbjupyterhub4 root[12388] DEBUG Buy at: $996.00\n"
     ]
    },
    {
     "name": "stdout",
     "output_type": "stream",
     "text": [
      "1/1 [==============================] - 0s 14ms/step\n"
     ]
    },
    {
     "name": "stderr",
     "output_type": "stream",
     "text": [
      "2023-12-20 02:25:10 blue-nbjupyterhub4 root[12388] DEBUG Buy at: $670.00\n"
     ]
    },
    {
     "name": "stdout",
     "output_type": "stream",
     "text": [
      "1/1 [==============================] - 0s 14ms/step\n"
     ]
    },
    {
     "name": "stderr",
     "output_type": "stream",
     "text": [
      "2023-12-20 02:25:10 blue-nbjupyterhub4 root[12388] DEBUG Sell at: $135.00 | Position: -$221.00\n"
     ]
    },
    {
     "name": "stdout",
     "output_type": "stream",
     "text": [
      "1/1 [==============================] - 0s 15ms/step\n"
     ]
    },
    {
     "name": "stderr",
     "output_type": "stream",
     "text": [
      "2023-12-20 02:25:10 blue-nbjupyterhub4 root[12388] DEBUG Buy at: $622.00\n"
     ]
    },
    {
     "name": "stdout",
     "output_type": "stream",
     "text": [
      "1/1 [==============================] - 0s 15ms/step\n"
     ]
    },
    {
     "name": "stderr",
     "output_type": "stream",
     "text": [
      "2023-12-20 02:25:10 blue-nbjupyterhub4 root[12388] DEBUG Buy at: $295.00\n"
     ]
    },
    {
     "name": "stdout",
     "output_type": "stream",
     "text": [
      "1/1 [==============================] - 0s 14ms/step\n"
     ]
    },
    {
     "name": "stderr",
     "output_type": "stream",
     "text": [
      "2023-12-20 02:25:10 blue-nbjupyterhub4 root[12388] DEBUG Sell at: $807.00 | Position: +$303.00\n"
     ]
    },
    {
     "name": "stdout",
     "output_type": "stream",
     "text": [
      "1/1 [==============================] - 0s 14ms/step\n"
     ]
    },
    {
     "name": "stderr",
     "output_type": "stream",
     "text": [
      "2023-12-20 02:25:10 blue-nbjupyterhub4 root[12388] DEBUG Buy at: $104.00\n"
     ]
    },
    {
     "name": "stdout",
     "output_type": "stream",
     "text": [
      "1/1 [==============================] - 0s 14ms/step\n"
     ]
    },
    {
     "name": "stderr",
     "output_type": "stream",
     "text": [
      "2023-12-20 02:25:10 blue-nbjupyterhub4 root[12388] DEBUG Sell at: $201.00 | Position: +$152.00\n"
     ]
    },
    {
     "name": "stdout",
     "output_type": "stream",
     "text": [
      "1/1 [==============================] - 0s 14ms/step\n"
     ]
    },
    {
     "name": "stderr",
     "output_type": "stream",
     "text": [
      "2023-12-20 02:25:10 blue-nbjupyterhub4 root[12388] DEBUG Sell at: $403.00 | Position: -$22.00\n"
     ]
    },
    {
     "name": "stdout",
     "output_type": "stream",
     "text": [
      "1/1 [==============================] - 0s 14ms/step\n"
     ]
    },
    {
     "name": "stderr",
     "output_type": "stream",
     "text": [
      "2023-12-20 02:25:10 blue-nbjupyterhub4 root[12388] DEBUG Sell at: $302.00 | Position: -$466.00\n"
     ]
    },
    {
     "name": "stdout",
     "output_type": "stream",
     "text": [
      "1/1 [==============================] - 0s 14ms/step\n"
     ]
    },
    {
     "name": "stderr",
     "output_type": "stream",
     "text": [
      "2023-12-20 02:25:10 blue-nbjupyterhub4 root[12388] DEBUG Sell at: $707.00 | Position: -$287.00\n"
     ]
    },
    {
     "name": "stdout",
     "output_type": "stream",
     "text": [
      "1/1 [==============================] - 0s 14ms/step\n"
     ]
    },
    {
     "name": "stderr",
     "output_type": "stream",
     "text": [
      "2023-12-20 02:25:10 blue-nbjupyterhub4 root[12388] DEBUG Sell at: $912.00 | Position: +$189.00\n"
     ]
    },
    {
     "name": "stdout",
     "output_type": "stream",
     "text": [
      "1/1 [==============================] - 0s 14ms/step\n"
     ]
    },
    {
     "name": "stderr",
     "output_type": "stream",
     "text": [
      "2023-12-20 02:25:10 blue-nbjupyterhub4 root[12388] DEBUG Sell at: $129.00 | Position: -$867.00\n"
     ]
    },
    {
     "name": "stdout",
     "output_type": "stream",
     "text": [
      "1/1 [==============================] - 0s 14ms/step\n"
     ]
    },
    {
     "name": "stderr",
     "output_type": "stream",
     "text": [
      "2023-12-20 02:25:10 blue-nbjupyterhub4 root[12388] DEBUG Buy at: $1019.00\n"
     ]
    },
    {
     "name": "stdout",
     "output_type": "stream",
     "text": [
      "1/1 [==============================] - 0s 14ms/step\n"
     ]
    },
    {
     "name": "stderr",
     "output_type": "stream",
     "text": [
      "2023-12-20 02:25:11 blue-nbjupyterhub4 root[12388] DEBUG Buy at: $149.00\n"
     ]
    },
    {
     "name": "stdout",
     "output_type": "stream",
     "text": [
      "1/1 [==============================] - 0s 14ms/step\n"
     ]
    },
    {
     "name": "stderr",
     "output_type": "stream",
     "text": [
      "2023-12-20 02:25:11 blue-nbjupyterhub4 root[12388] DEBUG Sell at: $776.00 | Position: +$106.00\n"
     ]
    },
    {
     "name": "stdout",
     "output_type": "stream",
     "text": [
      "1/1 [==============================] - 0s 14ms/step\n"
     ]
    },
    {
     "name": "stderr",
     "output_type": "stream",
     "text": [
      "2023-12-20 02:25:11 blue-nbjupyterhub4 root[12388] DEBUG Sell at: $835.00 | Position: +$213.00\n"
     ]
    },
    {
     "name": "stdout",
     "output_type": "stream",
     "text": [
      "1/1 [==============================] - 0s 14ms/step\n"
     ]
    },
    {
     "name": "stderr",
     "output_type": "stream",
     "text": [
      "2023-12-20 02:25:11 blue-nbjupyterhub4 root[12388] DEBUG Sell at: $889.00 | Position: +$594.00\n"
     ]
    },
    {
     "name": "stdout",
     "output_type": "stream",
     "text": [
      "1/1 [==============================] - 0s 14ms/step\n"
     ]
    },
    {
     "name": "stderr",
     "output_type": "stream",
     "text": [
      "2023-12-20 02:25:11 blue-nbjupyterhub4 root[12388] DEBUG Buy at: $109.00\n"
     ]
    },
    {
     "name": "stdout",
     "output_type": "stream",
     "text": [
      "1/1 [==============================] - 0s 14ms/step\n"
     ]
    },
    {
     "name": "stderr",
     "output_type": "stream",
     "text": [
      "2023-12-20 02:25:11 blue-nbjupyterhub4 root[12388] DEBUG Sell at: $529.00 | Position: +$425.00\n"
     ]
    },
    {
     "name": "stdout",
     "output_type": "stream",
     "text": [
      "1/1 [==============================] - 0s 14ms/step\n"
     ]
    },
    {
     "name": "stderr",
     "output_type": "stream",
     "text": [
      "2023-12-20 02:25:11 blue-nbjupyterhub4 root[12388] DEBUG Sell at: $618.00 | Position: -$401.00\n"
     ]
    },
    {
     "name": "stdout",
     "output_type": "stream",
     "text": [
      "1/1 [==============================] - 0s 14ms/step\n"
     ]
    },
    {
     "name": "stderr",
     "output_type": "stream",
     "text": [
      "2023-12-20 02:25:11 blue-nbjupyterhub4 root[12388] DEBUG Sell at: $482.00 | Position: +$333.00\n"
     ]
    },
    {
     "name": "stdout",
     "output_type": "stream",
     "text": [
      "1/1 [==============================] - 0s 14ms/step\n"
     ]
    },
    {
     "name": "stderr",
     "output_type": "stream",
     "text": [
      "2023-12-20 02:25:11 blue-nbjupyterhub4 root[12388] DEBUG Sell at: $447.00 | Position: +$338.00\n"
     ]
    },
    {
     "name": "stdout",
     "output_type": "stream",
     "text": [
      "1/1 [==============================] - 0s 14ms/step\n"
     ]
    },
    {
     "name": "stderr",
     "output_type": "stream",
     "text": [
      "2023-12-20 02:25:11 blue-nbjupyterhub4 root[12388] DEBUG Buy at: $131.00\n"
     ]
    },
    {
     "name": "stdout",
     "output_type": "stream",
     "text": [
      "1/1 [==============================] - 0s 14ms/step\n"
     ]
    },
    {
     "name": "stderr",
     "output_type": "stream",
     "text": [
      "2023-12-20 02:25:11 blue-nbjupyterhub4 root[12388] DEBUG Sell at: $439.00 | Position: +$308.00\n"
     ]
    },
    {
     "name": "stdout",
     "output_type": "stream",
     "text": [
      "1/1 [==============================] - 0s 14ms/step\n"
     ]
    },
    {
     "name": "stderr",
     "output_type": "stream",
     "text": [
      "2023-12-20 02:25:11 blue-nbjupyterhub4 root[12388] DEBUG Buy at: $389.00\n"
     ]
    },
    {
     "name": "stdout",
     "output_type": "stream",
     "text": [
      "1/1 [==============================] - 0s 15ms/step\n"
     ]
    },
    {
     "name": "stderr",
     "output_type": "stream",
     "text": [
      "2023-12-20 02:25:11 blue-nbjupyterhub4 root[12388] DEBUG Sell at: $892.00 | Position: +$503.00\n"
     ]
    },
    {
     "name": "stdout",
     "output_type": "stream",
     "text": [
      "1/1 [==============================] - 0s 16ms/step\n",
      "1/1 [==============================] - 0s 16ms/step\n",
      "1/1 [==============================] - 0s 15ms/step\n",
      "1/1 [==============================] - 0s 15ms/step\n"
     ]
    },
    {
     "name": "stderr",
     "output_type": "stream",
     "text": [
      "2023-12-20 02:25:11 blue-nbjupyterhub4 root[12388] DEBUG Buy at: $312.00\n"
     ]
    },
    {
     "name": "stdout",
     "output_type": "stream",
     "text": [
      "1/1 [==============================] - 0s 15ms/step\n"
     ]
    },
    {
     "name": "stderr",
     "output_type": "stream",
     "text": [
      "2023-12-20 02:25:11 blue-nbjupyterhub4 root[12388] DEBUG Sell at: $929.00 | Position: +$617.00\n"
     ]
    },
    {
     "name": "stdout",
     "output_type": "stream",
     "text": [
      "1/1 [==============================] - 0s 14ms/step\n",
      "1/1 [==============================] - 0s 15ms/step\n"
     ]
    },
    {
     "name": "stderr",
     "output_type": "stream",
     "text": [
      "2023-12-20 02:25:11 blue-nbjupyterhub4 root[12388] DEBUG Buy at: $234.00\n"
     ]
    },
    {
     "name": "stdout",
     "output_type": "stream",
     "text": [
      "1/1 [==============================] - 0s 18ms/step\n"
     ]
    },
    {
     "name": "stderr",
     "output_type": "stream",
     "text": [
      "2023-12-20 02:25:11 blue-nbjupyterhub4 root[12388] DEBUG Sell at: $510.00 | Position: +$276.00\n"
     ]
    },
    {
     "name": "stdout",
     "output_type": "stream",
     "text": [
      "1/1 [==============================] - 0s 15ms/step\n"
     ]
    },
    {
     "name": "stderr",
     "output_type": "stream",
     "text": [
      "2023-12-20 02:25:12 blue-nbjupyterhub4 root[12388] DEBUG Buy at: $368.00\n"
     ]
    },
    {
     "name": "stdout",
     "output_type": "stream",
     "text": [
      "1/1 [==============================] - 0s 16ms/step\n"
     ]
    },
    {
     "name": "stderr",
     "output_type": "stream",
     "text": [
      "2023-12-20 02:25:12 blue-nbjupyterhub4 root[12388] DEBUG Sell at: $951.00 | Position: +$583.00\n"
     ]
    },
    {
     "name": "stdout",
     "output_type": "stream",
     "text": [
      "1/1 [==============================] - 0s 16ms/step\n"
     ]
    },
    {
     "name": "stderr",
     "output_type": "stream",
     "text": [
      "2023-12-20 02:25:12 blue-nbjupyterhub4 root[12388] DEBUG Buy at: $992.00\n"
     ]
    },
    {
     "name": "stdout",
     "output_type": "stream",
     "text": [
      "1/1 [==============================] - 0s 15ms/step\n"
     ]
    },
    {
     "name": "stderr",
     "output_type": "stream",
     "text": [
      "2023-12-20 02:25:12 blue-nbjupyterhub4 root[12388] DEBUG Buy at: $589.00\n"
     ]
    },
    {
     "name": "stdout",
     "output_type": "stream",
     "text": [
      "1/1 [==============================] - 0s 15ms/step\n"
     ]
    },
    {
     "name": "stderr",
     "output_type": "stream",
     "text": [
      "2023-12-20 02:25:12 blue-nbjupyterhub4 root[12388] DEBUG Sell at: $894.00 | Position: -$98.00\n"
     ]
    },
    {
     "name": "stdout",
     "output_type": "stream",
     "text": [
      "1/1 [==============================] - 0s 15ms/step\n"
     ]
    },
    {
     "name": "stderr",
     "output_type": "stream",
     "text": [
      "2023-12-20 02:25:12 blue-nbjupyterhub4 root[12388] DEBUG Sell at: $596.00 | Position: +$7.00\n"
     ]
    },
    {
     "name": "stdout",
     "output_type": "stream",
     "text": [
      "1/1 [==============================] - 0s 15ms/step\n"
     ]
    },
    {
     "name": "stderr",
     "output_type": "stream",
     "text": [
      "2023-12-20 02:25:12 blue-nbjupyterhub4 root[12388] DEBUG Buy at: $143.00\n"
     ]
    },
    {
     "name": "stdout",
     "output_type": "stream",
     "text": [
      "1/1 [==============================] - 0s 16ms/step\n"
     ]
    },
    {
     "name": "stderr",
     "output_type": "stream",
     "text": [
      "2023-12-20 02:25:12 blue-nbjupyterhub4 root[12388] DEBUG Sell at: $998.00 | Position: +$855.00\n"
     ]
    },
    {
     "name": "stdout",
     "output_type": "stream",
     "text": [
      "1/1 [==============================] - 0s 16ms/step\n"
     ]
    },
    {
     "name": "stderr",
     "output_type": "stream",
     "text": [
      "2023-12-20 02:25:12 blue-nbjupyterhub4 root[12388] DEBUG Buy at: $479.00\n"
     ]
    },
    {
     "name": "stdout",
     "output_type": "stream",
     "text": [
      "1/1 [==============================] - 0s 16ms/step\n"
     ]
    },
    {
     "name": "stderr",
     "output_type": "stream",
     "text": [
      "2023-12-20 02:25:12 blue-nbjupyterhub4 root[12388] DEBUG Buy at: $300.00\n"
     ]
    },
    {
     "name": "stdout",
     "output_type": "stream",
     "text": [
      "1/1 [==============================] - 0s 16ms/step\n"
     ]
    },
    {
     "name": "stderr",
     "output_type": "stream",
     "text": [
      "2023-12-20 02:25:12 blue-nbjupyterhub4 root[12388] DEBUG Buy at: $226.00\n"
     ]
    },
    {
     "name": "stdout",
     "output_type": "stream",
     "text": [
      "1/1 [==============================] - 0s 16ms/step\n"
     ]
    },
    {
     "name": "stderr",
     "output_type": "stream",
     "text": [
      "2023-12-20 02:25:12 blue-nbjupyterhub4 root[12388] DEBUG Buy at: $597.00\n"
     ]
    },
    {
     "name": "stdout",
     "output_type": "stream",
     "text": [
      "1/1 [==============================] - 0s 16ms/step\n"
     ]
    },
    {
     "name": "stderr",
     "output_type": "stream",
     "text": [
      "2023-12-20 02:25:12 blue-nbjupyterhub4 root[12388] DEBUG Buy at: $673.00\n"
     ]
    },
    {
     "name": "stdout",
     "output_type": "stream",
     "text": [
      "1/1 [==============================] - 0s 15ms/step\n"
     ]
    },
    {
     "name": "stderr",
     "output_type": "stream",
     "text": [
      "2023-12-20 02:25:12 blue-nbjupyterhub4 root[12388] DEBUG Buy at: $123.00\n"
     ]
    },
    {
     "name": "stdout",
     "output_type": "stream",
     "text": [
      "1/1 [==============================] - 0s 16ms/step\n"
     ]
    },
    {
     "name": "stderr",
     "output_type": "stream",
     "text": [
      "2023-12-20 02:25:12 blue-nbjupyterhub4 root[12388] DEBUG Buy at: $564.00\n"
     ]
    },
    {
     "name": "stdout",
     "output_type": "stream",
     "text": [
      "1/1 [==============================] - 0s 16ms/step\n"
     ]
    },
    {
     "name": "stderr",
     "output_type": "stream",
     "text": [
      "2023-12-20 02:25:12 blue-nbjupyterhub4 root[12388] DEBUG Buy at: $737.00\n"
     ]
    },
    {
     "name": "stdout",
     "output_type": "stream",
     "text": [
      "1/1 [==============================] - 0s 16ms/step\n"
     ]
    },
    {
     "name": "stderr",
     "output_type": "stream",
     "text": [
      "2023-12-20 02:25:12 blue-nbjupyterhub4 root[12388] DEBUG Sell at: $96.00 | Position: -$383.00\n"
     ]
    },
    {
     "name": "stdout",
     "output_type": "stream",
     "text": [
      "1/1 [==============================] - 0s 15ms/step\n"
     ]
    },
    {
     "name": "stderr",
     "output_type": "stream",
     "text": [
      "2023-12-20 02:25:12 blue-nbjupyterhub4 root[12388] DEBUG Sell at: $969.00 | Position: +$669.00\n"
     ]
    },
    {
     "name": "stdout",
     "output_type": "stream",
     "text": [
      "1/1 [==============================] - 0s 16ms/step\n"
     ]
    },
    {
     "name": "stderr",
     "output_type": "stream",
     "text": [
      "2023-12-20 02:25:12 blue-nbjupyterhub4 root[12388] DEBUG Buy at: $850.00\n"
     ]
    },
    {
     "name": "stdout",
     "output_type": "stream",
     "text": [
      "1/1 [==============================] - 0s 15ms/step\n"
     ]
    },
    {
     "name": "stderr",
     "output_type": "stream",
     "text": [
      "2023-12-20 02:25:13 blue-nbjupyterhub4 root[12388] DEBUG Buy at: $640.00\n"
     ]
    },
    {
     "name": "stdout",
     "output_type": "stream",
     "text": [
      "1/1 [==============================] - 0s 14ms/step\n"
     ]
    },
    {
     "name": "stderr",
     "output_type": "stream",
     "text": [
      "2023-12-20 02:25:13 blue-nbjupyterhub4 root[12388] DEBUG Sell at: $688.00 | Position: +$462.00\n"
     ]
    },
    {
     "name": "stdout",
     "output_type": "stream",
     "text": [
      "1/1 [==============================] - 0s 14ms/step\n"
     ]
    },
    {
     "name": "stderr",
     "output_type": "stream",
     "text": [
      "2023-12-20 02:25:13 blue-nbjupyterhub4 root[12388] DEBUG Buy at: $585.00\n"
     ]
    },
    {
     "name": "stdout",
     "output_type": "stream",
     "text": [
      "1/1 [==============================] - 0s 15ms/step\n"
     ]
    },
    {
     "name": "stderr",
     "output_type": "stream",
     "text": [
      "2023-12-20 02:25:13 blue-nbjupyterhub4 root[12388] DEBUG Sell at: $652.00 | Position: +$55.00\n"
     ]
    },
    {
     "name": "stdout",
     "output_type": "stream",
     "text": [
      "1/1 [==============================] - 0s 14ms/step\n"
     ]
    },
    {
     "name": "stderr",
     "output_type": "stream",
     "text": [
      "2023-12-20 02:25:13 blue-nbjupyterhub4 root[12388] DEBUG Sell at: $675.00 | Position: +$2.00\n"
     ]
    },
    {
     "name": "stdout",
     "output_type": "stream",
     "text": [
      "1/1 [==============================] - 0s 14ms/step\n"
     ]
    },
    {
     "name": "stderr",
     "output_type": "stream",
     "text": [
      "2023-12-20 02:25:13 blue-nbjupyterhub4 root[12388] DEBUG Sell at: $678.00 | Position: +$555.00\n"
     ]
    },
    {
     "name": "stdout",
     "output_type": "stream",
     "text": [
      "1/1 [==============================] - 0s 15ms/step\n"
     ]
    },
    {
     "name": "stderr",
     "output_type": "stream",
     "text": [
      "2023-12-20 02:25:13 blue-nbjupyterhub4 root[12388] DEBUG Buy at: $289.00\n"
     ]
    },
    {
     "name": "stdout",
     "output_type": "stream",
     "text": [
      "1/1 [==============================] - 0s 15ms/step\n"
     ]
    },
    {
     "name": "stderr",
     "output_type": "stream",
     "text": [
      "2023-12-20 02:25:13 blue-nbjupyterhub4 root[12388] DEBUG Buy at: $860.00\n"
     ]
    },
    {
     "name": "stdout",
     "output_type": "stream",
     "text": [
      "1/1 [==============================] - 0s 14ms/step\n"
     ]
    },
    {
     "name": "stderr",
     "output_type": "stream",
     "text": [
      "2023-12-20 02:25:13 blue-nbjupyterhub4 root[12388] DEBUG Buy at: $155.00\n"
     ]
    },
    {
     "name": "stdout",
     "output_type": "stream",
     "text": [
      "1/1 [==============================] - 0s 15ms/step\n"
     ]
    },
    {
     "name": "stderr",
     "output_type": "stream",
     "text": [
      "2023-12-20 02:25:13 blue-nbjupyterhub4 root[12388] DEBUG Sell at: $751.00 | Position: +$187.00\n"
     ]
    },
    {
     "name": "stdout",
     "output_type": "stream",
     "text": [
      "1/1 [==============================] - 0s 15ms/step\n"
     ]
    },
    {
     "name": "stderr",
     "output_type": "stream",
     "text": [
      "2023-12-20 02:25:13 blue-nbjupyterhub4 root[12388] DEBUG Sell at: $878.00 | Position: +$141.00\n"
     ]
    },
    {
     "name": "stdout",
     "output_type": "stream",
     "text": [
      "1/1 [==============================] - 0s 15ms/step\n"
     ]
    },
    {
     "name": "stderr",
     "output_type": "stream",
     "text": [
      "2023-12-20 02:25:13 blue-nbjupyterhub4 root[12388] DEBUG Buy at: $436.00\n"
     ]
    },
    {
     "name": "stdout",
     "output_type": "stream",
     "text": [
      "1/1 [==============================] - 0s 18ms/step\n"
     ]
    },
    {
     "name": "stderr",
     "output_type": "stream",
     "text": [
      "2023-12-20 02:25:13 blue-nbjupyterhub4 root[12388] DEBUG Sell at: $855.00 | Position: +$5.00\n"
     ]
    },
    {
     "name": "stdout",
     "output_type": "stream",
     "text": [
      "1/1 [==============================] - 0s 15ms/step\n"
     ]
    },
    {
     "name": "stderr",
     "output_type": "stream",
     "text": [
      "2023-12-20 02:25:13 blue-nbjupyterhub4 root[12388] DEBUG Sell at: $938.00 | Position: +$298.00\n"
     ]
    },
    {
     "name": "stdout",
     "output_type": "stream",
     "text": [
      "1/1 [==============================] - 0s 15ms/step\n"
     ]
    },
    {
     "name": "stderr",
     "output_type": "stream",
     "text": [
      "2023-12-20 02:25:13 blue-nbjupyterhub4 root[12388] DEBUG Sell at: $554.00 | Position: -$31.00\n"
     ]
    },
    {
     "name": "stdout",
     "output_type": "stream",
     "text": [
      "1/1 [==============================] - 0s 14ms/step\n"
     ]
    },
    {
     "name": "stderr",
     "output_type": "stream",
     "text": [
      "2023-12-20 02:25:13 blue-nbjupyterhub4 root[12388] DEBUG Buy at: $773.00\n"
     ]
    },
    {
     "name": "stdout",
     "output_type": "stream",
     "text": [
      "1/1 [==============================] - 0s 16ms/step\n"
     ]
    },
    {
     "name": "stderr",
     "output_type": "stream",
     "text": [
      "2023-12-20 02:25:13 blue-nbjupyterhub4 root[12388] DEBUG Buy at: $719.00\n"
     ]
    },
    {
     "name": "stdout",
     "output_type": "stream",
     "text": [
      "1/1 [==============================] - 0s 16ms/step\n"
     ]
    },
    {
     "name": "stderr",
     "output_type": "stream",
     "text": [
      "2023-12-20 02:25:13 blue-nbjupyterhub4 root[12388] DEBUG Sell at: $1065.00 | Position: +$776.00\n"
     ]
    },
    {
     "name": "stdout",
     "output_type": "stream",
     "text": [
      "1/1 [==============================] - 0s 15ms/step\n"
     ]
    },
    {
     "name": "stderr",
     "output_type": "stream",
     "text": [
      "2023-12-20 02:25:13 blue-nbjupyterhub4 root[12388] DEBUG Sell at: $747.00 | Position: -$113.00\n"
     ]
    },
    {
     "name": "stdout",
     "output_type": "stream",
     "text": [
      "1/1 [==============================] - 0s 15ms/step\n"
     ]
    },
    {
     "name": "stderr",
     "output_type": "stream",
     "text": [
      "2023-12-20 02:25:13 blue-nbjupyterhub4 root[12388] DEBUG Sell at: $947.00 | Position: +$792.00\n"
     ]
    },
    {
     "name": "stdout",
     "output_type": "stream",
     "text": [
      "1/1 [==============================] - 0s 15ms/step\n"
     ]
    },
    {
     "name": "stderr",
     "output_type": "stream",
     "text": [
      "2023-12-20 02:25:14 blue-nbjupyterhub4 root[12388] DEBUG Sell at: $304.00 | Position: -$132.00\n"
     ]
    },
    {
     "name": "stdout",
     "output_type": "stream",
     "text": [
      "1/1 [==============================] - 0s 19ms/step\n"
     ]
    },
    {
     "name": "stderr",
     "output_type": "stream",
     "text": [
      "2023-12-20 02:25:14 blue-nbjupyterhub4 root[12388] DEBUG Sell at: $120.00 | Position: -$653.00\n"
     ]
    },
    {
     "name": "stdout",
     "output_type": "stream",
     "text": [
      "1/1 [==============================] - 0s 15ms/step\n"
     ]
    },
    {
     "name": "stderr",
     "output_type": "stream",
     "text": [
      "2023-12-20 02:25:14 blue-nbjupyterhub4 root[12388] DEBUG Buy at: $453.00\n"
     ]
    },
    {
     "name": "stdout",
     "output_type": "stream",
     "text": [
      "1/1 [==============================] - 0s 14ms/step\n"
     ]
    },
    {
     "name": "stderr",
     "output_type": "stream",
     "text": [
      "2023-12-20 02:25:14 blue-nbjupyterhub4 root[12388] DEBUG Buy at: $968.00\n"
     ]
    },
    {
     "name": "stdout",
     "output_type": "stream",
     "text": [
      "1/1 [==============================] - 0s 15ms/step\n"
     ]
    },
    {
     "name": "stderr",
     "output_type": "stream",
     "text": [
      "2023-12-20 02:25:14 blue-nbjupyterhub4 root[12388] DEBUG Buy at: $809.00\n"
     ]
    },
    {
     "name": "stdout",
     "output_type": "stream",
     "text": [
      "1/1 [==============================] - 0s 15ms/step\n"
     ]
    },
    {
     "name": "stderr",
     "output_type": "stream",
     "text": [
      "2023-12-20 02:25:14 blue-nbjupyterhub4 root[12388] DEBUG Buy at: $487.00\n"
     ]
    },
    {
     "name": "stdout",
     "output_type": "stream",
     "text": [
      "1/1 [==============================] - 0s 14ms/step\n"
     ]
    },
    {
     "name": "stderr",
     "output_type": "stream",
     "text": [
      "2023-12-20 02:25:14 blue-nbjupyterhub4 root[12388] DEBUG Buy at: $965.00\n"
     ]
    },
    {
     "name": "stdout",
     "output_type": "stream",
     "text": [
      "1/1 [==============================] - 0s 14ms/step\n"
     ]
    },
    {
     "name": "stderr",
     "output_type": "stream",
     "text": [
      "2023-12-20 02:25:14 blue-nbjupyterhub4 root[12388] DEBUG Sell at: $1043.00 | Position: +$324.00\n"
     ]
    },
    {
     "name": "stdout",
     "output_type": "stream",
     "text": [
      "1/1 [==============================] - 0s 15ms/step\n"
     ]
    },
    {
     "name": "stderr",
     "output_type": "stream",
     "text": [
      "2023-12-20 02:25:14 blue-nbjupyterhub4 root[12388] DEBUG Buy at: $412.00\n"
     ]
    },
    {
     "name": "stdout",
     "output_type": "stream",
     "text": [
      "1/1 [==============================] - 0s 16ms/step\n"
     ]
    },
    {
     "name": "stderr",
     "output_type": "stream",
     "text": [
      "2023-12-20 02:25:14 blue-nbjupyterhub4 root[12388] DEBUG Buy at: $330.00\n"
     ]
    },
    {
     "name": "stdout",
     "output_type": "stream",
     "text": [
      "1/1 [==============================] - 0s 15ms/step\n"
     ]
    },
    {
     "name": "stderr",
     "output_type": "stream",
     "text": [
      "2023-12-20 02:25:14 blue-nbjupyterhub4 root[12388] DEBUG Buy at: $819.00\n"
     ]
    },
    {
     "name": "stdout",
     "output_type": "stream",
     "text": [
      "1/1 [==============================] - 0s 15ms/step\n"
     ]
    },
    {
     "name": "stderr",
     "output_type": "stream",
     "text": [
      "2023-12-20 02:25:14 blue-nbjupyterhub4 root[12388] DEBUG Buy at: $440.00\n"
     ]
    },
    {
     "name": "stdout",
     "output_type": "stream",
     "text": [
      "1/1 [==============================] - 0s 15ms/step\n"
     ]
    },
    {
     "name": "stderr",
     "output_type": "stream",
     "text": [
      "2023-12-20 02:25:14 blue-nbjupyterhub4 root[12388] DEBUG Sell at: $521.00 | Position: +$68.00\n"
     ]
    },
    {
     "name": "stdout",
     "output_type": "stream",
     "text": [
      "1/1 [==============================] - 0s 14ms/step\n"
     ]
    },
    {
     "name": "stderr",
     "output_type": "stream",
     "text": [
      "2023-12-20 02:25:14 blue-nbjupyterhub4 root[12388] DEBUG Sell at: $616.00 | Position: -$352.00\n"
     ]
    },
    {
     "name": "stdout",
     "output_type": "stream",
     "text": [
      "1/1 [==============================] - 0s 15ms/step\n"
     ]
    },
    {
     "name": "stderr",
     "output_type": "stream",
     "text": [
      "2023-12-20 02:25:14 blue-nbjupyterhub4 root[12388] DEBUG Sell at: $851.00 | Position: +$42.00\n"
     ]
    },
    {
     "name": "stdout",
     "output_type": "stream",
     "text": [
      "1/1 [==============================] - 0s 15ms/step\n"
     ]
    },
    {
     "name": "stderr",
     "output_type": "stream",
     "text": [
      "2023-12-20 02:25:14 blue-nbjupyterhub4 root[12388] DEBUG Buy at: $745.00\n"
     ]
    },
    {
     "name": "stdout",
     "output_type": "stream",
     "text": [
      "1/1 [==============================] - 0s 15ms/step\n"
     ]
    },
    {
     "name": "stderr",
     "output_type": "stream",
     "text": [
      "2023-12-20 02:25:14 blue-nbjupyterhub4 root[12388] DEBUG Buy at: $573.00\n"
     ]
    },
    {
     "name": "stdout",
     "output_type": "stream",
     "text": [
      "1/1 [==============================] - 0s 15ms/step\n"
     ]
    },
    {
     "name": "stderr",
     "output_type": "stream",
     "text": [
      "2023-12-20 02:25:14 blue-nbjupyterhub4 root[12388] DEBUG Buy at: $1041.00\n"
     ]
    },
    {
     "name": "stdout",
     "output_type": "stream",
     "text": [
      "1/1 [==============================] - 0s 16ms/step\n"
     ]
    },
    {
     "name": "stderr",
     "output_type": "stream",
     "text": [
      "2023-12-20 02:25:14 blue-nbjupyterhub4 root[12388] DEBUG Buy at: $127.00\n"
     ]
    },
    {
     "name": "stdout",
     "output_type": "stream",
     "text": [
      "1/1 [==============================] - 0s 16ms/step\n"
     ]
    },
    {
     "name": "stderr",
     "output_type": "stream",
     "text": [
      "2023-12-20 02:25:14 blue-nbjupyterhub4 root[12388] DEBUG Sell at: $1006.00 | Position: +$519.00\n"
     ]
    },
    {
     "name": "stdout",
     "output_type": "stream",
     "text": [
      "1/1 [==============================] - 0s 15ms/step\n"
     ]
    },
    {
     "name": "stderr",
     "output_type": "stream",
     "text": [
      "2023-12-20 02:25:15 blue-nbjupyterhub4 root[12388] DEBUG Buy at: $252.00\n"
     ]
    },
    {
     "name": "stdout",
     "output_type": "stream",
     "text": [
      "1/1 [==============================] - 0s 15ms/step\n"
     ]
    },
    {
     "name": "stderr",
     "output_type": "stream",
     "text": [
      "2023-12-20 02:25:15 blue-nbjupyterhub4 root[12388] DEBUG Buy at: $936.00\n"
     ]
    },
    {
     "name": "stdout",
     "output_type": "stream",
     "text": [
      "1/1 [==============================] - 0s 16ms/step\n"
     ]
    },
    {
     "name": "stderr",
     "output_type": "stream",
     "text": [
      "2023-12-20 02:25:15 blue-nbjupyterhub4 root[12388] DEBUG Buy at: $650.00\n"
     ]
    },
    {
     "name": "stdout",
     "output_type": "stream",
     "text": [
      "1/1 [==============================] - 0s 15ms/step\n"
     ]
    },
    {
     "name": "stderr",
     "output_type": "stream",
     "text": [
      "2023-12-20 02:25:15 blue-nbjupyterhub4 root[12388] DEBUG Buy at: $473.00\n"
     ]
    },
    {
     "name": "stdout",
     "output_type": "stream",
     "text": [
      "1/1 [==============================] - 0s 15ms/step\n"
     ]
    },
    {
     "name": "stderr",
     "output_type": "stream",
     "text": [
      "2023-12-20 02:25:15 blue-nbjupyterhub4 root[12388] DEBUG Buy at: $507.00\n"
     ]
    },
    {
     "name": "stdout",
     "output_type": "stream",
     "text": [
      "1/1 [==============================] - 0s 16ms/step\n"
     ]
    },
    {
     "name": "stderr",
     "output_type": "stream",
     "text": [
      "2023-12-20 02:25:15 blue-nbjupyterhub4 root[12388] DEBUG Buy at: $835.00\n"
     ]
    },
    {
     "name": "stdout",
     "output_type": "stream",
     "text": [
      "1/1 [==============================] - 0s 16ms/step\n"
     ]
    },
    {
     "name": "stderr",
     "output_type": "stream",
     "text": [
      "2023-12-20 02:25:15 blue-nbjupyterhub4 root[12388] DEBUG Buy at: $1080.00\n"
     ]
    },
    {
     "name": "stdout",
     "output_type": "stream",
     "text": [
      "1/1 [==============================] - 0s 15ms/step\n"
     ]
    },
    {
     "name": "stderr",
     "output_type": "stream",
     "text": [
      "2023-12-20 02:25:15 blue-nbjupyterhub4 root[12388] DEBUG Buy at: $225.00\n"
     ]
    },
    {
     "name": "stdout",
     "output_type": "stream",
     "text": [
      "1/1 [==============================] - 0s 15ms/step\n"
     ]
    },
    {
     "name": "stderr",
     "output_type": "stream",
     "text": [
      "2023-12-20 02:25:15 blue-nbjupyterhub4 root[12388] DEBUG Buy at: $1072.00\n"
     ]
    },
    {
     "name": "stdout",
     "output_type": "stream",
     "text": [
      "1/1 [==============================] - 0s 15ms/step\n"
     ]
    },
    {
     "name": "stderr",
     "output_type": "stream",
     "text": [
      "2023-12-20 02:25:15 blue-nbjupyterhub4 root[12388] DEBUG Buy at: $1041.00\n"
     ]
    },
    {
     "name": "stdout",
     "output_type": "stream",
     "text": [
      "1/1 [==============================] - 0s 16ms/step\n"
     ]
    },
    {
     "name": "stderr",
     "output_type": "stream",
     "text": [
      "2023-12-20 02:25:15 blue-nbjupyterhub4 root[12388] DEBUG Sell at: $164.00 | Position: -$801.00\n"
     ]
    },
    {
     "name": "stdout",
     "output_type": "stream",
     "text": [
      "1/1 [==============================] - 0s 15ms/step\n"
     ]
    },
    {
     "name": "stderr",
     "output_type": "stream",
     "text": [
      "2023-12-20 02:25:15 blue-nbjupyterhub4 root[12388] DEBUG Buy at: $315.00\n"
     ]
    },
    {
     "name": "stdout",
     "output_type": "stream",
     "text": [
      "1/1 [==============================] - 0s 15ms/step\n"
     ]
    },
    {
     "name": "stderr",
     "output_type": "stream",
     "text": [
      "2023-12-20 02:25:15 blue-nbjupyterhub4 root[12388] DEBUG Buy at: $741.00\n"
     ]
    },
    {
     "name": "stdout",
     "output_type": "stream",
     "text": [
      "1/1 [==============================] - 0s 15ms/step\n"
     ]
    },
    {
     "name": "stderr",
     "output_type": "stream",
     "text": [
      "2023-12-20 02:25:15 blue-nbjupyterhub4 root[12388] DEBUG Sell at: $592.00 | Position: +$180.00\n"
     ]
    },
    {
     "name": "stdout",
     "output_type": "stream",
     "text": [
      "1/1 [==============================] - 0s 15ms/step\n"
     ]
    },
    {
     "name": "stderr",
     "output_type": "stream",
     "text": [
      "2023-12-20 02:25:15 blue-nbjupyterhub4 root[12388] DEBUG Buy at: $420.00\n"
     ]
    },
    {
     "name": "stdout",
     "output_type": "stream",
     "text": [
      "1/1 [==============================] - 0s 15ms/step\n"
     ]
    },
    {
     "name": "stderr",
     "output_type": "stream",
     "text": [
      "2023-12-20 02:25:15 blue-nbjupyterhub4 root[12388] DEBUG Buy at: $264.00\n"
     ]
    },
    {
     "name": "stdout",
     "output_type": "stream",
     "text": [
      "1/1 [==============================] - 0s 15ms/step\n",
      "1/1 [==============================] - 0s 15ms/step\n"
     ]
    },
    {
     "name": "stderr",
     "output_type": "stream",
     "text": [
      "2023-12-20 02:25:15 blue-nbjupyterhub4 root[12388] DEBUG Buy at: $655.00\n"
     ]
    },
    {
     "name": "stdout",
     "output_type": "stream",
     "text": [
      "1/1 [==============================] - 0s 15ms/step\n"
     ]
    },
    {
     "name": "stderr",
     "output_type": "stream",
     "text": [
      "2023-12-20 02:25:15 blue-nbjupyterhub4 root[12388] DEBUG Buy at: $384.00\n"
     ]
    },
    {
     "name": "stdout",
     "output_type": "stream",
     "text": [
      "1/1 [==============================] - 0s 15ms/step\n"
     ]
    },
    {
     "name": "stderr",
     "output_type": "stream",
     "text": [
      "2023-12-20 02:25:15 blue-nbjupyterhub4 root[12388] DEBUG Buy at: $727.00\n"
     ]
    },
    {
     "name": "stdout",
     "output_type": "stream",
     "text": [
      "1/1 [==============================] - 0s 15ms/step\n"
     ]
    },
    {
     "name": "stderr",
     "output_type": "stream",
     "text": [
      "2023-12-20 02:25:16 blue-nbjupyterhub4 root[12388] DEBUG Buy at: $387.00\n"
     ]
    },
    {
     "name": "stdout",
     "output_type": "stream",
     "text": [
      "1/1 [==============================] - 0s 15ms/step\n"
     ]
    },
    {
     "name": "stderr",
     "output_type": "stream",
     "text": [
      "2023-12-20 02:25:16 blue-nbjupyterhub4 root[12388] DEBUG Buy at: $1076.00\n"
     ]
    },
    {
     "name": "stdout",
     "output_type": "stream",
     "text": [
      "1/1 [==============================] - 0s 15ms/step\n"
     ]
    },
    {
     "name": "stderr",
     "output_type": "stream",
     "text": [
      "2023-12-20 02:25:16 blue-nbjupyterhub4 root[12388] DEBUG Buy at: $807.00\n"
     ]
    },
    {
     "name": "stdout",
     "output_type": "stream",
     "text": [
      "1/1 [==============================] - 0s 15ms/step\n",
      "1/1 [==============================] - 0s 15ms/step\n"
     ]
    },
    {
     "name": "stderr",
     "output_type": "stream",
     "text": [
      "2023-12-20 02:25:16 blue-nbjupyterhub4 root[12388] DEBUG Buy at: $508.00\n"
     ]
    },
    {
     "name": "stdout",
     "output_type": "stream",
     "text": [
      "1/1 [==============================] - 0s 15ms/step\n"
     ]
    },
    {
     "name": "stderr",
     "output_type": "stream",
     "text": [
      "2023-12-20 02:25:16 blue-nbjupyterhub4 root[12388] DEBUG Buy at: $716.00\n"
     ]
    },
    {
     "name": "stdout",
     "output_type": "stream",
     "text": [
      "1/1 [==============================] - 0s 15ms/step\n"
     ]
    },
    {
     "name": "stderr",
     "output_type": "stream",
     "text": [
      "2023-12-20 02:25:16 blue-nbjupyterhub4 root[12388] DEBUG Buy at: $751.00\n"
     ]
    },
    {
     "name": "stdout",
     "output_type": "stream",
     "text": [
      "1/1 [==============================] - 0s 15ms/step\n"
     ]
    },
    {
     "name": "stderr",
     "output_type": "stream",
     "text": [
      "2023-12-20 02:25:16 blue-nbjupyterhub4 root[12388] DEBUG Buy at: $463.00\n"
     ]
    },
    {
     "name": "stdout",
     "output_type": "stream",
     "text": [
      "1/1 [==============================] - 0s 16ms/step\n"
     ]
    },
    {
     "name": "stderr",
     "output_type": "stream",
     "text": [
      "2023-12-20 02:25:16 blue-nbjupyterhub4 root[12388] DEBUG Buy at: $675.00\n"
     ]
    },
    {
     "name": "stdout",
     "output_type": "stream",
     "text": [
      "1/1 [==============================] - 0s 16ms/step\n"
     ]
    },
    {
     "name": "stderr",
     "output_type": "stream",
     "text": [
      "2023-12-20 02:25:16 blue-nbjupyterhub4 root[12388] DEBUG Buy at: $769.00\n"
     ]
    },
    {
     "name": "stdout",
     "output_type": "stream",
     "text": [
      "1/1 [==============================] - 0s 15ms/step\n"
     ]
    },
    {
     "name": "stderr",
     "output_type": "stream",
     "text": [
      "2023-12-20 02:25:16 blue-nbjupyterhub4 root[12388] DEBUG Sell at: $909.00 | Position: +$579.00\n"
     ]
    },
    {
     "name": "stdout",
     "output_type": "stream",
     "text": [
      "1/1 [==============================] - 0s 15ms/step\n"
     ]
    },
    {
     "name": "stderr",
     "output_type": "stream",
     "text": [
      "2023-12-20 02:25:16 blue-nbjupyterhub4 root[12388] DEBUG Sell at: $209.00 | Position: -$610.00\n"
     ]
    },
    {
     "name": "stdout",
     "output_type": "stream",
     "text": [
      "1/1 [==============================] - 0s 15ms/step\n"
     ]
    },
    {
     "name": "stderr",
     "output_type": "stream",
     "text": [
      "2023-12-20 02:25:16 blue-nbjupyterhub4 root[12388] DEBUG Sell at: $934.00 | Position: +$494.00\n"
     ]
    },
    {
     "name": "stdout",
     "output_type": "stream",
     "text": [
      "1/1 [==============================] - 0s 17ms/step\n"
     ]
    },
    {
     "name": "stderr",
     "output_type": "stream",
     "text": [
      "2023-12-20 02:25:16 blue-nbjupyterhub4 root[12388] DEBUG Sell at: $669.00 | Position: -$76.00\n"
     ]
    },
    {
     "name": "stdout",
     "output_type": "stream",
     "text": [
      "1/1 [==============================] - 0s 16ms/step\n"
     ]
    },
    {
     "name": "stderr",
     "output_type": "stream",
     "text": [
      "2023-12-20 02:25:16 blue-nbjupyterhub4 root[12388] DEBUG Buy at: $650.00\n"
     ]
    },
    {
     "name": "stdout",
     "output_type": "stream",
     "text": [
      "1/1 [==============================] - 0s 15ms/step\n"
     ]
    },
    {
     "name": "stderr",
     "output_type": "stream",
     "text": [
      "2023-12-20 02:25:16 blue-nbjupyterhub4 root[12388] DEBUG Buy at: $176.00\n"
     ]
    },
    {
     "name": "stdout",
     "output_type": "stream",
     "text": [
      "1/1 [==============================] - 0s 22ms/step\n"
     ]
    },
    {
     "name": "stderr",
     "output_type": "stream",
     "text": [
      "2023-12-20 02:25:16 blue-nbjupyterhub4 root[12388] DEBUG Buy at: $650.00\n"
     ]
    },
    {
     "name": "stdout",
     "output_type": "stream",
     "text": [
      "1/1 [==============================] - 0s 17ms/step\n"
     ]
    },
    {
     "name": "stderr",
     "output_type": "stream",
     "text": [
      "2023-12-20 02:25:16 blue-nbjupyterhub4 root[12388] DEBUG Buy at: $296.00\n"
     ]
    },
    {
     "name": "stdout",
     "output_type": "stream",
     "text": [
      "1/1 [==============================] - 0s 16ms/step\n"
     ]
    },
    {
     "name": "stderr",
     "output_type": "stream",
     "text": [
      "2023-12-20 02:25:16 blue-nbjupyterhub4 root[12388] DEBUG Buy at: $636.00\n"
     ]
    },
    {
     "name": "stdout",
     "output_type": "stream",
     "text": [
      "1/1 [==============================] - 0s 17ms/step\n"
     ]
    },
    {
     "name": "stderr",
     "output_type": "stream",
     "text": [
      "2023-12-20 02:25:17 blue-nbjupyterhub4 root[12388] DEBUG Buy at: $1156.00\n"
     ]
    },
    {
     "name": "stdout",
     "output_type": "stream",
     "text": [
      "1/1 [==============================] - 0s 17ms/step\n",
      "1/1 [==============================] - 0s 17ms/step\n"
     ]
    },
    {
     "name": "stderr",
     "output_type": "stream",
     "text": [
      "2023-12-20 02:25:17 blue-nbjupyterhub4 root[12388] DEBUG Sell at: $536.00 | Position: -$37.00\n"
     ]
    },
    {
     "name": "stdout",
     "output_type": "stream",
     "text": [
      "1/1 [==============================] - 0s 16ms/step\n",
      "1/1 [==============================] - 0s 16ms/step\n"
     ]
    },
    {
     "name": "stderr",
     "output_type": "stream",
     "text": [
      "2023-12-20 02:25:17 blue-nbjupyterhub4 root[12388] DEBUG Buy at: $796.00\n"
     ]
    },
    {
     "name": "stdout",
     "output_type": "stream",
     "text": [
      "1/1 [==============================] - 0s 16ms/step\n"
     ]
    },
    {
     "name": "stderr",
     "output_type": "stream",
     "text": [
      "2023-12-20 02:25:17 blue-nbjupyterhub4 root[12388] DEBUG Sell at: $255.00 | Position: -$786.00\n"
     ]
    },
    {
     "name": "stdout",
     "output_type": "stream",
     "text": [
      "1/1 [==============================] - 0s 16ms/step\n"
     ]
    },
    {
     "name": "stderr",
     "output_type": "stream",
     "text": [
      "2023-12-20 02:25:17 blue-nbjupyterhub4 root[12388] DEBUG Sell at: $600.00 | Position: +$473.00\n"
     ]
    },
    {
     "name": "stdout",
     "output_type": "stream",
     "text": [
      "1/1 [==============================] - 0s 16ms/step\n"
     ]
    },
    {
     "name": "stderr",
     "output_type": "stream",
     "text": [
      "2023-12-20 02:25:17 blue-nbjupyterhub4 root[12388] DEBUG Buy at: $284.00\n"
     ]
    },
    {
     "name": "stdout",
     "output_type": "stream",
     "text": [
      "1/1 [==============================] - 0s 17ms/step\n"
     ]
    },
    {
     "name": "stderr",
     "output_type": "stream",
     "text": [
      "2023-12-20 02:25:17 blue-nbjupyterhub4 root[12388] DEBUG Buy at: $182.00\n"
     ]
    },
    {
     "name": "stdout",
     "output_type": "stream",
     "text": [
      "1/1 [==============================] - 0s 17ms/step\n"
     ]
    },
    {
     "name": "stderr",
     "output_type": "stream",
     "text": [
      "2023-12-20 02:25:17 blue-nbjupyterhub4 root[12388] DEBUG Sell at: $335.00 | Position: +$83.00\n"
     ]
    },
    {
     "name": "stdout",
     "output_type": "stream",
     "text": [
      "1/1 [==============================] - 0s 17ms/step\n"
     ]
    },
    {
     "name": "stderr",
     "output_type": "stream",
     "text": [
      "2023-12-20 02:25:17 blue-nbjupyterhub4 root[12388] DEBUG Buy at: $245.00\n"
     ]
    },
    {
     "name": "stdout",
     "output_type": "stream",
     "text": [
      "1/1 [==============================] - 0s 17ms/step\n"
     ]
    },
    {
     "name": "stderr",
     "output_type": "stream",
     "text": [
      "2023-12-20 02:25:17 blue-nbjupyterhub4 root[12388] DEBUG Buy at: $804.00\n"
     ]
    },
    {
     "name": "stdout",
     "output_type": "stream",
     "text": [
      "1/1 [==============================] - 0s 17ms/step\n"
     ]
    },
    {
     "name": "stderr",
     "output_type": "stream",
     "text": [
      "2023-12-20 02:25:17 blue-nbjupyterhub4 root[12388] DEBUG Sell at: $1009.00 | Position: +$73.00\n"
     ]
    },
    {
     "name": "stdout",
     "output_type": "stream",
     "text": [
      "1/1 [==============================] - 0s 17ms/step\n"
     ]
    },
    {
     "name": "stderr",
     "output_type": "stream",
     "text": [
      "2023-12-20 02:25:17 blue-nbjupyterhub4 root[12388] DEBUG Buy at: $959.00\n"
     ]
    },
    {
     "name": "stdout",
     "output_type": "stream",
     "text": [
      "1/1 [==============================] - 0s 17ms/step\n"
     ]
    },
    {
     "name": "stderr",
     "output_type": "stream",
     "text": [
      "2023-12-20 02:25:17 blue-nbjupyterhub4 root[12388] DEBUG Sell at: $1150.00 | Position: +$500.00\n"
     ]
    },
    {
     "name": "stdout",
     "output_type": "stream",
     "text": [
      "1/1 [==============================] - 0s 16ms/step\n"
     ]
    },
    {
     "name": "stderr",
     "output_type": "stream",
     "text": [
      "2023-12-20 02:25:17 blue-nbjupyterhub4 root[12388] DEBUG Buy at: $318.00\n"
     ]
    },
    {
     "name": "stdout",
     "output_type": "stream",
     "text": [
      "1/1 [==============================] - 0s 16ms/step\n"
     ]
    },
    {
     "name": "stderr",
     "output_type": "stream",
     "text": [
      "2023-12-20 02:25:17 blue-nbjupyterhub4 root[12388] DEBUG Buy at: $652.00\n"
     ]
    },
    {
     "name": "stdout",
     "output_type": "stream",
     "text": [
      "1/1 [==============================] - 0s 16ms/step\n"
     ]
    },
    {
     "name": "stderr",
     "output_type": "stream",
     "text": [
      "2023-12-20 02:25:17 blue-nbjupyterhub4 root[12388] DEBUG Sell at: $436.00 | Position: -$37.00\n"
     ]
    },
    {
     "name": "stdout",
     "output_type": "stream",
     "text": [
      "1/1 [==============================] - 0s 16ms/step\n"
     ]
    },
    {
     "name": "stderr",
     "output_type": "stream",
     "text": [
      "2023-12-20 02:25:18 blue-nbjupyterhub4 root[12388] DEBUG Sell at: $1024.00 | Position: +$517.00\n"
     ]
    },
    {
     "name": "stdout",
     "output_type": "stream",
     "text": [
      "1/1 [==============================] - 0s 16ms/step\n"
     ]
    },
    {
     "name": "stderr",
     "output_type": "stream",
     "text": [
      "2023-12-20 02:25:18 blue-nbjupyterhub4 root[12388] DEBUG Sell at: $773.00 | Position: -$62.00\n"
     ]
    },
    {
     "name": "stdout",
     "output_type": "stream",
     "text": [
      "1/1 [==============================] - 0s 16ms/step\n"
     ]
    },
    {
     "name": "stderr",
     "output_type": "stream",
     "text": [
      "2023-12-20 02:25:18 blue-nbjupyterhub4 root[12388] DEBUG Sell at: $347.00 | Position: -$733.00\n"
     ]
    },
    {
     "name": "stdout",
     "output_type": "stream",
     "text": [
      "1/1 [==============================] - 0s 16ms/step\n"
     ]
    },
    {
     "name": "stderr",
     "output_type": "stream",
     "text": [
      "2023-12-20 02:25:18 blue-nbjupyterhub4 root[12388] DEBUG Buy at: $400.00\n"
     ]
    },
    {
     "name": "stdout",
     "output_type": "stream",
     "text": [
      "1/1 [==============================] - 0s 17ms/step\n"
     ]
    },
    {
     "name": "stderr",
     "output_type": "stream",
     "text": [
      "2023-12-20 02:25:18 blue-nbjupyterhub4 root[12388] DEBUG Buy at: $1038.00\n"
     ]
    },
    {
     "name": "stdout",
     "output_type": "stream",
     "text": [
      "1/1 [==============================] - 0s 16ms/step\n"
     ]
    },
    {
     "name": "stderr",
     "output_type": "stream",
     "text": [
      "2023-12-20 02:25:18 blue-nbjupyterhub4 root[12388] DEBUG Buy at: $999.00\n"
     ]
    },
    {
     "name": "stdout",
     "output_type": "stream",
     "text": [
      "1/1 [==============================] - 0s 16ms/step\n"
     ]
    },
    {
     "name": "stderr",
     "output_type": "stream",
     "text": [
      "2023-12-20 02:25:18 blue-nbjupyterhub4 root[12388] DEBUG Buy at: $544.00\n"
     ]
    },
    {
     "name": "stdout",
     "output_type": "stream",
     "text": [
      "1/1 [==============================] - 0s 16ms/step\n"
     ]
    },
    {
     "name": "stderr",
     "output_type": "stream",
     "text": [
      "2023-12-20 02:25:18 blue-nbjupyterhub4 root[12388] DEBUG Buy at: $342.00\n"
     ]
    },
    {
     "name": "stdout",
     "output_type": "stream",
     "text": [
      "1/1 [==============================] - 0s 18ms/step\n",
      "1/1 [==============================] - 0s 17ms/step\n"
     ]
    },
    {
     "name": "stderr",
     "output_type": "stream",
     "text": [
      "2023-12-20 02:25:18 blue-nbjupyterhub4 root[12388] DEBUG Buy at: $807.00\n"
     ]
    },
    {
     "name": "stdout",
     "output_type": "stream",
     "text": [
      "1/1 [==============================] - 0s 17ms/step\n"
     ]
    },
    {
     "name": "stderr",
     "output_type": "stream",
     "text": [
      "2023-12-20 02:25:18 blue-nbjupyterhub4 root[12388] DEBUG Buy at: $578.00\n"
     ]
    },
    {
     "name": "stdout",
     "output_type": "stream",
     "text": [
      "1/1 [==============================] - 0s 17ms/step\n"
     ]
    },
    {
     "name": "stderr",
     "output_type": "stream",
     "text": [
      "2023-12-20 02:25:18 blue-nbjupyterhub4 root[12388] DEBUG Buy at: $479.00\n"
     ]
    },
    {
     "name": "stdout",
     "output_type": "stream",
     "text": [
      "1/1 [==============================] - 0s 17ms/step\n"
     ]
    },
    {
     "name": "stderr",
     "output_type": "stream",
     "text": [
      "2023-12-20 02:25:18 blue-nbjupyterhub4 root[12388] DEBUG Buy at: $959.00\n"
     ]
    },
    {
     "name": "stdout",
     "output_type": "stream",
     "text": [
      "1/1 [==============================] - 0s 17ms/step\n"
     ]
    },
    {
     "name": "stderr",
     "output_type": "stream",
     "text": [
      "2023-12-20 02:25:18 blue-nbjupyterhub4 root[12388] DEBUG Buy at: $987.00\n"
     ]
    },
    {
     "name": "stdout",
     "output_type": "stream",
     "text": [
      "1/1 [==============================] - 0s 16ms/step\n"
     ]
    },
    {
     "name": "stderr",
     "output_type": "stream",
     "text": [
      "2023-12-20 02:25:18 blue-nbjupyterhub4 root[12388] DEBUG Sell at: $1026.00 | Position: +$801.00\n"
     ]
    },
    {
     "name": "stdout",
     "output_type": "stream",
     "text": [
      "1/1 [==============================] - 0s 16ms/step\n"
     ]
    },
    {
     "name": "stderr",
     "output_type": "stream",
     "text": [
      "2023-12-20 02:25:18 blue-nbjupyterhub4 root[12388] DEBUG Buy at: $712.00\n"
     ]
    },
    {
     "name": "stdout",
     "output_type": "stream",
     "text": [
      "1/1 [==============================] - 0s 16ms/step\n"
     ]
    },
    {
     "name": "stderr",
     "output_type": "stream",
     "text": [
      "2023-12-20 02:25:18 blue-nbjupyterhub4 root[12388] DEBUG Sell at: $1012.00 | Position: -$60.00\n"
     ]
    },
    {
     "name": "stdout",
     "output_type": "stream",
     "text": [
      "1/1 [==============================] - 0s 17ms/step\n"
     ]
    },
    {
     "name": "stderr",
     "output_type": "stream",
     "text": [
      "2023-12-20 02:25:18 blue-nbjupyterhub4 root[12388] DEBUG Buy at: $723.00\n"
     ]
    },
    {
     "name": "stdout",
     "output_type": "stream",
     "text": [
      "1/1 [==============================] - 0s 16ms/step\n"
     ]
    },
    {
     "name": "stderr",
     "output_type": "stream",
     "text": [
      "2023-12-20 02:25:18 blue-nbjupyterhub4 root[12388] DEBUG Sell at: $610.00 | Position: -$431.00\n"
     ]
    },
    {
     "name": "stdout",
     "output_type": "stream",
     "text": [
      "1/1 [==============================] - 0s 20ms/step\n"
     ]
    },
    {
     "name": "stderr",
     "output_type": "stream",
     "text": [
      "2023-12-20 02:25:19 blue-nbjupyterhub4 root[12388] DEBUG Buy at: $958.00\n"
     ]
    },
    {
     "name": "stdout",
     "output_type": "stream",
     "text": [
      "1/1 [==============================] - 0s 16ms/step\n"
     ]
    },
    {
     "name": "stderr",
     "output_type": "stream",
     "text": [
      "2023-12-20 02:25:19 blue-nbjupyterhub4 root[12388] DEBUG Buy at: $992.00\n"
     ]
    },
    {
     "name": "stdout",
     "output_type": "stream",
     "text": [
      "1/1 [==============================] - 0s 16ms/step\n"
     ]
    },
    {
     "name": "stderr",
     "output_type": "stream",
     "text": [
      "2023-12-20 02:25:19 blue-nbjupyterhub4 root[12388] DEBUG Sell at: $870.00 | Position: +$555.00\n"
     ]
    },
    {
     "name": "stdout",
     "output_type": "stream",
     "text": [
      "1/1 [==============================] - 0s 16ms/step\n"
     ]
    },
    {
     "name": "stderr",
     "output_type": "stream",
     "text": [
      "2023-12-20 02:25:19 blue-nbjupyterhub4 root[12388] DEBUG Buy at: $245.00\n"
     ]
    },
    {
     "name": "stdout",
     "output_type": "stream",
     "text": [
      "1/1 [==============================] - 0s 16ms/step\n"
     ]
    },
    {
     "name": "stderr",
     "output_type": "stream",
     "text": [
      "2023-12-20 02:25:19 blue-nbjupyterhub4 root[12388] DEBUG Buy at: $795.00\n"
     ]
    },
    {
     "name": "stdout",
     "output_type": "stream",
     "text": [
      "1/1 [==============================] - 0s 16ms/step\n"
     ]
    },
    {
     "name": "stderr",
     "output_type": "stream",
     "text": [
      "2023-12-20 02:25:19 blue-nbjupyterhub4 root[12388] DEBUG Buy at: $480.00\n"
     ]
    },
    {
     "name": "stdout",
     "output_type": "stream",
     "text": [
      "1/1 [==============================] - 0s 15ms/step\n"
     ]
    },
    {
     "name": "stderr",
     "output_type": "stream",
     "text": [
      "2023-12-20 02:25:19 blue-nbjupyterhub4 root[12388] DEBUG Buy at: $325.00\n"
     ]
    },
    {
     "name": "stdout",
     "output_type": "stream",
     "text": [
      "1/1 [==============================] - 0s 16ms/step\n"
     ]
    },
    {
     "name": "stderr",
     "output_type": "stream",
     "text": [
      "2023-12-20 02:25:19 blue-nbjupyterhub4 root[12388] DEBUG Sell at: $582.00 | Position: -$159.00\n"
     ]
    },
    {
     "name": "stdout",
     "output_type": "stream",
     "text": [
      "1/1 [==============================] - 0s 17ms/step\n"
     ]
    },
    {
     "name": "stderr",
     "output_type": "stream",
     "text": [
      "2023-12-20 02:25:19 blue-nbjupyterhub4 root[12388] DEBUG Sell at: $927.00 | Position: +$507.00\n"
     ]
    },
    {
     "name": "stdout",
     "output_type": "stream",
     "text": [
      "1/1 [==============================] - 0s 18ms/step\n"
     ]
    },
    {
     "name": "stderr",
     "output_type": "stream",
     "text": [
      "2023-12-20 02:25:19 blue-nbjupyterhub4 root[12388] DEBUG Sell at: $612.00 | Position: +$348.00\n"
     ]
    },
    {
     "name": "stdout",
     "output_type": "stream",
     "text": [
      "1/1 [==============================] - 0s 17ms/step\n"
     ]
    },
    {
     "name": "stderr",
     "output_type": "stream",
     "text": [
      "2023-12-20 02:25:19 blue-nbjupyterhub4 root[12388] DEBUG Sell at: $928.00 | Position: +$273.00\n"
     ]
    },
    {
     "name": "stdout",
     "output_type": "stream",
     "text": [
      "1/1 [==============================] - 0s 16ms/step\n"
     ]
    },
    {
     "name": "stderr",
     "output_type": "stream",
     "text": [
      "2023-12-20 02:25:19 blue-nbjupyterhub4 root[12388] DEBUG Buy at: $344.00\n"
     ]
    },
    {
     "name": "stdout",
     "output_type": "stream",
     "text": [
      "1/1 [==============================] - 0s 16ms/step\n"
     ]
    },
    {
     "name": "stderr",
     "output_type": "stream",
     "text": [
      "2023-12-20 02:25:19 blue-nbjupyterhub4 root[12388] DEBUG Sell at: $804.00 | Position: +$420.00\n"
     ]
    },
    {
     "name": "stdout",
     "output_type": "stream",
     "text": [
      "1/1 [==============================] - 0s 16ms/step\n"
     ]
    },
    {
     "name": "stderr",
     "output_type": "stream",
     "text": [
      "2023-12-20 02:25:19 blue-nbjupyterhub4 root[12388] DEBUG Sell at: $880.00 | Position: +$153.00\n"
     ]
    },
    {
     "name": "stdout",
     "output_type": "stream",
     "text": [
      "1/1 [==============================] - 0s 23ms/step\n"
     ]
    },
    {
     "name": "stderr",
     "output_type": "stream",
     "text": [
      "2023-12-20 02:25:19 blue-nbjupyterhub4 root[12388] DEBUG Sell at: $352.00 | Position: -$35.00\n"
     ]
    },
    {
     "name": "stdout",
     "output_type": "stream",
     "text": [
      "1/1 [==============================] - 0s 17ms/step\n"
     ]
    },
    {
     "name": "stderr",
     "output_type": "stream",
     "text": [
      "2023-12-20 02:25:19 blue-nbjupyterhub4 root[12388] DEBUG Sell at: $818.00 | Position: -$258.00\n"
     ]
    },
    {
     "name": "stdout",
     "output_type": "stream",
     "text": [
      "1/1 [==============================] - 0s 16ms/step\n"
     ]
    },
    {
     "name": "stderr",
     "output_type": "stream",
     "text": [
      "2023-12-20 02:25:19 blue-nbjupyterhub4 root[12388] DEBUG Sell at: $728.00 | Position: -$79.00\n"
     ]
    },
    {
     "name": "stdout",
     "output_type": "stream",
     "text": [
      "1/1 [==============================] - 0s 16ms/step\n"
     ]
    },
    {
     "name": "stderr",
     "output_type": "stream",
     "text": [
      "2023-12-20 02:25:19 blue-nbjupyterhub4 root[12388] DEBUG Buy at: $555.00\n"
     ]
    },
    {
     "name": "stdout",
     "output_type": "stream",
     "text": [
      "1/1 [==============================] - 0s 16ms/step\n"
     ]
    },
    {
     "name": "stderr",
     "output_type": "stream",
     "text": [
      "2023-12-20 02:25:20 blue-nbjupyterhub4 root[12388] DEBUG Sell at: $686.00 | Position: +$178.00\n"
     ]
    },
    {
     "name": "stdout",
     "output_type": "stream",
     "text": [
      "1/1 [==============================] - 0s 16ms/step\n"
     ]
    },
    {
     "name": "stderr",
     "output_type": "stream",
     "text": [
      "2023-12-20 02:25:20 blue-nbjupyterhub4 root[12388] DEBUG Sell at: $767.00 | Position: +$51.00\n"
     ]
    },
    {
     "name": "stdout",
     "output_type": "stream",
     "text": [
      "1/1 [==============================] - 0s 25ms/step\n"
     ]
    },
    {
     "name": "stderr",
     "output_type": "stream",
     "text": [
      "2023-12-20 02:25:20 blue-nbjupyterhub4 root[12388] DEBUG Buy at: $1089.00\n"
     ]
    },
    {
     "name": "stdout",
     "output_type": "stream",
     "text": [
      "1/1 [==============================] - 0s 16ms/step\n"
     ]
    },
    {
     "name": "stderr",
     "output_type": "stream",
     "text": [
      "2023-12-20 02:25:20 blue-nbjupyterhub4 root[12388] DEBUG Buy at: $687.00\n"
     ]
    },
    {
     "name": "stdout",
     "output_type": "stream",
     "text": [
      "1/1 [==============================] - 0s 16ms/step\n"
     ]
    },
    {
     "name": "stderr",
     "output_type": "stream",
     "text": [
      "2023-12-20 02:25:20 blue-nbjupyterhub4 root[12388] DEBUG Buy at: $1208.00\n"
     ]
    },
    {
     "name": "stdout",
     "output_type": "stream",
     "text": [
      "1/1 [==============================] - 0s 16ms/step\n"
     ]
    },
    {
     "name": "stderr",
     "output_type": "stream",
     "text": [
      "2023-12-20 02:25:20 blue-nbjupyterhub4 root[12388] DEBUG Buy at: $881.00\n"
     ]
    },
    {
     "name": "stdout",
     "output_type": "stream",
     "text": [
      "1/1 [==============================] - 0s 16ms/step\n"
     ]
    },
    {
     "name": "stderr",
     "output_type": "stream",
     "text": [
      "2023-12-20 02:25:20 blue-nbjupyterhub4 root[12388] DEBUG Sell at: $1213.00 | Position: +$462.00\n"
     ]
    },
    {
     "name": "stdout",
     "output_type": "stream",
     "text": [
      "1/1 [==============================] - 0s 16ms/step\n"
     ]
    },
    {
     "name": "stderr",
     "output_type": "stream",
     "text": [
      "2023-12-20 02:25:20 blue-nbjupyterhub4 root[12388] DEBUG Sell at: $949.00 | Position: +$486.00\n"
     ]
    },
    {
     "name": "stdout",
     "output_type": "stream",
     "text": [
      "1/1 [==============================] - 0s 25ms/step\n"
     ]
    },
    {
     "name": "stderr",
     "output_type": "stream",
     "text": [
      "2023-12-20 02:25:20 blue-nbjupyterhub4 root[12388] DEBUG Sell at: $1071.00 | Position: +$396.00\n"
     ]
    },
    {
     "name": "stdout",
     "output_type": "stream",
     "text": [
      "1/1 [==============================] - 0s 17ms/step\n"
     ]
    },
    {
     "name": "stderr",
     "output_type": "stream",
     "text": [
      "2023-12-20 02:25:20 blue-nbjupyterhub4 root[12388] DEBUG Sell at: $735.00 | Position: -$34.00\n"
     ]
    },
    {
     "name": "stdout",
     "output_type": "stream",
     "text": [
      "1/1 [==============================] - 0s 19ms/step\n"
     ]
    },
    {
     "name": "stderr",
     "output_type": "stream",
     "text": [
      "2023-12-20 02:25:20 blue-nbjupyterhub4 root[12388] DEBUG Sell at: $444.00 | Position: -$206.00\n"
     ]
    },
    {
     "name": "stdout",
     "output_type": "stream",
     "text": [
      "1/1 [==============================] - 0s 16ms/step\n"
     ]
    },
    {
     "name": "stderr",
     "output_type": "stream",
     "text": [
      "2023-12-20 02:25:20 blue-nbjupyterhub4 root[12388] DEBUG Buy at: $446.00\n"
     ]
    },
    {
     "name": "stdout",
     "output_type": "stream",
     "text": [
      "1/1 [==============================] - 0s 17ms/step\n"
     ]
    },
    {
     "name": "stderr",
     "output_type": "stream",
     "text": [
      "2023-12-20 02:25:20 blue-nbjupyterhub4 root[12388] DEBUG Buy at: $1136.00\n"
     ]
    },
    {
     "name": "stdout",
     "output_type": "stream",
     "text": [
      "1/1 [==============================] - 0s 16ms/step\n"
     ]
    },
    {
     "name": "stderr",
     "output_type": "stream",
     "text": [
      "2023-12-20 02:25:20 blue-nbjupyterhub4 root[12388] DEBUG Buy at: $999.00\n"
     ]
    },
    {
     "name": "stdout",
     "output_type": "stream",
     "text": [
      "1/1 [==============================] - 0s 15ms/step\n"
     ]
    },
    {
     "name": "stderr",
     "output_type": "stream",
     "text": [
      "2023-12-20 02:25:20 blue-nbjupyterhub4 root[12388] DEBUG Buy at: $834.00\n"
     ]
    },
    {
     "name": "stdout",
     "output_type": "stream",
     "text": [
      "1/1 [==============================] - 0s 15ms/step\n"
     ]
    },
    {
     "name": "stderr",
     "output_type": "stream",
     "text": [
      "2023-12-20 02:25:20 blue-nbjupyterhub4 root[12388] DEBUG Buy at: $1039.00\n"
     ]
    },
    {
     "name": "stdout",
     "output_type": "stream",
     "text": [
      "1/1 [==============================] - 0s 16ms/step\n"
     ]
    },
    {
     "name": "stderr",
     "output_type": "stream",
     "text": [
      "2023-12-20 02:25:20 blue-nbjupyterhub4 root[12388] DEBUG Sell at: $1210.00 | Position: +$1034.00\n"
     ]
    },
    {
     "name": "stdout",
     "output_type": "stream",
     "text": [
      "1/1 [==============================] - 0s 15ms/step\n"
     ]
    },
    {
     "name": "stderr",
     "output_type": "stream",
     "text": [
      "2023-12-20 02:25:21 blue-nbjupyterhub4 root[12388] DEBUG Buy at: $1189.00\n"
     ]
    },
    {
     "name": "stdout",
     "output_type": "stream",
     "text": [
      "1/1 [==============================] - 0s 15ms/step\n"
     ]
    },
    {
     "name": "stderr",
     "output_type": "stream",
     "text": [
      "2023-12-20 02:25:21 blue-nbjupyterhub4 root[12388] DEBUG Buy at: $411.00\n"
     ]
    },
    {
     "name": "stdout",
     "output_type": "stream",
     "text": [
      "1/1 [==============================] - 0s 16ms/step\n"
     ]
    },
    {
     "name": "stderr",
     "output_type": "stream",
     "text": [
      "2023-12-20 02:25:21 blue-nbjupyterhub4 root[12388] DEBUG Buy at: $662.00\n"
     ]
    },
    {
     "name": "stdout",
     "output_type": "stream",
     "text": [
      "1/1 [==============================] - 0s 15ms/step\n"
     ]
    },
    {
     "name": "stderr",
     "output_type": "stream",
     "text": [
      "2023-12-20 02:25:21 blue-nbjupyterhub4 root[12388] DEBUG Buy at: $1191.00\n"
     ]
    },
    {
     "name": "stdout",
     "output_type": "stream",
     "text": [
      "1/1 [==============================] - 0s 16ms/step\n"
     ]
    },
    {
     "name": "stderr",
     "output_type": "stream",
     "text": [
      "2023-12-20 02:25:21 blue-nbjupyterhub4 root[12388] DEBUG Buy at: $513.00\n"
     ]
    },
    {
     "name": "stdout",
     "output_type": "stream",
     "text": [
      "1/1 [==============================] - 0s 16ms/step\n"
     ]
    },
    {
     "name": "stderr",
     "output_type": "stream",
     "text": [
      "2023-12-20 02:25:21 blue-nbjupyterhub4 root[12388] DEBUG Buy at: $987.00\n"
     ]
    },
    {
     "name": "stdout",
     "output_type": "stream",
     "text": [
      "1/1 [==============================] - 0s 16ms/step\n"
     ]
    },
    {
     "name": "stderr",
     "output_type": "stream",
     "text": [
      "2023-12-20 02:25:21 blue-nbjupyterhub4 root[12388] DEBUG Sell at: $567.00 | Position: -$83.00\n"
     ]
    },
    {
     "name": "stdout",
     "output_type": "stream",
     "text": [
      "1/1 [==============================] - 0s 16ms/step\n"
     ]
    },
    {
     "name": "stderr",
     "output_type": "stream",
     "text": [
      "2023-12-20 02:25:21 blue-nbjupyterhub4 root[12388] DEBUG Sell at: $906.00 | Position: +$610.00\n"
     ]
    },
    {
     "name": "stdout",
     "output_type": "stream",
     "text": [
      "1/1 [==============================] - 0s 16ms/step\n"
     ]
    },
    {
     "name": "stderr",
     "output_type": "stream",
     "text": [
      "2023-12-20 02:25:21 blue-nbjupyterhub4 root[12388] DEBUG Sell at: $588.00 | Position: -$48.00\n"
     ]
    },
    {
     "name": "stdout",
     "output_type": "stream",
     "text": [
      "1/1 [==============================] - 0s 15ms/step\n"
     ]
    },
    {
     "name": "stderr",
     "output_type": "stream",
     "text": [
      "2023-12-20 02:25:21 blue-nbjupyterhub4 root[12388] DEBUG Sell at: $760.00 | Position: -$396.00\n"
     ]
    },
    {
     "name": "stdout",
     "output_type": "stream",
     "text": [
      "1/1 [==============================] - 0s 15ms/step\n"
     ]
    },
    {
     "name": "stderr",
     "output_type": "stream",
     "text": [
      "2023-12-20 02:25:21 blue-nbjupyterhub4 root[12388] DEBUG Sell at: $986.00 | Position: +$190.00\n"
     ]
    },
    {
     "name": "stdout",
     "output_type": "stream",
     "text": [
      "1/1 [==============================] - 0s 17ms/step\n"
     ]
    },
    {
     "name": "stderr",
     "output_type": "stream",
     "text": [
      "2023-12-20 02:25:21 blue-nbjupyterhub4 root[12388] DEBUG Sell at: $384.00 | Position: +$100.00\n"
     ]
    },
    {
     "name": "stdout",
     "output_type": "stream",
     "text": [
      "1/1 [==============================] - 0s 16ms/step\n"
     ]
    },
    {
     "name": "stderr",
     "output_type": "stream",
     "text": [
      "2023-12-20 02:25:21 blue-nbjupyterhub4 root[12388] DEBUG Buy at: $328.00\n"
     ]
    },
    {
     "name": "stdout",
     "output_type": "stream",
     "text": [
      "1/1 [==============================] - 0s 18ms/step\n"
     ]
    },
    {
     "name": "stderr",
     "output_type": "stream",
     "text": [
      "2023-12-20 02:25:21 blue-nbjupyterhub4 root[12388] DEBUG Sell at: $560.00 | Position: +$378.00\n"
     ]
    },
    {
     "name": "stdout",
     "output_type": "stream",
     "text": [
      "1/1 [==============================] - 0s 15ms/step\n"
     ]
    },
    {
     "name": "stderr",
     "output_type": "stream",
     "text": [
      "2023-12-20 02:25:21 blue-nbjupyterhub4 root[12388] DEBUG Sell at: $982.00 | Position: +$737.00\n"
     ]
    },
    {
     "name": "stdout",
     "output_type": "stream",
     "text": [
      "1/1 [==============================] - 0s 22ms/step\n"
     ]
    },
    {
     "name": "stderr",
     "output_type": "stream",
     "text": [
      "2023-12-20 02:25:21 blue-nbjupyterhub4 root[12388] DEBUG Sell at: $630.00 | Position: -$174.00\n",
      "2023-12-20 02:25:21 blue-nbjupyterhub4 root[12388] INFO model_double-dqn_GOOG_50: +$15326.00\n",
      "\n"
     ]
    }
   ],
   "source": [
    "import logging\n",
    "import coloredlogs\n",
    "import random\n",
    "from trading_bot.utils import show_eval_result, switch_k_backend_device, get_stock_data\n",
    "from trading_bot.methods import evaluate_model\n",
    "\n",
    "coloredlogs.install(level='DEBUG')\n",
    "switch_k_backend_device()\n",
    "\n",
    "# test_data = get_stock_data(test_stock)\n",
    "test_data=[]\n",
    "ascending_list=[i for i in range(1,250+1)]\n",
    "random_list=[random.randint(0, 1000) for _ in range(250)]\n",
    "\n",
    "for x,y in zip(ascending_list, random_list):\n",
    "    z = x + y\n",
    "    test_data .append(z)\n",
    "# test_data=[random.randint(0, 1000) for _ in range(250)]\n",
    "initial_offset = test_data[1] - test_data[0]\n",
    "\n",
    "test_result, history = evaluate_model(agent, test_data, window_size, debug)\n",
    "show_eval_result(model_name, test_result, initial_offset)"
   ]
  },
  {
   "cell_type": "markdown",
   "metadata": {},
   "source": [
    "### 4. Visualize"
   ]
  },
  {
   "cell_type": "code",
   "execution_count": 38,
   "metadata": {},
   "outputs": [],
   "source": [
    "def visualize(df, history, title=\"trading session\"):\n",
    "    # add history to dataframe\n",
    "    position = [history[0][0]] + [x[0] for x in history]\n",
    "    actions = ['HOLD'] + [x[1] for x in history]\n",
    "    df['position'] = position\n",
    "    df['action'] = actions\n",
    "    \n",
    "    # specify y-axis scale for stock prices\n",
    "    scale = alt.Scale(domain=(min(min(df['actual']), min(df['position'])) - 50, max(max(df['actual']), max(df['position'])) + 50), clamp=True)\n",
    "    \n",
    "    # plot a line chart for stock positions\n",
    "    \n",
    "    actual = alt.Chart(df).mark_line(\n",
    "        color='green',\n",
    "        opacity=0.5\n",
    "    ).encode(\n",
    "        x='date:T',\n",
    "        y=alt.Y('position', axis=alt.Axis(format='$.2f', title='Price'), scale=scale)\n",
    "    ).interactive(\n",
    "        bind_y=False\n",
    "    )\n",
    "    \n",
    "    # plot the BUY and SELL actions as points\n",
    "    points = alt.Chart(df).transform_filter(\n",
    "        alt.datum.action != 'HOLD'\n",
    "    ).mark_point(\n",
    "        filled=True\n",
    "    ).encode(\n",
    "        x=alt.X('date:T', axis=alt.Axis(title='Date')),\n",
    "        y=alt.Y('position', axis=alt.Axis(format='$.2f', title='Price'), scale=scale),\n",
    "        color='action'\n",
    "    ).interactive(bind_y=False)\n",
    "\n",
    "    # merge the two charts\n",
    "    chart = alt.layer(actual, points, title=title).properties(height=300, width=1000)\n",
    "    \n",
    "    return chart"
   ]
  },
  {
   "cell_type": "code",
   "execution_count": 39,
   "metadata": {},
   "outputs": [
    {
     "data": {
      "text/html": [
       "\n",
       "<style>\n",
       "  #altair-viz-85f3c20256004483a8d9cd22d91eab5e.vega-embed {\n",
       "    width: 100%;\n",
       "    display: flex;\n",
       "  }\n",
       "\n",
       "  #altair-viz-85f3c20256004483a8d9cd22d91eab5e.vega-embed details,\n",
       "  #altair-viz-85f3c20256004483a8d9cd22d91eab5e.vega-embed details summary {\n",
       "    position: relative;\n",
       "  }\n",
       "</style>\n",
       "<div id=\"altair-viz-85f3c20256004483a8d9cd22d91eab5e\"></div>\n",
       "<script type=\"text/javascript\">\n",
       "  var VEGA_DEBUG = (typeof VEGA_DEBUG == \"undefined\") ? {} : VEGA_DEBUG;\n",
       "  (function(spec, embedOpt){\n",
       "    let outputDiv = document.currentScript.previousElementSibling;\n",
       "    if (outputDiv.id !== \"altair-viz-85f3c20256004483a8d9cd22d91eab5e\") {\n",
       "      outputDiv = document.getElementById(\"altair-viz-85f3c20256004483a8d9cd22d91eab5e\");\n",
       "    }\n",
       "    const paths = {\n",
       "      \"vega\": \"https://cdn.jsdelivr.net/npm/vega@5?noext\",\n",
       "      \"vega-lib\": \"https://cdn.jsdelivr.net/npm/vega-lib?noext\",\n",
       "      \"vega-lite\": \"https://cdn.jsdelivr.net/npm/vega-lite@5.16.3?noext\",\n",
       "      \"vega-embed\": \"https://cdn.jsdelivr.net/npm/vega-embed@6?noext\",\n",
       "    };\n",
       "\n",
       "    function maybeLoadScript(lib, version) {\n",
       "      var key = `${lib.replace(\"-\", \"\")}_version`;\n",
       "      return (VEGA_DEBUG[key] == version) ?\n",
       "        Promise.resolve(paths[lib]) :\n",
       "        new Promise(function(resolve, reject) {\n",
       "          var s = document.createElement('script');\n",
       "          document.getElementsByTagName(\"head\")[0].appendChild(s);\n",
       "          s.async = true;\n",
       "          s.onload = () => {\n",
       "            VEGA_DEBUG[key] = version;\n",
       "            return resolve(paths[lib]);\n",
       "          };\n",
       "          s.onerror = () => reject(`Error loading script: ${paths[lib]}`);\n",
       "          s.src = paths[lib];\n",
       "        });\n",
       "    }\n",
       "\n",
       "    function showError(err) {\n",
       "      outputDiv.innerHTML = `<div class=\"error\" style=\"color:red;\">${err}</div>`;\n",
       "      throw err;\n",
       "    }\n",
       "\n",
       "    function displayChart(vegaEmbed) {\n",
       "      vegaEmbed(outputDiv, spec, embedOpt)\n",
       "        .catch(err => showError(`Javascript Error: ${err.message}<br>This usually means there's a typo in your chart specification. See the javascript console for the full traceback.`));\n",
       "    }\n",
       "\n",
       "    if(typeof define === \"function\" && define.amd) {\n",
       "      requirejs.config({paths});\n",
       "      require([\"vega-embed\"], displayChart, err => showError(`Error loading script: ${err.message}`));\n",
       "    } else {\n",
       "      maybeLoadScript(\"vega\", \"5\")\n",
       "        .then(() => maybeLoadScript(\"vega-lite\", \"5.16.3\"))\n",
       "        .then(() => maybeLoadScript(\"vega-embed\", \"6\"))\n",
       "        .catch(showError)\n",
       "        .then(() => displayChart(vegaEmbed));\n",
       "    }\n",
       "  })({\"config\": {\"view\": {\"continuousWidth\": 300, \"continuousHeight\": 300}}, \"layer\": [{\"mark\": {\"type\": \"line\", \"color\": \"green\", \"opacity\": 0.5}, \"encoding\": {\"x\": {\"field\": \"date\", \"type\": \"temporal\"}, \"y\": {\"axis\": {\"format\": \"$.2f\", \"title\": \"Price\"}, \"field\": \"position\", \"scale\": {\"clamp\": true, \"domain\": [-18, 1263]}, \"type\": \"quantitative\"}}, \"name\": \"view_5\"}, {\"mark\": {\"type\": \"point\", \"filled\": true}, \"encoding\": {\"color\": {\"field\": \"action\", \"type\": \"nominal\"}, \"x\": {\"axis\": {\"title\": \"Date\"}, \"field\": \"date\", \"type\": \"temporal\"}, \"y\": {\"axis\": {\"format\": \"$.2f\", \"title\": \"Price\"}, \"field\": \"position\", \"scale\": {\"clamp\": true, \"domain\": [-18, 1263]}, \"type\": \"quantitative\"}}, \"name\": \"view_6\", \"transform\": [{\"filter\": \"(datum.action !== 'HOLD')\"}]}], \"data\": {\"name\": \"data-acd55fb445cd93d6c01d7fe4cc6f0bf0\"}, \"height\": 300, \"params\": [{\"name\": \"param_5\", \"select\": {\"type\": \"interval\", \"encodings\": [\"x\"]}, \"bind\": \"scales\", \"views\": [\"view_5\"]}, {\"name\": \"param_6\", \"select\": {\"type\": \"interval\", \"encodings\": [\"x\"]}, \"bind\": \"scales\", \"views\": [\"view_6\"]}], \"title\": \"BAP(1).csv\", \"width\": 1000, \"$schema\": \"https://vega.github.io/schema/vega-lite/v5.16.3.json\", \"datasets\": {\"data-acd55fb445cd93d6c01d7fe4cc6f0bf0\": [{\"date\": \"2022-12-19T00:00:00\", \"actual\": 133.62204, \"position\": 572, \"action\": \"HOLD\"}, {\"date\": \"2022-12-20T00:00:00\", \"actual\": 134.766327, \"position\": 572, \"action\": \"HOLD\"}, {\"date\": \"2022-12-21T00:00:00\", \"actual\": 135.313583, \"position\": 389, \"action\": \"BUY\"}, {\"date\": \"2022-12-22T00:00:00\", \"actual\": 132.736465, \"position\": 764, \"action\": \"SELL\"}, {\"date\": \"2022-12-23T00:00:00\", \"actual\": 134.000153, \"position\": 872, \"action\": \"BUY\"}, {\"date\": \"2022-12-27T00:00:00\", \"actual\": 133.154388, \"position\": 143, \"action\": \"BUY\"}, {\"date\": \"2022-12-28T00:00:00\", \"actual\": 134.02005, \"position\": 681, \"action\": \"SELL\"}, {\"date\": \"2022-12-29T00:00:00\", \"actual\": 134.935471, \"position\": 993, \"action\": \"SELL\"}, {\"date\": \"2022-12-30T00:00:00\", \"actual\": 134.985229, \"position\": 343, \"action\": \"BUY\"}, {\"date\": \"2023-01-03T00:00:00\", \"actual\": 137.432983, \"position\": 535, \"action\": \"SELL\"}, {\"date\": \"2023-01-04T00:00:00\", \"actual\": 139.442947, \"position\": 747, \"action\": \"HOLD\"}, {\"date\": \"2023-01-05T00:00:00\", \"actual\": 142.099655, \"position\": 160, \"action\": \"BUY\"}, {\"date\": \"2023-01-06T00:00:00\", \"actual\": 145.273788, \"position\": 422, \"action\": \"SELL\"}, {\"date\": \"2023-01-09T00:00:00\", \"actual\": 146.975296, \"position\": 607, \"action\": \"HOLD\"}, {\"date\": \"2023-01-10T00:00:00\", \"actual\": 147.26384, \"position\": 473, \"action\": \"BUY\"}, {\"date\": \"2023-01-11T00:00:00\", \"actual\": 144.298676, \"position\": 776, \"action\": \"SELL\"}, {\"date\": \"2023-01-12T00:00:00\", \"actual\": 147.66185, \"position\": 352, \"action\": \"BUY\"}, {\"date\": \"2023-01-13T00:00:00\", \"actual\": 147.94046, \"position\": 32, \"action\": \"BUY\"}, {\"date\": \"2023-01-17T00:00:00\", \"actual\": 142.726532, \"position\": 361, \"action\": \"SELL\"}, {\"date\": \"2023-01-18T00:00:00\", \"actual\": 142.219055, \"position\": 186, \"action\": \"BUY\"}, {\"date\": \"2023-01-19T00:00:00\", \"actual\": 142.159363, \"position\": 967, \"action\": \"SELL\"}, {\"date\": \"2023-01-20T00:00:00\", \"actual\": 139.572296, \"position\": 356, \"action\": \"BUY\"}, {\"date\": \"2023-01-23T00:00:00\", \"actual\": 139.930511, \"position\": 633, \"action\": \"SELL\"}, {\"date\": \"2023-01-24T00:00:00\", \"actual\": 138.855881, \"position\": 504, \"action\": \"BUY\"}, {\"date\": \"2023-01-25T00:00:00\", \"actual\": 138.258865, \"position\": 49, \"action\": \"BUY\"}, {\"date\": \"2023-01-26T00:00:00\", \"actual\": 142.776291, \"position\": 425, \"action\": \"BUY\"}, {\"date\": \"2023-01-27T00:00:00\", \"actual\": 140.029999, \"position\": 768, \"action\": \"BUY\"}, {\"date\": \"2023-01-30T00:00:00\", \"actual\": 132.925522, \"position\": 994, \"action\": \"BUY\"}, {\"date\": \"2023-01-31T00:00:00\", \"actual\": 133.631989, \"position\": 723, \"action\": \"BUY\"}, {\"date\": \"2023-02-01T00:00:00\", \"actual\": 134.049896, \"position\": 996, \"action\": \"BUY\"}, {\"date\": \"2023-02-02T00:00:00\", \"actual\": 134.527512, \"position\": 670, \"action\": \"BUY\"}, {\"date\": \"2023-02-03T00:00:00\", \"actual\": 135.054871, \"position\": 135, \"action\": \"SELL\"}, {\"date\": \"2023-02-06T00:00:00\", \"actual\": 134.786224, \"position\": 622, \"action\": \"BUY\"}, {\"date\": \"2023-02-07T00:00:00\", \"actual\": 136.646927, \"position\": 295, \"action\": \"BUY\"}, {\"date\": \"2023-02-08T00:00:00\", \"actual\": 137.283737, \"position\": 807, \"action\": \"SELL\"}, {\"date\": \"2023-02-09T00:00:00\", \"actual\": 136.418076, \"position\": 104, \"action\": \"BUY\"}, {\"date\": \"2023-02-10T00:00:00\", \"actual\": 126.467804, \"position\": 201, \"action\": \"SELL\"}, {\"date\": \"2023-02-13T00:00:00\", \"actual\": 131.74144, \"position\": 403, \"action\": \"SELL\"}, {\"date\": \"2023-02-14T00:00:00\", \"actual\": 129.084717, \"position\": 302, \"action\": \"SELL\"}, {\"date\": \"2023-02-15T00:00:00\", \"actual\": 129.134476, \"position\": 707, \"action\": \"SELL\"}, {\"date\": \"2023-02-16T00:00:00\", \"actual\": 128.388199, \"position\": 912, \"action\": \"SELL\"}, {\"date\": \"2023-02-17T00:00:00\", \"actual\": 128.925522, \"position\": 129, \"action\": \"SELL\"}, {\"date\": \"2023-02-21T00:00:00\", \"actual\": 129.253876, \"position\": 1019, \"action\": \"BUY\"}, {\"date\": \"2023-02-22T00:00:00\", \"actual\": 129.253876, \"position\": 149, \"action\": \"BUY\"}, {\"date\": \"2023-02-23T00:00:00\", \"actual\": 128.408112, \"position\": 776, \"action\": \"SELL\"}, {\"date\": \"2023-02-24T00:00:00\", \"actual\": 127.930496, \"position\": 835, \"action\": \"SELL\"}, {\"date\": \"2023-02-27T00:00:00\", \"actual\": 126.855858, \"position\": 889, \"action\": \"SELL\"}, {\"date\": \"2023-02-28T00:00:00\", \"actual\": 126.786209, \"position\": 109, \"action\": \"BUY\"}, {\"date\": \"2023-03-01T00:00:00\", \"actual\": 130.617065, \"position\": 529, \"action\": \"SELL\"}, {\"date\": \"2023-03-02T00:00:00\", \"actual\": 129.960342, \"position\": 618, \"action\": \"SELL\"}, {\"date\": \"2023-03-03T00:00:00\", \"actual\": 131.253876, \"position\": 482, \"action\": \"SELL\"}, {\"date\": \"2023-03-06T00:00:00\", \"actual\": 131.840942, \"position\": 447, \"action\": \"SELL\"}, {\"date\": \"2023-03-07T00:00:00\", \"actual\": 130.995163, \"position\": 131, \"action\": \"BUY\"}, {\"date\": \"2023-03-08T00:00:00\", \"actual\": 132.179245, \"position\": 439, \"action\": \"SELL\"}, {\"date\": \"2023-03-09T00:00:00\", \"actual\": 129.353378, \"position\": 389, \"action\": \"BUY\"}, {\"date\": \"2023-03-10T00:00:00\", \"actual\": 128.129501, \"position\": 892, \"action\": \"SELL\"}, {\"date\": \"2023-03-13T00:00:00\", \"actual\": 125.940437, \"position\": 927, \"action\": \"HOLD\"}, {\"date\": \"2023-03-14T00:00:00\", \"actual\": 129.204132, \"position\": 454, \"action\": \"HOLD\"}, {\"date\": \"2023-03-15T00:00:00\", \"actual\": 126.706604, \"position\": 171, \"action\": \"HOLD\"}, {\"date\": \"2023-03-16T00:00:00\", \"actual\": 126.408104, \"position\": 312, \"action\": \"BUY\"}, {\"date\": \"2023-03-17T00:00:00\", \"actual\": 123.990189, \"position\": 929, \"action\": \"SELL\"}, {\"date\": \"2023-03-20T00:00:00\", \"actual\": 123.731483, \"position\": 993, \"action\": \"HOLD\"}, {\"date\": \"2023-03-21T00:00:00\", \"actual\": 127.353378, \"position\": 234, \"action\": \"BUY\"}, {\"date\": \"2023-03-22T00:00:00\", \"actual\": 124.169296, \"position\": 510, \"action\": \"SELL\"}, {\"date\": \"2023-03-23T00:00:00\", \"actual\": 124.238945, \"position\": 368, \"action\": \"BUY\"}, {\"date\": \"2023-03-24T00:00:00\", \"actual\": 123.661827, \"position\": 951, \"action\": \"SELL\"}, {\"date\": \"2023-03-27T00:00:00\", \"actual\": 127.661835, \"position\": 992, \"action\": \"BUY\"}, {\"date\": \"2023-03-28T00:00:00\", \"actual\": 130.786224, \"position\": 589, \"action\": \"BUY\"}, {\"date\": \"2023-03-29T00:00:00\", \"actual\": 134.577271, \"position\": 894, \"action\": \"SELL\"}, {\"date\": \"2023-03-30T00:00:00\", \"actual\": 131.46283, \"position\": 596, \"action\": \"SELL\"}, {\"date\": \"2023-03-31T00:00:00\", \"actual\": 131.731491, \"position\": 143, \"action\": \"BUY\"}, {\"date\": \"2023-04-03T00:00:00\", \"actual\": 130.666824, \"position\": 998, \"action\": \"SELL\"}, {\"date\": \"2023-04-04T00:00:00\", \"actual\": 129.711594, \"position\": 479, \"action\": \"BUY\"}, {\"date\": \"2023-04-05T00:00:00\", \"actual\": 128.965317, \"position\": 300, \"action\": \"BUY\"}, {\"date\": \"2023-04-06T00:00:00\", \"actual\": 128.845917, \"position\": 226, \"action\": \"BUY\"}, {\"date\": \"2023-04-10T00:00:00\", \"actual\": 128.199142, \"position\": 597, \"action\": \"BUY\"}, {\"date\": \"2023-04-11T00:00:00\", \"actual\": 128.61705, \"position\": 673, \"action\": \"BUY\"}, {\"date\": \"2023-04-12T00:00:00\", \"actual\": 129.522537, \"position\": 123, \"action\": \"BUY\"}, {\"date\": \"2023-04-13T00:00:00\", \"actual\": 130.587219, \"position\": 564, \"action\": \"BUY\"}, {\"date\": \"2023-04-14T00:00:00\", \"actual\": 130.965317, \"position\": 737, \"action\": \"BUY\"}, {\"date\": \"2023-04-17T00:00:00\", \"actual\": 131.840942, \"position\": 96, \"action\": \"SELL\"}, {\"date\": \"2023-04-18T00:00:00\", \"actual\": 131.771286, \"position\": 969, \"action\": \"SELL\"}, {\"date\": \"2023-04-19T00:00:00\", \"actual\": 132.079758, \"position\": 850, \"action\": \"BUY\"}, {\"date\": \"2023-04-20T00:00:00\", \"actual\": 132.965332, \"position\": 640, \"action\": \"BUY\"}, {\"date\": \"2023-04-21T00:00:00\", \"actual\": 132.557358, \"position\": 688, \"action\": \"SELL\"}, {\"date\": \"2023-04-24T00:00:00\", \"actual\": 133.323532, \"position\": 585, \"action\": \"BUY\"}, {\"date\": \"2023-04-25T00:00:00\", \"actual\": 133.761337, \"position\": 652, \"action\": \"SELL\"}, {\"date\": \"2023-04-26T00:00:00\", \"actual\": 132.736465, \"position\": 675, \"action\": \"SELL\"}, {\"date\": \"2023-04-27T00:00:00\", \"actual\": 133.333481, \"position\": 678, \"action\": \"SELL\"}, {\"date\": \"2023-04-28T00:00:00\", \"actual\": 134.806122, \"position\": 289, \"action\": \"BUY\"}, {\"date\": \"2023-05-01T00:00:00\", \"actual\": 135.890701, \"position\": 860, \"action\": \"BUY\"}, {\"date\": \"2023-05-02T00:00:00\", \"actual\": 132.039948, \"position\": 155, \"action\": \"BUY\"}, {\"date\": \"2023-05-03T00:00:00\", \"actual\": 133.432999, \"position\": 751, \"action\": \"SELL\"}, {\"date\": \"2023-05-04T00:00:00\", \"actual\": 133.243927, \"position\": 878, \"action\": \"SELL\"}, {\"date\": \"2023-05-05T00:00:00\", \"actual\": 140.646927, \"position\": 436, \"action\": \"BUY\"}, {\"date\": \"2023-05-08T00:00:00\", \"actual\": 146.388214, \"position\": 855, \"action\": \"SELL\"}, {\"date\": \"2023-05-09T00:00:00\", \"actual\": 144.696671, \"position\": 938, \"action\": \"SELL\"}, {\"date\": \"2023-05-10T00:00:00\", \"actual\": 141.22403, \"position\": 554, \"action\": \"SELL\"}, {\"date\": \"2023-05-11T00:00:00\", \"actual\": 140.29866, \"position\": 773, \"action\": \"BUY\"}, {\"date\": \"2023-05-12T00:00:00\", \"actual\": 136.278763, \"position\": 719, \"action\": \"BUY\"}, {\"date\": \"2023-05-15T00:00:00\", \"actual\": 136.447922, \"position\": 1065, \"action\": \"SELL\"}, {\"date\": \"2023-05-16T00:00:00\", \"actual\": 134.119553, \"position\": 747, \"action\": \"SELL\"}, {\"date\": \"2023-05-17T00:00:00\", \"actual\": 135.830994, \"position\": 947, \"action\": \"SELL\"}, {\"date\": \"2023-05-18T00:00:00\", \"actual\": 128.929993, \"position\": 304, \"action\": \"SELL\"}, {\"date\": \"2023-05-19T00:00:00\", \"actual\": 132.75, \"position\": 120, \"action\": \"SELL\"}, {\"date\": \"2023-05-22T00:00:00\", \"actual\": 132.720001, \"position\": 453, \"action\": \"BUY\"}, {\"date\": \"2023-05-23T00:00:00\", \"actual\": 133.279999, \"position\": 968, \"action\": \"BUY\"}, {\"date\": \"2023-05-24T00:00:00\", \"actual\": 133.429993, \"position\": 809, \"action\": \"BUY\"}, {\"date\": \"2023-05-25T00:00:00\", \"actual\": 134.039993, \"position\": 487, \"action\": \"BUY\"}, {\"date\": \"2023-05-26T00:00:00\", \"actual\": 132.0, \"position\": 965, \"action\": \"BUY\"}, {\"date\": \"2023-05-30T00:00:00\", \"actual\": 130.309998, \"position\": 1043, \"action\": \"SELL\"}, {\"date\": \"2023-05-31T00:00:00\", \"actual\": 129.449997, \"position\": 412, \"action\": \"BUY\"}, {\"date\": \"2023-06-01T00:00:00\", \"actual\": 132.240005, \"position\": 330, \"action\": \"BUY\"}, {\"date\": \"2023-06-02T00:00:00\", \"actual\": 136.970001, \"position\": 819, \"action\": \"BUY\"}, {\"date\": \"2023-06-05T00:00:00\", \"actual\": 137.960007, \"position\": 440, \"action\": \"BUY\"}, {\"date\": \"2023-06-06T00:00:00\", \"actual\": 140.490005, \"position\": 521, \"action\": \"SELL\"}, {\"date\": \"2023-06-07T00:00:00\", \"actual\": 140.020004, \"position\": 616, \"action\": \"SELL\"}, {\"date\": \"2023-06-08T00:00:00\", \"actual\": 140.729996, \"position\": 851, \"action\": \"SELL\"}, {\"date\": \"2023-06-09T00:00:00\", \"actual\": 140.5, \"position\": 745, \"action\": \"BUY\"}, {\"date\": \"2023-06-12T00:00:00\", \"actual\": 141.699997, \"position\": 573, \"action\": \"BUY\"}, {\"date\": \"2023-06-13T00:00:00\", \"actual\": 143.639999, \"position\": 1041, \"action\": \"BUY\"}, {\"date\": \"2023-06-14T00:00:00\", \"actual\": 146.070007, \"position\": 127, \"action\": \"BUY\"}, {\"date\": \"2023-06-15T00:00:00\", \"actual\": 148.399994, \"position\": 1006, \"action\": \"SELL\"}, {\"date\": \"2023-06-16T00:00:00\", \"actual\": 149.289993, \"position\": 252, \"action\": \"BUY\"}, {\"date\": \"2023-06-20T00:00:00\", \"actual\": 149.050003, \"position\": 936, \"action\": \"BUY\"}, {\"date\": \"2023-06-21T00:00:00\", \"actual\": 148.25, \"position\": 650, \"action\": \"BUY\"}, {\"date\": \"2023-06-22T00:00:00\", \"actual\": 146.240005, \"position\": 473, \"action\": \"BUY\"}, {\"date\": \"2023-06-23T00:00:00\", \"actual\": 144.300003, \"position\": 507, \"action\": \"BUY\"}, {\"date\": \"2023-06-26T00:00:00\", \"actual\": 144.630005, \"position\": 835, \"action\": \"BUY\"}, {\"date\": \"2023-06-27T00:00:00\", \"actual\": 145.0, \"position\": 1080, \"action\": \"BUY\"}, {\"date\": \"2023-06-28T00:00:00\", \"actual\": 144.940002, \"position\": 225, \"action\": \"BUY\"}, {\"date\": \"2023-06-29T00:00:00\", \"actual\": 146.0, \"position\": 1072, \"action\": \"BUY\"}, {\"date\": \"2023-06-30T00:00:00\", \"actual\": 147.639999, \"position\": 1041, \"action\": \"BUY\"}, {\"date\": \"2023-07-03T00:00:00\", \"actual\": 147.880005, \"position\": 164, \"action\": \"SELL\"}, {\"date\": \"2023-07-05T00:00:00\", \"actual\": 150.479996, \"position\": 315, \"action\": \"BUY\"}, {\"date\": \"2023-07-06T00:00:00\", \"actual\": 147.5, \"position\": 741, \"action\": \"BUY\"}, {\"date\": \"2023-07-07T00:00:00\", \"actual\": 151.710007, \"position\": 592, \"action\": \"SELL\"}, {\"date\": \"2023-07-10T00:00:00\", \"actual\": 150.589996, \"position\": 420, \"action\": \"BUY\"}, {\"date\": \"2023-07-11T00:00:00\", \"actual\": 149.729996, \"position\": 264, \"action\": \"BUY\"}, {\"date\": \"2023-07-12T00:00:00\", \"actual\": 150.020004, \"position\": 926, \"action\": \"HOLD\"}, {\"date\": \"2023-07-13T00:00:00\", \"actual\": 152.100006, \"position\": 655, \"action\": \"BUY\"}, {\"date\": \"2023-07-14T00:00:00\", \"actual\": 151.630005, \"position\": 384, \"action\": \"BUY\"}, {\"date\": \"2023-07-17T00:00:00\", \"actual\": 155.440002, \"position\": 727, \"action\": \"BUY\"}, {\"date\": \"2023-07-18T00:00:00\", \"actual\": 156.25, \"position\": 387, \"action\": \"BUY\"}, {\"date\": \"2023-07-19T00:00:00\", \"actual\": 156.289993, \"position\": 1076, \"action\": \"BUY\"}, {\"date\": \"2023-07-20T00:00:00\", \"actual\": 156.809998, \"position\": 807, \"action\": \"BUY\"}, {\"date\": \"2023-07-21T00:00:00\", \"actual\": 156.729996, \"position\": 586, \"action\": \"HOLD\"}, {\"date\": \"2023-07-24T00:00:00\", \"actual\": 154.910004, \"position\": 508, \"action\": \"BUY\"}, {\"date\": \"2023-07-25T00:00:00\", \"actual\": 155.5, \"position\": 716, \"action\": \"BUY\"}, {\"date\": \"2023-07-26T00:00:00\", \"actual\": 157.199997, \"position\": 751, \"action\": \"BUY\"}, {\"date\": \"2023-07-27T00:00:00\", \"actual\": 154.960007, \"position\": 463, \"action\": \"BUY\"}, {\"date\": \"2023-07-28T00:00:00\", \"actual\": 158.029999, \"position\": 675, \"action\": \"BUY\"}, {\"date\": \"2023-07-31T00:00:00\", \"actual\": 157.050003, \"position\": 769, \"action\": \"BUY\"}, {\"date\": \"2023-08-01T00:00:00\", \"actual\": 158.470001, \"position\": 909, \"action\": \"SELL\"}, {\"date\": \"2023-08-02T00:00:00\", \"actual\": 154.210007, \"position\": 209, \"action\": \"SELL\"}, {\"date\": \"2023-08-03T00:00:00\", \"actual\": 153.380005, \"position\": 934, \"action\": \"SELL\"}, {\"date\": \"2023-08-04T00:00:00\", \"actual\": 153.880005, \"position\": 669, \"action\": \"SELL\"}, {\"date\": \"2023-08-07T00:00:00\", \"actual\": 155.570007, \"position\": 650, \"action\": \"BUY\"}, {\"date\": \"2023-08-08T00:00:00\", \"actual\": 156.429993, \"position\": 176, \"action\": \"BUY\"}, {\"date\": \"2023-08-09T00:00:00\", \"actual\": 158.080002, \"position\": 650, \"action\": \"BUY\"}, {\"date\": \"2023-08-10T00:00:00\", \"actual\": 157.720001, \"position\": 296, \"action\": \"BUY\"}, {\"date\": \"2023-08-11T00:00:00\", \"actual\": 149.929993, \"position\": 636, \"action\": \"BUY\"}, {\"date\": \"2023-08-14T00:00:00\", \"actual\": 145.320007, \"position\": 1156, \"action\": \"BUY\"}, {\"date\": \"2023-08-15T00:00:00\", \"actual\": 142.529999, \"position\": 906, \"action\": \"HOLD\"}, {\"date\": \"2023-08-16T00:00:00\", \"actual\": 139.990005, \"position\": 536, \"action\": \"SELL\"}, {\"date\": \"2023-08-17T00:00:00\", \"actual\": 138.929993, \"position\": 326, \"action\": \"HOLD\"}, {\"date\": \"2023-08-18T00:00:00\", \"actual\": 138.800003, \"position\": 796, \"action\": \"BUY\"}, {\"date\": \"2023-08-21T00:00:00\", \"actual\": 139.800003, \"position\": 255, \"action\": \"SELL\"}, {\"date\": \"2023-08-22T00:00:00\", \"actual\": 140.279999, \"position\": 600, \"action\": \"SELL\"}, {\"date\": \"2023-08-23T00:00:00\", \"actual\": 143.419998, \"position\": 284, \"action\": \"BUY\"}, {\"date\": \"2023-08-24T00:00:00\", \"actual\": 141.270004, \"position\": 182, \"action\": \"BUY\"}, {\"date\": \"2023-08-25T00:00:00\", \"actual\": 141.520004, \"position\": 335, \"action\": \"SELL\"}, {\"date\": \"2023-08-28T00:00:00\", \"actual\": 142.360001, \"position\": 245, \"action\": \"BUY\"}, {\"date\": \"2023-08-29T00:00:00\", \"actual\": 145.5, \"position\": 804, \"action\": \"BUY\"}, {\"date\": \"2023-08-30T00:00:00\", \"actual\": 144.699997, \"position\": 1009, \"action\": \"SELL\"}, {\"date\": \"2023-08-31T00:00:00\", \"actual\": 141.429993, \"position\": 959, \"action\": \"BUY\"}, {\"date\": \"2023-09-01T00:00:00\", \"actual\": 142.940002, \"position\": 1150, \"action\": \"SELL\"}, {\"date\": \"2023-09-05T00:00:00\", \"actual\": 138.399994, \"position\": 318, \"action\": \"BUY\"}, {\"date\": \"2023-09-06T00:00:00\", \"actual\": 137.559998, \"position\": 652, \"action\": \"BUY\"}, {\"date\": \"2023-09-07T00:00:00\", \"actual\": 135.229996, \"position\": 436, \"action\": \"SELL\"}, {\"date\": \"2023-09-08T00:00:00\", \"actual\": 134.520004, \"position\": 1024, \"action\": \"SELL\"}, {\"date\": \"2023-09-11T00:00:00\", \"actual\": 136.240005, \"position\": 773, \"action\": \"SELL\"}, {\"date\": \"2023-09-12T00:00:00\", \"actual\": 137.279999, \"position\": 347, \"action\": \"SELL\"}, {\"date\": \"2023-09-13T00:00:00\", \"actual\": 136.880005, \"position\": 400, \"action\": \"BUY\"}, {\"date\": \"2023-09-14T00:00:00\", \"actual\": 137.860001, \"position\": 1038, \"action\": \"BUY\"}, {\"date\": \"2023-09-15T00:00:00\", \"actual\": 136.389999, \"position\": 999, \"action\": \"BUY\"}, {\"date\": \"2023-09-18T00:00:00\", \"actual\": 136.889999, \"position\": 544, \"action\": \"BUY\"}, {\"date\": \"2023-09-19T00:00:00\", \"actual\": 136.139999, \"position\": 342, \"action\": \"BUY\"}, {\"date\": \"2023-09-20T00:00:00\", \"actual\": 135.0, \"position\": 718, \"action\": \"HOLD\"}, {\"date\": \"2023-09-21T00:00:00\", \"actual\": 132.389999, \"position\": 807, \"action\": \"BUY\"}, {\"date\": \"2023-09-22T00:00:00\", \"actual\": 131.710007, \"position\": 578, \"action\": \"BUY\"}, {\"date\": \"2023-09-25T00:00:00\", \"actual\": 132.160004, \"position\": 479, \"action\": \"BUY\"}, {\"date\": \"2023-09-26T00:00:00\", \"actual\": 129.369995, \"position\": 959, \"action\": \"BUY\"}, {\"date\": \"2023-09-27T00:00:00\", \"actual\": 129.649994, \"position\": 987, \"action\": \"BUY\"}, {\"date\": \"2023-09-28T00:00:00\", \"actual\": 128.949997, \"position\": 1026, \"action\": \"SELL\"}, {\"date\": \"2023-09-29T00:00:00\", \"actual\": 127.970001, \"position\": 712, \"action\": \"BUY\"}, {\"date\": \"2023-10-02T00:00:00\", \"actual\": 123.690002, \"position\": 1012, \"action\": \"SELL\"}, {\"date\": \"2023-10-03T00:00:00\", \"actual\": 124.709999, \"position\": 723, \"action\": \"BUY\"}, {\"date\": \"2023-10-04T00:00:00\", \"actual\": 123.620003, \"position\": 610, \"action\": \"SELL\"}, {\"date\": \"2023-10-05T00:00:00\", \"actual\": 123.849998, \"position\": 958, \"action\": \"BUY\"}, {\"date\": \"2023-10-06T00:00:00\", \"actual\": 126.900002, \"position\": 992, \"action\": \"BUY\"}, {\"date\": \"2023-10-09T00:00:00\", \"actual\": 127.010002, \"position\": 870, \"action\": \"SELL\"}, {\"date\": \"2023-10-10T00:00:00\", \"actual\": 126.809998, \"position\": 245, \"action\": \"BUY\"}, {\"date\": \"2023-10-11T00:00:00\", \"actual\": 128.309998, \"position\": 795, \"action\": \"BUY\"}, {\"date\": \"2023-10-12T00:00:00\", \"actual\": 125.440002, \"position\": 480, \"action\": \"BUY\"}, {\"date\": \"2023-10-13T00:00:00\", \"actual\": 124.669998, \"position\": 325, \"action\": \"BUY\"}, {\"date\": \"2023-10-16T00:00:00\", \"actual\": 127.110001, \"position\": 582, \"action\": \"SELL\"}, {\"date\": \"2023-10-17T00:00:00\", \"actual\": 126.18, \"position\": 927, \"action\": \"SELL\"}, {\"date\": \"2023-10-18T00:00:00\", \"actual\": 125.989998, \"position\": 612, \"action\": \"SELL\"}, {\"date\": \"2023-10-19T00:00:00\", \"actual\": 125.959999, \"position\": 928, \"action\": \"SELL\"}, {\"date\": \"2023-10-20T00:00:00\", \"actual\": 123.889999, \"position\": 344, \"action\": \"BUY\"}, {\"date\": \"2023-10-23T00:00:00\", \"actual\": 123.339996, \"position\": 804, \"action\": \"SELL\"}, {\"date\": \"2023-10-24T00:00:00\", \"actual\": 125.480003, \"position\": 880, \"action\": \"SELL\"}, {\"date\": \"2023-10-25T00:00:00\", \"actual\": 127.529999, \"position\": 352, \"action\": \"SELL\"}, {\"date\": \"2023-10-26T00:00:00\", \"actual\": 128.020004, \"position\": 818, \"action\": \"SELL\"}, {\"date\": \"2023-10-27T00:00:00\", \"actual\": 125.120003, \"position\": 728, \"action\": \"SELL\"}, {\"date\": \"2023-10-30T00:00:00\", \"actual\": 125.150002, \"position\": 555, \"action\": \"BUY\"}, {\"date\": \"2023-10-31T00:00:00\", \"actual\": 124.959999, \"position\": 686, \"action\": \"SELL\"}, {\"date\": \"2023-11-01T00:00:00\", \"actual\": 126.550003, \"position\": 767, \"action\": \"SELL\"}, {\"date\": \"2023-11-02T00:00:00\", \"actual\": 128.5, \"position\": 1089, \"action\": \"BUY\"}, {\"date\": \"2023-11-03T00:00:00\", \"actual\": 121.57, \"position\": 687, \"action\": \"BUY\"}, {\"date\": \"2023-11-06T00:00:00\", \"actual\": 121.360001, \"position\": 1208, \"action\": \"BUY\"}, {\"date\": \"2023-11-07T00:00:00\", \"actual\": 120.849998, \"position\": 881, \"action\": \"BUY\"}, {\"date\": \"2023-11-08T00:00:00\", \"actual\": 120.589996, \"position\": 1213, \"action\": \"SELL\"}, {\"date\": \"2023-11-09T00:00:00\", \"actual\": 119.360001, \"position\": 949, \"action\": \"SELL\"}, {\"date\": \"2023-11-10T00:00:00\", \"actual\": 122.529999, \"position\": 1071, \"action\": \"SELL\"}, {\"date\": \"2023-11-13T00:00:00\", \"actual\": 116.419998, \"position\": 735, \"action\": \"SELL\"}, {\"date\": \"2023-11-14T00:00:00\", \"actual\": 121.529999, \"position\": 444, \"action\": \"SELL\"}, {\"date\": \"2023-11-15T00:00:00\", \"actual\": 123.610001, \"position\": 446, \"action\": \"BUY\"}, {\"date\": \"2023-11-16T00:00:00\", \"actual\": 124.870003, \"position\": 1136, \"action\": \"BUY\"}, {\"date\": \"2023-11-17T00:00:00\", \"actual\": 127.760002, \"position\": 999, \"action\": \"BUY\"}, {\"date\": \"2023-11-20T00:00:00\", \"actual\": 131.050003, \"position\": 834, \"action\": \"BUY\"}, {\"date\": \"2023-11-21T00:00:00\", \"actual\": 129.259995, \"position\": 1039, \"action\": \"BUY\"}, {\"date\": \"2023-11-22T00:00:00\", \"actual\": 127.709999, \"position\": 1210, \"action\": \"SELL\"}, {\"date\": \"2023-11-24T00:00:00\", \"actual\": 128.619995, \"position\": 1189, \"action\": \"BUY\"}, {\"date\": \"2023-11-27T00:00:00\", \"actual\": 125.559998, \"position\": 411, \"action\": \"BUY\"}, {\"date\": \"2023-11-28T00:00:00\", \"actual\": 125.720001, \"position\": 662, \"action\": \"BUY\"}, {\"date\": \"2023-11-29T00:00:00\", \"actual\": 125.93, \"position\": 1191, \"action\": \"BUY\"}, {\"date\": \"2023-11-30T00:00:00\", \"actual\": 125.529999, \"position\": 513, \"action\": \"BUY\"}, {\"date\": \"2023-12-01T00:00:00\", \"actual\": 128.350006, \"position\": 987, \"action\": \"BUY\"}, {\"date\": \"2023-12-04T00:00:00\", \"actual\": 126.82, \"position\": 567, \"action\": \"SELL\"}, {\"date\": \"2023-12-05T00:00:00\", \"actual\": 128.610001, \"position\": 906, \"action\": \"SELL\"}, {\"date\": \"2023-12-06T00:00:00\", \"actual\": 124.919998, \"position\": 588, \"action\": \"SELL\"}, {\"date\": \"2023-12-07T00:00:00\", \"actual\": 124.93, \"position\": 760, \"action\": \"SELL\"}, {\"date\": \"2023-12-08T00:00:00\", \"actual\": 124.669998, \"position\": 986, \"action\": \"SELL\"}, {\"date\": \"2023-12-11T00:00:00\", \"actual\": 124.529999, \"position\": 384, \"action\": \"SELL\"}, {\"date\": \"2023-12-12T00:00:00\", \"actual\": 125.300003, \"position\": 328, \"action\": \"BUY\"}, {\"date\": \"2023-12-13T00:00:00\", \"actual\": 130.289993, \"position\": 560, \"action\": \"SELL\"}, {\"date\": \"2023-12-14T00:00:00\", \"actual\": 140.330002, \"position\": 982, \"action\": \"SELL\"}, {\"date\": \"2023-12-15T00:00:00\", \"actual\": 150.360001, \"position\": 630, \"action\": \"SELL\"}]}}, {\"mode\": \"vega-lite\"});\n",
       "</script>"
      ],
      "text/plain": [
       "alt.LayerChart(...)"
      ]
     },
     "execution_count": 39,
     "metadata": {},
     "output_type": "execute_result"
    }
   ],
   "source": [
    "chart = visualize(df, history, title=test_stock)\n",
    "chart"
   ]
  },
  {
   "cell_type": "code",
   "execution_count": null,
   "metadata": {},
   "outputs": [],
   "source": []
  }
 ],
 "metadata": {
  "kernelspec": {
   "display_name": "anaconda-2022.05-py39",
   "language": "python",
   "name": "conda-env-anaconda-2022.05-py39-py"
  },
  "language_info": {
   "codemirror_mode": {
    "name": "ipython",
    "version": 3
   },
   "file_extension": ".py",
   "mimetype": "text/x-python",
   "name": "python",
   "nbconvert_exporter": "python",
   "pygments_lexer": "ipython3",
   "version": "3.9.12"
  }
 },
 "nbformat": 4,
 "nbformat_minor": 4
}
