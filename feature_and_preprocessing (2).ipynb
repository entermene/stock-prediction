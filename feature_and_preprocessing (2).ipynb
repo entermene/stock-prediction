{
 "cells": [
  {
   "cell_type": "code",
   "execution_count": 1,
   "id": "61fcb1a1-0946-4cfa-a31c-9861bec01299",
   "metadata": {},
   "outputs": [
    {
     "name": "stdout",
     "output_type": "stream",
     "text": [
      "1\n",
      "2\n",
      "1\n",
      "2\n",
      "1\n",
      "2\n"
     ]
    }
   ],
   "source": [
    "import numpy as np\n",
    "\n",
    "print(1)\n",
    "print(2)\n",
    "print(1)\n",
    "print(2)\n",
    "print(1)\n",
    "print(2)"
   ]
  },
  {
   "cell_type": "code",
   "execution_count": 278,
   "id": "840a9833-3d13-4cf5-bb27-1aba9b318fc9",
   "metadata": {},
   "outputs": [
    {
     "data": {
      "text/plain": [
       "'3.9.12 (main, Apr  5 2022, 06:56:58) \\n[GCC 7.5.0]'"
      ]
     },
     "execution_count": 278,
     "metadata": {},
     "output_type": "execute_result"
    }
   ],
   "source": [
    "import sys\n",
    "sys.version"
   ]
  },
  {
   "cell_type": "code",
   "execution_count": 280,
   "id": "9a262d03-8651-4bcd-8fb3-de76b6cb82e3",
   "metadata": {},
   "outputs": [
    {
     "name": "stdout",
     "output_type": "stream",
     "text": [
      "Defaulting to user installation because normal site-packages is not writeable\n",
      "Looking in links: /usr/share/pip-wheels\n",
      "Requirement already satisfied: TA-Lib in ./.local/lib/python3.9/site-packages (0.4.28)\n",
      "Requirement already satisfied: numpy in ./.local/lib/python3.9/site-packages (from TA-Lib) (1.26.2)\n"
     ]
    }
   ],
   "source": [
    "!pip install TA-Lib"
   ]
  },
  {
   "cell_type": "code",
   "execution_count": 273,
   "id": "e8feb71e-f350-430b-8214-270ba7e4877b",
   "metadata": {},
   "outputs": [
    {
     "name": "stdout",
     "output_type": "stream",
     "text": [
      "Looking in links: /usr/share/pip-wheels\n",
      "Requirement already satisfied: TA-Lib in ./.local/lib/python3.9/site-packages (0.4.28)\n",
      "Requirement already satisfied: numpy in ./.local/lib/python3.9/site-packages (from TA-Lib) (1.26.2)\n"
     ]
    }
   ],
   "source": [
    "!pip install --user TA-Lib"
   ]
  },
  {
   "cell_type": "code",
   "execution_count": 276,
   "id": "c12ab47a-78eb-4d28-9653-ceb8c6da4da9",
   "metadata": {},
   "outputs": [
    {
     "name": "stdout",
     "output_type": "stream",
     "text": [
      "Looking in links: /usr/share/pip-wheels\n",
      "Requirement already satisfied: TA-Lib in ./.local/lib/python3.9/site-packages (0.4.28)\n",
      "Requirement already satisfied: numpy in ./.local/lib/python3.9/site-packages (from TA-Lib) (1.26.2)\n"
     ]
    }
   ],
   "source": [
    "!{sys.executable} -m pip install --user TA-Lib\n"
   ]
  },
  {
   "cell_type": "code",
   "execution_count": 236,
   "id": "2bb1c81b-30af-4331-b69a-ec7a0d3b7e77",
   "metadata": {},
   "outputs": [
    {
     "ename": "NameError",
     "evalue": "name 'talib' is not defined",
     "output_type": "error",
     "traceback": [
      "\u001b[0;31m---------------------------------------------------------------------------\u001b[0m",
      "\u001b[0;31mNameError\u001b[0m                                 Traceback (most recent call last)",
      "Input \u001b[0;32mIn [236]\u001b[0m, in \u001b[0;36m<cell line: 1>\u001b[0;34m()\u001b[0m\n\u001b[0;32m----> 1\u001b[0m \u001b[38;5;28mprint\u001b[39m(\u001b[43mtalib\u001b[49m\u001b[38;5;241m.\u001b[39m__version__)\n",
      "\u001b[0;31mNameError\u001b[0m: name 'talib' is not defined"
     ]
    }
   ],
   "source": [
    "print(talib.__version__)"
   ]
  },
  {
   "cell_type": "code",
   "execution_count": null,
   "id": "9f2a7358-e8df-4b25-bbb4-8ea4407b485c",
   "metadata": {},
   "outputs": [],
   "source": [
    "import talib as ta"
   ]
  },
  {
   "cell_type": "code",
   "execution_count": 240,
   "id": "fb266da9-f647-4324-91d5-bc37d0d41284",
   "metadata": {},
   "outputs": [],
   "source": [
    "import numpy as np\n",
    "import pandas as pd\n",
    "from sklearn.preprocessing import StandardScaler,MinMaxScaler"
   ]
  },
  {
   "cell_type": "code",
   "execution_count": 242,
   "id": "d7355ceb-cbd1-4e96-b01e-7562027138ef",
   "metadata": {},
   "outputs": [],
   "source": [
    "df=pd.read_csv('stock.csv')[:800]\n",
    "# df[['A', 'B', 'C']] = scaler.fit_transform(df[['A', 'B', 'C']])"
   ]
  },
  {
   "cell_type": "code",
   "execution_count": 244,
   "id": "2e271c26-bc4b-4675-ada1-d6f9d251adec",
   "metadata": {},
   "outputs": [
    {
     "name": "stdout",
     "output_type": "stream",
     "text": [
      "           Date     Open     High      Low    Close  Adj Close  Volume\n",
      "0    2020-01-09  45900.0  47850.0  45900.0  47400.0    47400.0    6698\n",
      "1    2020-01-10  53700.0  54000.0  49050.0  49500.0    49500.0   97319\n",
      "2    2020-01-13  49500.0  50700.0  47100.0  49500.0    49500.0   25237\n",
      "3    2020-01-14  49800.0  49800.0  48600.0  49800.0    49800.0    9862\n",
      "4    2020-01-15  50700.0  50700.0  49350.0  49950.0    49950.0   10599\n",
      "..          ...      ...      ...      ...      ...        ...     ...\n",
      "795  2023-03-30  11790.0  12000.0  11610.0  11820.0    11820.0    7624\n",
      "796  2023-03-31  11820.0  11820.0  11580.0  11700.0    11700.0    5311\n",
      "797  2023-04-03  11700.0  11700.0  11550.0  11700.0    11700.0    5263\n",
      "798  2023-04-04  11700.0  11880.0  11550.0  11760.0    11760.0    6703\n",
      "799  2023-04-05  11850.0  12210.0  11790.0  12180.0    12180.0   17027\n",
      "\n",
      "[800 rows x 7 columns]\n"
     ]
    }
   ],
   "source": [
    "print(df)"
   ]
  },
  {
   "cell_type": "code",
   "execution_count": 246,
   "id": "4042ae0d-25f2-4760-b599-749364554b33",
   "metadata": {},
   "outputs": [
    {
     "name": "stdout",
     "output_type": "stream",
     "text": [
      "          Date     Open     High      Low    Close  Adj Close  Volume\n",
      "0   2020-01-09  45900.0  47850.0  45900.0  47400.0    47400.0    6698\n",
      "1   2020-01-10  53700.0  54000.0  49050.0  49500.0    49500.0   97319\n",
      "2   2020-01-13  49500.0  50700.0  47100.0  49500.0    49500.0   25237\n",
      "3   2020-01-14  49800.0  49800.0  48600.0  49800.0    49800.0    9862\n",
      "4   2020-01-15  50700.0  50700.0  49350.0  49950.0    49950.0   10599\n",
      "..         ...      ...      ...      ...      ...        ...     ...\n",
      "795 2023-03-30  11790.0  12000.0  11610.0  11820.0    11820.0    7624\n",
      "796 2023-03-31  11820.0  11820.0  11580.0  11700.0    11700.0    5311\n",
      "797 2023-04-03  11700.0  11700.0  11550.0  11700.0    11700.0    5263\n",
      "798 2023-04-04  11700.0  11880.0  11550.0  11760.0    11760.0    6703\n",
      "799 2023-04-05  11850.0  12210.0  11790.0  12180.0    12180.0   17027\n",
      "\n",
      "[800 rows x 7 columns]\n"
     ]
    }
   ],
   "source": [
    "df['Date']=pd.to_datetime(df['Date'])\n",
    "print(df)"
   ]
  },
  {
   "cell_type": "code",
   "execution_count": 248,
   "id": "c743e3c2-1933-4df3-ac69-a2a2b9f18053",
   "metadata": {},
   "outputs": [
    {
     "name": "stdout",
     "output_type": "stream",
     "text": [
      "          Date     Open     High      Low    Close  Adj Close  Volume\n",
      "0   2020-01-09  45900.0  47850.0  45900.0  47400.0    47400.0    6698\n",
      "1   2020-01-10  53700.0  54000.0  49050.0  49500.0    49500.0   97319\n",
      "2   2020-01-13  49500.0  50700.0  47100.0  49500.0    49500.0   25237\n",
      "3   2020-01-14  49800.0  49800.0  48600.0  49800.0    49800.0    9862\n",
      "4   2020-01-15  50700.0  50700.0  49350.0  49950.0    49950.0   10599\n",
      "..         ...      ...      ...      ...      ...        ...     ...\n",
      "795 2023-03-30  11790.0  12000.0  11610.0  11820.0    11820.0    7624\n",
      "796 2023-03-31  11820.0  11820.0  11580.0  11700.0    11700.0    5311\n",
      "797 2023-04-03  11700.0  11700.0  11550.0  11700.0    11700.0    5263\n",
      "798 2023-04-04  11700.0  11880.0  11550.0  11760.0    11760.0    6703\n",
      "799 2023-04-05  11850.0  12210.0  11790.0  12180.0    12180.0   17027\n",
      "\n",
      "[800 rows x 7 columns]\n"
     ]
    }
   ],
   "source": [
    "df['Date']=pd.to_datetime(df['Date'])\n",
    "print(df)"
   ]
  },
  {
   "cell_type": "code",
   "execution_count": 250,
   "id": "0840e4b8-366a-4240-b703-eb660e221829",
   "metadata": {},
   "outputs": [
    {
     "name": "stdout",
     "output_type": "stream",
     "text": [
      "                 Date     Open     High      Low    Close  Adj Close  Volume\n",
      "Date                                                                        \n",
      "2020-01-09 2020-01-09  45900.0  47850.0  45900.0  47400.0    47400.0    6698\n",
      "2020-01-10 2020-01-10  53700.0  54000.0  49050.0  49500.0    49500.0   97319\n",
      "2020-01-13 2020-01-13  49500.0  50700.0  47100.0  49500.0    49500.0   25237\n",
      "2020-01-14 2020-01-14  49800.0  49800.0  48600.0  49800.0    49800.0    9862\n",
      "2020-01-15 2020-01-15  50700.0  50700.0  49350.0  49950.0    49950.0   10599\n",
      "...               ...      ...      ...      ...      ...        ...     ...\n",
      "2023-03-30 2023-03-30  11790.0  12000.0  11610.0  11820.0    11820.0    7624\n",
      "2023-03-31 2023-03-31  11820.0  11820.0  11580.0  11700.0    11700.0    5311\n",
      "2023-04-03 2023-04-03  11700.0  11700.0  11550.0  11700.0    11700.0    5263\n",
      "2023-04-04 2023-04-04  11700.0  11880.0  11550.0  11760.0    11760.0    6703\n",
      "2023-04-05 2023-04-05  11850.0  12210.0  11790.0  12180.0    12180.0   17027\n",
      "\n",
      "[800 rows x 7 columns]\n",
      "               Open     High      Low    Close  Adj Close  Volume\n",
      "Date                                                             \n",
      "2020-01-09  45900.0  47850.0  45900.0  47400.0    47400.0    6698\n",
      "2020-01-10  53700.0  54000.0  49050.0  49500.0    49500.0   97319\n",
      "2020-01-13  49500.0  50700.0  47100.0  49500.0    49500.0   25237\n",
      "2020-01-14  49800.0  49800.0  48600.0  49800.0    49800.0    9862\n",
      "2020-01-15  50700.0  50700.0  49350.0  49950.0    49950.0   10599\n",
      "...             ...      ...      ...      ...        ...     ...\n",
      "2023-03-30  11790.0  12000.0  11610.0  11820.0    11820.0    7624\n",
      "2023-03-31  11820.0  11820.0  11580.0  11700.0    11700.0    5311\n",
      "2023-04-03  11700.0  11700.0  11550.0  11700.0    11700.0    5263\n",
      "2023-04-04  11700.0  11880.0  11550.0  11760.0    11760.0    6703\n",
      "2023-04-05  11850.0  12210.0  11790.0  12180.0    12180.0   17027\n",
      "\n",
      "[800 rows x 6 columns]\n"
     ]
    }
   ],
   "source": [
    "df.index=df['Date']\n",
    "print(df)\n",
    "df=df.drop([\"Date\"],axis=1)\n",
    "print(df)"
   ]
  },
  {
   "cell_type": "code",
   "execution_count": 311,
   "id": "10e979d3-e2a5-4ae8-85e3-1dfd2afd55bf",
   "metadata": {
    "tags": []
   },
   "outputs": [],
   "source": [
    "df['MA']=ta.SMA(df.Close,90)\n",
    "df=df.fillna(0)\n",
    "df['RSI']=ta.RSI(df.Close,14)\n",
    "df[\"STOCH_K\"],df[\"STOCH_D\"]=ta.STOCH(df[\"High\"],df[\"Low\"],df[\"Close\"],fastk_period=14,slowk_period=3,slowk_matype=0)\n",
    "\n",
    "df[\"MACD\"],df[\"MACDSignal\"],df[\"MACDHist\"]=ta.MACD(df.Close,fastperiod=12,slowperiod=26,signalperiod=9)\n",
    "df[\"WILLR\"]=ta.WILLR(df[\"High\"],df[\"Low\"],df[\"Close\"],timeperiod=14)\n",
    "\n",
    "MA=df[\"MA\"].rolling('5d').apply(lambda x: np.sign(x[-1]-x[0]),raw=False)\n",
    "df[\"Trend\"]=df[\"MA\"].rolling('5d').apply(lambda x: np.sign(x[-1]-x[0]),raw=False)\n",
    "def f(row):\n",
    "    if row['Close'] > row['MA'] and row['Trend'] == 1:\n",
    "        val = 1\n",
    "    elif row['Close'] < row['MA'] and row['Trend'] == -1:\n",
    "        val = 0\n",
    "    else:\n",
    "        val = 0\n",
    "    return val\n",
    "df['Trend'] = df.apply(f, axis=1, raw=False)\n",
    "\n"
   ]
  },
  {
   "cell_type": "code",
   "execution_count": 312,
   "id": "acf73ead-b463-4b79-a5df-1544e7504ff9",
   "metadata": {},
   "outputs": [],
   "source": [
    "# MA,RSI,WILLR都用到了当天的数据，在计算trend时需要，但是在模型输入中要平移一天\n",
    "df['MA'] = df['MA'].shift(1)\n",
    "df['MACD'] = df['MACD'].shift(1)\n",
    "df['WILLR'] = df['WILLR'].shift(1)\n",
    "df['RSI']= df['RSI'].shift(1)\n"
   ]
  },
  {
   "cell_type": "code",
   "execution_count": 315,
   "id": "0016fd8f-9039-4d0e-b020-b8366fd48e3e",
   "metadata": {},
   "outputs": [
    {
     "name": "stdout",
     "output_type": "stream",
     "text": [
      "Date\n",
      "2020-05-19        0.000000\n",
      "2020-05-20        0.000000\n",
      "2020-05-21        0.000000\n",
      "2020-05-22    43360.666667\n",
      "2020-05-25    43339.000000\n",
      "2020-05-26    43289.000000\n",
      "2020-05-27    43237.333333\n",
      "2020-05-28    43182.333333\n",
      "2020-05-29    43124.000000\n",
      "2020-06-01    43064.000000\n",
      "2020-06-02    42995.666667\n",
      "2020-06-03    42949.000000\n",
      "2020-06-04    42905.666667\n",
      "Name: MA, dtype: float64\n",
      "Date\n",
      "2020-01-09          NaN\n",
      "2020-01-10          NaN\n",
      "2020-01-13          NaN\n",
      "2020-01-14          NaN\n",
      "2020-01-15          NaN\n",
      "2020-01-16    59.761905\n",
      "2020-01-17    60.687831\n",
      "2020-01-20    45.319865\n",
      "2020-01-21    34.550635\n",
      "2020-01-22     8.624709\n",
      "2020-01-23    19.230769\n",
      "2020-01-28    20.000000\n",
      "2020-01-29    35.686275\n",
      "2020-01-30    20.606909\n",
      "2020-01-31    24.965884\n",
      "2020-02-03    29.279609\n",
      "2020-02-04    59.791073\n",
      "2020-02-05    65.142244\n",
      "2020-02-06    67.364466\n",
      "2020-02-07    63.837129\n",
      "Name: STOCH_K, dtype: float64\n",
      "Date\n",
      "2020-01-09          NaN\n",
      "2020-01-10          NaN\n",
      "2020-01-13          NaN\n",
      "2020-01-14          NaN\n",
      "2020-01-15          NaN\n",
      "2020-01-16    56.397899\n",
      "2020-01-17    59.490837\n",
      "2020-01-20    55.256534\n",
      "2020-01-21    46.852777\n",
      "2020-01-22    29.498403\n",
      "2020-01-23    20.802037\n",
      "2020-01-28    15.951826\n",
      "2020-01-29    24.972348\n",
      "2020-01-30    25.431061\n",
      "2020-01-31    27.086356\n",
      "2020-02-03    24.950801\n",
      "2020-02-04    38.012189\n",
      "2020-02-05    51.404309\n",
      "2020-02-06    64.099261\n",
      "2020-02-07    65.447946\n",
      "Name: STOCH_D, dtype: float64\n",
      "Date\n",
      "2020-01-09    47850.0\n",
      "2020-01-10    54000.0\n",
      "2020-01-13    50700.0\n",
      "2020-01-14    49800.0\n",
      "2020-01-15    50700.0\n",
      "               ...   \n",
      "2023-03-30    12000.0\n",
      "2023-03-31    11820.0\n",
      "2023-04-03    11700.0\n",
      "2023-04-04    11880.0\n",
      "2023-04-05    12210.0\n",
      "Name: High, Length: 800, dtype: float64\n",
      "Date\n",
      "2020-01-09    45900.0\n",
      "2020-01-10    49050.0\n",
      "2020-01-13    47100.0\n",
      "2020-01-14    48600.0\n",
      "2020-01-15    49350.0\n",
      "               ...   \n",
      "2023-03-30    11610.0\n",
      "2023-03-31    11580.0\n",
      "2023-04-03    11550.0\n",
      "2023-04-04    11550.0\n",
      "2023-04-05    11790.0\n",
      "Name: Low, Length: 800, dtype: float64\n",
      "Date\n",
      "2020-02-24            NaN\n",
      "2020-02-25            NaN\n",
      "2020-02-26            NaN\n",
      "2020-02-27            NaN\n",
      "2020-02-28       8.403485\n",
      "2020-03-02    -208.936253\n",
      "2020-03-03    -340.938199\n",
      "2020-03-04    -464.404815\n",
      "2020-03-05    -436.187437\n",
      "2020-03-06    -480.903879\n",
      "2020-03-09    -677.979110\n",
      "2020-03-10   -1016.109515\n",
      "2020-03-11   -1221.583655\n",
      "2020-03-12   -1452.407171\n",
      "2020-03-13   -1832.084772\n",
      "2020-03-16   -2443.717255\n",
      "2020-03-17   -3182.247351\n",
      "2020-03-18   -3808.363553\n",
      "2020-03-19   -4291.407716\n",
      "2020-03-20   -5006.255335\n",
      "2020-03-23   -5382.432183\n",
      "2020-03-24   -5680.434760\n",
      "2020-03-25   -5801.315015\n",
      "2020-03-26   -5681.533848\n",
      "2020-03-27   -5391.317448\n",
      "2020-03-30   -5138.397847\n",
      "2020-03-31   -4778.778241\n",
      "2020-04-01   -4310.942046\n",
      "2020-04-02   -3895.276172\n",
      "2020-04-03   -3417.529106\n",
      "2020-04-06   -2812.826657\n",
      "2020-04-07   -2211.275432\n",
      "2020-04-08   -1726.740706\n",
      "2020-04-09   -1315.475714\n",
      "2020-04-10    -810.747008\n",
      "2020-04-13    -298.372700\n",
      "2020-04-14     202.186917\n",
      "2020-04-16     651.888191\n",
      "2020-04-17    1248.071374\n",
      "2020-04-20    1808.635733\n",
      "2020-04-21    2227.213100\n",
      "2020-04-22    2398.153053\n",
      "2020-04-23    2480.819363\n",
      "2020-04-24    2505.349157\n",
      "2020-04-27    2364.392738\n",
      "2020-04-28    2274.875398\n",
      "2020-04-29    2250.611096\n",
      "2020-05-04    2146.123554\n",
      "2020-05-06    2027.837034\n",
      "2020-05-07    2007.779652\n",
      "2020-05-08    1993.116123\n",
      "2020-05-11    2030.708901\n",
      "2020-05-12    2025.054138\n",
      "2020-05-13    1961.648793\n",
      "2020-05-14    1901.583080\n",
      "2020-05-15    1784.989339\n",
      "2020-05-18    1637.401771\n",
      "2020-05-19    1539.008072\n",
      "2020-05-20    1528.141122\n",
      "2020-05-21    1514.178228\n",
      "Name: MACD, dtype: float64\n"
     ]
    }
   ],
   "source": [
    "print(df['MA'][87:100])\n",
    "print(df['STOCH_K'][0:20])\n",
    "print(df['STOCH_D'][0:20])\n",
    "print(df['High'])\n",
    "print(df['Low'])\n",
    "print(df['MACD'][30:90])"
   ]
  },
  {
   "cell_type": "code",
   "execution_count": 317,
   "id": "2c5605db-9b71-4b68-8987-84b85cc101ed",
   "metadata": {},
   "outputs": [],
   "source": [
    "# MA=np.where(MA==1,1,0)\n",
    "# print(MA[80:100])"
   ]
  },
  {
   "cell_type": "code",
   "execution_count": 319,
   "id": "424a42eb-3c5f-4178-ad61-ca16c6da62a0",
   "metadata": {},
   "outputs": [],
   "source": [
    "# MA_Clos=np.where(df[\"Close\"]>df['MA'],1,0)\n",
    "# print(\"MA_Clos:\")\n",
    "# print(len(MA_Clos))\n",
    "# print(\"MA\")\n",
    "# print(len(MA))\n",
    "# Tr=MA.mul(MA_Clos)\n",
    "# print(\"Tr:\")\n",
    "# print(len(Tr))\n",
    "\n",
    "\n",
    "#df['WILLR']=ta.WILLR(df['MA','RSI'])"
   ]
  },
  {
   "cell_type": "code",
   "execution_count": 321,
   "id": "fa84990d-b3c5-4461-a797-a77fc79ca98e",
   "metadata": {},
   "outputs": [],
   "source": [
    "Close=df[\"Close\"]\n",
    "# df[\"Tri\"]=((Close-Close.rolling('3 d').min())/(Close.rolling('3 d').max()-Close.rolling('3 d').min()))* 0.5  + 0.5*df['Trend']\n",
    "# df[\"DownTri\"]=(Close-Close.rolling('3d').min())/(Close.rolling('3d').max()-Close.rolling('3d').min())* .5"
   ]
  },
  {
   "cell_type": "code",
   "execution_count": 323,
   "id": "1a45a4b6-2b1a-4fc9-8314-1d8a26f3b6e4",
   "metadata": {},
   "outputs": [
    {
     "name": "stdout",
     "output_type": "stream",
     "text": [
      "               Open     High      Low    Close  Adj Close  Volume  \\\n",
      "Date                                                                \n",
      "2020-01-09  45900.0  47850.0  45900.0  47400.0    47400.0    6698   \n",
      "2020-01-10  53700.0  54000.0  49050.0  49500.0    49500.0   97319   \n",
      "2020-01-13  49500.0  50700.0  47100.0  49500.0    49500.0   25237   \n",
      "2020-01-14  49800.0  49800.0  48600.0  49800.0    49800.0    9862   \n",
      "2020-01-15  50700.0  50700.0  49350.0  49950.0    49950.0   10599   \n",
      "...             ...      ...      ...      ...        ...     ...   \n",
      "2023-03-30  11790.0  12000.0  11610.0  11820.0    11820.0    7624   \n",
      "2023-03-31  11820.0  11820.0  11580.0  11700.0    11700.0    5311   \n",
      "2023-04-03  11700.0  11700.0  11550.0  11700.0    11700.0    5263   \n",
      "2023-04-04  11700.0  11880.0  11550.0  11760.0    11760.0    6703   \n",
      "2023-04-05  11850.0  12210.0  11790.0  12180.0    12180.0   17027   \n",
      "\n",
      "                      MA        RSI    STOCH_K    STOCH_D        MACD  \\\n",
      "Date                                                                    \n",
      "2020-01-09           NaN        NaN        NaN        NaN         NaN   \n",
      "2020-01-10      0.000000        NaN        NaN        NaN         NaN   \n",
      "2020-01-13      0.000000        NaN        NaN        NaN         NaN   \n",
      "2020-01-14      0.000000        NaN        NaN        NaN         NaN   \n",
      "2020-01-15      0.000000        NaN        NaN        NaN         NaN   \n",
      "...                  ...        ...        ...        ...         ...   \n",
      "2023-03-30  13266.000000  44.513661  60.012210  69.628890 -314.587503   \n",
      "2023-03-31  13234.000000  43.960242  44.139194  59.108669 -287.639149   \n",
      "2023-04-03  13202.333333  41.725601  45.991046  50.047483 -272.820476   \n",
      "2023-04-04  13173.000000  41.725601  49.254449  46.461563 -258.101340   \n",
      "2023-04-05  13140.000000  43.394185  71.548822  55.598106 -238.841602   \n",
      "\n",
      "            MACDSignal   MACDHist      WILLR  Trend  UpTrend  DownTrend  \\\n",
      "Date                                                                      \n",
      "2020-01-09         NaN        NaN        NaN      0      0.0        0.0   \n",
      "2020-01-10         NaN        NaN        NaN      0      1.0        0.5   \n",
      "2020-01-13         NaN        NaN        NaN      0      0.0        0.0   \n",
      "2020-01-14         NaN        NaN        NaN      0      1.0        0.5   \n",
      "2020-01-15         NaN        NaN        NaN      0      0.5        0.0   \n",
      "...                ...        ...        ...    ...      ...        ...   \n",
      "2023-03-30 -364.659297  77.020148 -31.372549      0      1.0        0.5   \n",
      "2023-03-31 -346.291533  73.471056 -24.444444      0      1.0        0.5   \n",
      "2023-04-03 -328.653494  70.552154 -33.333333      0      0.0        0.0   \n",
      "2023-04-04 -310.691116  71.849513 -31.818182      0      0.0        0.0   \n",
      "2023-04-05 -286.058082  98.532133 -27.272727      0      0.0        0.0   \n",
      "\n",
      "            Trade_Signal  \n",
      "Date                      \n",
      "2020-01-09           0.0  \n",
      "2020-01-10           0.5  \n",
      "2020-01-13           0.0  \n",
      "2020-01-14           0.5  \n",
      "2020-01-15           0.0  \n",
      "...                  ...  \n",
      "2023-03-30           0.5  \n",
      "2023-03-31           0.5  \n",
      "2023-04-03           0.0  \n",
      "2023-04-04           0.0  \n",
      "2023-04-05           0.0  \n",
      "\n",
      "[800 rows x 18 columns]\n",
      "               Open     High      Low    Close  Adj Close  Volume        MA  \\\n",
      "Date                                                                          \n",
      "2020-01-09  45900.0  47850.0  45900.0  47400.0    47400.0    6698       NaN   \n",
      "2020-01-10  53700.0  54000.0  49050.0  49500.0    49500.0   97319  0.000000   \n",
      "2020-01-13  49500.0  50700.0  47100.0  49500.0    49500.0   25237  0.000000   \n",
      "2020-01-14  49800.0  49800.0  48600.0  49800.0    49800.0    9862  0.000000   \n",
      "2020-01-15  50700.0  50700.0  49350.0  49950.0    49950.0   10599  0.000000   \n",
      "...             ...      ...      ...      ...        ...     ...       ...   \n",
      "2023-03-30  11790.0  12000.0  11610.0  11820.0    11820.0    7624  0.188840   \n",
      "2023-03-31  11820.0  11820.0  11580.0  11700.0    11700.0    5311  0.188384   \n",
      "2023-04-03  11700.0  11700.0  11550.0  11700.0    11700.0    5263  0.187934   \n",
      "2023-04-04  11700.0  11880.0  11550.0  11760.0    11760.0    6703  0.187516   \n",
      "2023-04-05  11850.0  12210.0  11790.0  12180.0    12180.0   17027  0.187046   \n",
      "\n",
      "                 RSI   STOCH_K   STOCH_D      MACD  MACDSignal   MACDHist  \\\n",
      "Date                                                                        \n",
      "2020-01-09       NaN       NaN       NaN       NaN         NaN        NaN   \n",
      "2020-01-10       NaN       NaN       NaN       NaN         NaN        NaN   \n",
      "2020-01-13       NaN       NaN       NaN       NaN         NaN        NaN   \n",
      "2020-01-14       NaN       NaN       NaN       NaN         NaN        NaN   \n",
      "2020-01-15       NaN       NaN       NaN       NaN         NaN        NaN   \n",
      "...              ...       ...       ...       ...         ...        ...   \n",
      "2023-03-30  0.378260  0.622162  0.753344  0.271670 -364.659297  77.020148   \n",
      "2023-03-31  0.371349  0.452037  0.630573  0.273004 -346.291533  73.471056   \n",
      "2023-04-03  0.343443  0.471885  0.524829  0.273738 -328.653494  70.552154   \n",
      "2023-04-04  0.343443  0.506861  0.482981  0.274467 -310.691116  71.849513   \n",
      "2023-04-05  0.364280  0.745810  0.589604  0.275421 -286.058082  98.532133   \n",
      "\n",
      "               WILLR  Trend  UpTrend  DownTrend  Trade_Signal  \n",
      "Date                                                           \n",
      "2020-01-09       NaN      0      0.0        0.0           0.0  \n",
      "2020-01-10       NaN      0      1.0        0.5           0.5  \n",
      "2020-01-13       NaN      0      0.0        0.0           0.0  \n",
      "2020-01-14       NaN      0      1.0        0.5           0.5  \n",
      "2020-01-15       NaN      0      0.5        0.0           0.0  \n",
      "...              ...    ...      ...        ...           ...  \n",
      "2023-03-30  0.686275      0      1.0        0.5           0.5  \n",
      "2023-03-31  0.755556      0      1.0        0.5           0.5  \n",
      "2023-04-03  0.666667      0      0.0        0.0           0.0  \n",
      "2023-04-04  0.681818      0      0.0        0.0           0.0  \n",
      "2023-04-05  0.727273      0      0.0        0.0           0.0  \n",
      "\n",
      "[800 rows x 18 columns]\n"
     ]
    }
   ],
   "source": [
    "# 归一化\n",
    "print(df)\n",
    "scaler = MinMaxScaler()\n",
    "df[[\"MA\", \"MACD\", \"RSI\", \"WILLR\", \"STOCH_K\", \"STOCH_D\"]] = scaler.fit_transform(df[[\"MA\", \"MACD\", \"RSI\", \"WILLR\", \"STOCH_K\", \"STOCH_D\"]])\n",
    "print(df)\n",
    "\n",
    "# print(df[\"Tri\"])"
   ]
  },
  {
   "cell_type": "code",
   "execution_count": 287,
   "id": "0464cd25-b06b-4d4c-b5bb-8823a3b275f8",
   "metadata": {},
   "outputs": [
    {
     "name": "stdout",
     "output_type": "stream",
     "text": [
      "45000.0\n"
     ]
    }
   ],
   "source": [
    "Close=df[\"Close\"]\n",
    "print(Close[14])\n",
    "# df[\"UpTrend\"] = ((Close - Close.rolling('3 D').min())/(Close.rolling('3 D').max() - Close.rolling('3 D').min()) * .5) + .5\n",
    "# df[\"DownTrend\"] = (Close - Close.rolling('3 D').min())/(Close.rolling('3 D').max() - Close.rolling('3 D').min()) * .5\n",
    "\n",
    "df[\"UpTrend\"] = (Close.shift(-3) - Close.shift(-3).rolling('3D').min()) / (Close.shift(-3).rolling('3D').max() - Close.shift(-3).rolling('3D').min()) * 0.5+0.5\n",
    "df[\"DownTrend\"] = (Close.shift(-3) - Close.shift(-3).rolling('3D').min()) / (Close.shift(-3).rolling('3D').max() - Close.shift(-3).rolling('3D').min()) * 0.5\n",
    "\n",
    "def g(row):\n",
    "    if row['Trend'] == 1:\n",
    "        val = row['UpTrend']\n",
    "    elif row['Trend'] == 0:\n",
    "        val = row['DownTrend']\n",
    "    else:\n",
    "        val = 0\n",
    "    return val\n",
    "df['Trade_Signal'] = df.apply(g, axis=1, raw=False)"
   ]
  },
  {
   "cell_type": "code",
   "execution_count": 288,
   "id": "5024cd69-a207-44de-ade7-aa349970e404",
   "metadata": {},
   "outputs": [
    {
     "name": "stdout",
     "output_type": "stream",
     "text": [
      "Date\n",
      "2020-01-09    NaN\n",
      "2020-01-10    0.5\n",
      "2020-01-13    NaN\n",
      "2020-01-14    0.5\n",
      "2020-01-15    0.0\n",
      "             ... \n",
      "2023-03-30    0.5\n",
      "2023-03-31    0.5\n",
      "2023-04-03    NaN\n",
      "2023-04-04    NaN\n",
      "2023-04-05    NaN\n",
      "Name: Trade_Signal, Length: 800, dtype: float64\n"
     ]
    }
   ],
   "source": [
    "print(df['Trade_Signal'])"
   ]
  },
  {
   "cell_type": "code",
   "execution_count": 268,
   "id": "2c56acd5-bda7-4e8d-987f-d52fb62e140e",
   "metadata": {},
   "outputs": [
    {
     "name": "stdout",
     "output_type": "stream",
     "text": [
      "Date\n",
      "2020-03-23         NaN\n",
      "2020-03-24    0.500000\n",
      "2020-03-25    0.500000\n",
      "2020-03-26    0.500000\n",
      "2020-03-27    0.363636\n",
      "2020-03-30         NaN\n",
      "2020-03-31    0.500000\n",
      "2020-04-01    0.500000\n",
      "2020-04-02    0.500000\n",
      "2020-04-03    0.500000\n",
      "2020-04-06         NaN\n",
      "2020-04-07    0.000000\n",
      "2020-04-08    0.500000\n",
      "2020-04-09    0.500000\n",
      "2020-04-10    0.500000\n",
      "2020-04-13         NaN\n",
      "2020-04-14    0.500000\n",
      "2020-04-16    0.500000\n",
      "2020-04-17    0.500000\n",
      "2020-04-20         NaN\n",
      "2020-04-21    0.000000\n",
      "2020-04-22    0.000000\n",
      "2020-04-23    0.000000\n",
      "2020-04-24    0.000000\n",
      "2020-04-27         NaN\n",
      "2020-04-28    0.500000\n",
      "2020-04-29    0.083333\n",
      "2020-05-04         NaN\n",
      "2020-05-06    0.500000\n",
      "2020-05-07    0.500000\n",
      "2020-05-08    0.500000\n",
      "2020-05-11         NaN\n",
      "2020-05-12    0.000000\n",
      "2020-05-13    0.166667\n",
      "2020-05-14    0.000000\n",
      "2020-05-15    0.000000\n",
      "2020-05-18         NaN\n",
      "2020-05-19    0.500000\n",
      "2020-05-20    0.500000\n",
      "2020-05-21    1.000000\n",
      "2020-05-22    0.500000\n",
      "2020-05-25         NaN\n",
      "2020-05-26    0.000000\n",
      "2020-05-27    0.000000\n",
      "2020-05-28    0.000000\n",
      "2020-05-29    0.000000\n",
      "2020-06-01         NaN\n",
      "2020-06-02    0.500000\n",
      "2020-06-03    0.333333\n",
      "2020-06-04    0.000000\n",
      "Name: Trade_Signal, dtype: float64\n"
     ]
    },
    {
     "ename": "KeyError",
     "evalue": "'Tri'",
     "output_type": "error",
     "traceback": [
      "\u001b[0;31m---------------------------------------------------------------------------\u001b[0m",
      "\u001b[0;31mKeyError\u001b[0m                                  Traceback (most recent call last)",
      "File \u001b[0;32m/opt/conda/envs/anaconda-2022.05-py39/lib/python3.9/site-packages/pandas/core/indexes/base.py:3621\u001b[0m, in \u001b[0;36mIndex.get_loc\u001b[0;34m(self, key, method, tolerance)\u001b[0m\n\u001b[1;32m   3620\u001b[0m \u001b[38;5;28;01mtry\u001b[39;00m:\n\u001b[0;32m-> 3621\u001b[0m     \u001b[38;5;28;01mreturn\u001b[39;00m \u001b[38;5;28;43mself\u001b[39;49m\u001b[38;5;241;43m.\u001b[39;49m\u001b[43m_engine\u001b[49m\u001b[38;5;241;43m.\u001b[39;49m\u001b[43mget_loc\u001b[49m\u001b[43m(\u001b[49m\u001b[43mcasted_key\u001b[49m\u001b[43m)\u001b[49m\n\u001b[1;32m   3622\u001b[0m \u001b[38;5;28;01mexcept\u001b[39;00m \u001b[38;5;167;01mKeyError\u001b[39;00m \u001b[38;5;28;01mas\u001b[39;00m err:\n",
      "File \u001b[0;32m/opt/conda/envs/anaconda-2022.05-py39/lib/python3.9/site-packages/pandas/_libs/index.pyx:136\u001b[0m, in \u001b[0;36mpandas._libs.index.IndexEngine.get_loc\u001b[0;34m()\u001b[0m\n",
      "File \u001b[0;32m/opt/conda/envs/anaconda-2022.05-py39/lib/python3.9/site-packages/pandas/_libs/index.pyx:163\u001b[0m, in \u001b[0;36mpandas._libs.index.IndexEngine.get_loc\u001b[0;34m()\u001b[0m\n",
      "File \u001b[0;32mpandas/_libs/hashtable_class_helper.pxi:5198\u001b[0m, in \u001b[0;36mpandas._libs.hashtable.PyObjectHashTable.get_item\u001b[0;34m()\u001b[0m\n",
      "File \u001b[0;32mpandas/_libs/hashtable_class_helper.pxi:5206\u001b[0m, in \u001b[0;36mpandas._libs.hashtable.PyObjectHashTable.get_item\u001b[0;34m()\u001b[0m\n",
      "\u001b[0;31mKeyError\u001b[0m: 'Tri'",
      "\nThe above exception was the direct cause of the following exception:\n",
      "\u001b[0;31mKeyError\u001b[0m                                  Traceback (most recent call last)",
      "Input \u001b[0;32mIn [268]\u001b[0m, in \u001b[0;36m<cell line: 2>\u001b[0;34m()\u001b[0m\n\u001b[1;32m      1\u001b[0m \u001b[38;5;28mprint\u001b[39m(df[\u001b[38;5;124m'\u001b[39m\u001b[38;5;124mTrade_Signal\u001b[39m\u001b[38;5;124m'\u001b[39m][\u001b[38;5;241m50\u001b[39m:\u001b[38;5;241m100\u001b[39m])\n\u001b[0;32m----> 2\u001b[0m \u001b[38;5;28mprint\u001b[39m(\u001b[43mdf\u001b[49m\u001b[43m[\u001b[49m\u001b[38;5;124;43m'\u001b[39;49m\u001b[38;5;124;43mTri\u001b[39;49m\u001b[38;5;124;43m'\u001b[39;49m\u001b[43m]\u001b[49m[\u001b[38;5;241m50\u001b[39m:\u001b[38;5;241m100\u001b[39m])\n",
      "File \u001b[0;32m/opt/conda/envs/anaconda-2022.05-py39/lib/python3.9/site-packages/pandas/core/frame.py:3505\u001b[0m, in \u001b[0;36mDataFrame.__getitem__\u001b[0;34m(self, key)\u001b[0m\n\u001b[1;32m   3503\u001b[0m \u001b[38;5;28;01mif\u001b[39;00m \u001b[38;5;28mself\u001b[39m\u001b[38;5;241m.\u001b[39mcolumns\u001b[38;5;241m.\u001b[39mnlevels \u001b[38;5;241m>\u001b[39m \u001b[38;5;241m1\u001b[39m:\n\u001b[1;32m   3504\u001b[0m     \u001b[38;5;28;01mreturn\u001b[39;00m \u001b[38;5;28mself\u001b[39m\u001b[38;5;241m.\u001b[39m_getitem_multilevel(key)\n\u001b[0;32m-> 3505\u001b[0m indexer \u001b[38;5;241m=\u001b[39m \u001b[38;5;28;43mself\u001b[39;49m\u001b[38;5;241;43m.\u001b[39;49m\u001b[43mcolumns\u001b[49m\u001b[38;5;241;43m.\u001b[39;49m\u001b[43mget_loc\u001b[49m\u001b[43m(\u001b[49m\u001b[43mkey\u001b[49m\u001b[43m)\u001b[49m\n\u001b[1;32m   3506\u001b[0m \u001b[38;5;28;01mif\u001b[39;00m is_integer(indexer):\n\u001b[1;32m   3507\u001b[0m     indexer \u001b[38;5;241m=\u001b[39m [indexer]\n",
      "File \u001b[0;32m/opt/conda/envs/anaconda-2022.05-py39/lib/python3.9/site-packages/pandas/core/indexes/base.py:3623\u001b[0m, in \u001b[0;36mIndex.get_loc\u001b[0;34m(self, key, method, tolerance)\u001b[0m\n\u001b[1;32m   3621\u001b[0m     \u001b[38;5;28;01mreturn\u001b[39;00m \u001b[38;5;28mself\u001b[39m\u001b[38;5;241m.\u001b[39m_engine\u001b[38;5;241m.\u001b[39mget_loc(casted_key)\n\u001b[1;32m   3622\u001b[0m \u001b[38;5;28;01mexcept\u001b[39;00m \u001b[38;5;167;01mKeyError\u001b[39;00m \u001b[38;5;28;01mas\u001b[39;00m err:\n\u001b[0;32m-> 3623\u001b[0m     \u001b[38;5;28;01mraise\u001b[39;00m \u001b[38;5;167;01mKeyError\u001b[39;00m(key) \u001b[38;5;28;01mfrom\u001b[39;00m \u001b[38;5;21;01merr\u001b[39;00m\n\u001b[1;32m   3624\u001b[0m \u001b[38;5;28;01mexcept\u001b[39;00m \u001b[38;5;167;01mTypeError\u001b[39;00m:\n\u001b[1;32m   3625\u001b[0m     \u001b[38;5;66;03m# If we have a listlike key, _check_indexing_error will raise\u001b[39;00m\n\u001b[1;32m   3626\u001b[0m     \u001b[38;5;66;03m#  InvalidIndexError. Otherwise we fall through and re-raise\u001b[39;00m\n\u001b[1;32m   3627\u001b[0m     \u001b[38;5;66;03m#  the TypeError.\u001b[39;00m\n\u001b[1;32m   3628\u001b[0m     \u001b[38;5;28mself\u001b[39m\u001b[38;5;241m.\u001b[39m_check_indexing_error(key)\n",
      "\u001b[0;31mKeyError\u001b[0m: 'Tri'"
     ]
    }
   ],
   "source": [
    "print(df['Trade_Signal'][50:100])\n",
    "print(df['Tri'][50:100])"
   ]
  },
  {
   "cell_type": "code",
   "execution_count": 43,
   "id": "d509cd9f-4917-4e6d-b012-8c6d156232c6",
   "metadata": {},
   "outputs": [
    {
     "name": "stdout",
     "output_type": "stream",
     "text": [
      "                  MA       RSI   STOCH_K   STOCH_D      MACD     WILLR\n",
      "Date                                                                  \n",
      "2020-01-09  0.000000       NaN       NaN       NaN       NaN       NaN\n",
      "2020-01-10  0.000000       NaN       NaN       NaN       NaN       NaN\n",
      "2020-01-13  0.000000       NaN       NaN       NaN       NaN       NaN\n",
      "2020-01-14  0.000000       NaN       NaN       NaN       NaN       NaN\n",
      "2020-01-15  0.000000       NaN       NaN       NaN       NaN       NaN\n",
      "...              ...       ...       ...       ...       ...       ...\n",
      "2023-12-01  0.007591  0.979307  0.994191  0.945714  0.324367  0.977221\n",
      "2023-12-04  0.006878  0.979578  0.998064  0.998712  0.328627  0.982906\n",
      "2023-12-05  0.006215  0.961667  0.998059  0.998064  0.331335  0.971510\n",
      "2023-12-06  0.006749  0.962568  0.999987  1.000000  0.333112  0.982882\n",
      "2023-12-07  0.007336  0.969251  0.983805  0.995238  0.335245  0.935404\n",
      "\n",
      "[966 rows x 6 columns]\n"
     ]
    }
   ],
   "source": [
    "features=pd.concat([df['MA'],df['RSI'],df[\"STOCH_K\"],df[\"STOCH_D\"],df[\"MACD\"],df[\"WILLR\"]],axis=1)\n",
    "print(features)"
   ]
  },
  {
   "cell_type": "code",
   "execution_count": 163,
   "id": "90c3ea0a-5730-42a9-8571-5fee68d3ced1",
   "metadata": {},
   "outputs": [
    {
     "ename": "KeyError",
     "evalue": "'Tri'",
     "output_type": "error",
     "traceback": [
      "\u001b[0;31m---------------------------------------------------------------------------\u001b[0m",
      "\u001b[0;31mKeyError\u001b[0m                                  Traceback (most recent call last)",
      "File \u001b[0;32m/opt/conda/envs/anaconda-2022.05-py39/lib/python3.9/site-packages/pandas/core/indexes/base.py:3621\u001b[0m, in \u001b[0;36mIndex.get_loc\u001b[0;34m(self, key, method, tolerance)\u001b[0m\n\u001b[1;32m   3620\u001b[0m \u001b[38;5;28;01mtry\u001b[39;00m:\n\u001b[0;32m-> 3621\u001b[0m     \u001b[38;5;28;01mreturn\u001b[39;00m \u001b[38;5;28;43mself\u001b[39;49m\u001b[38;5;241;43m.\u001b[39;49m\u001b[43m_engine\u001b[49m\u001b[38;5;241;43m.\u001b[39;49m\u001b[43mget_loc\u001b[49m\u001b[43m(\u001b[49m\u001b[43mcasted_key\u001b[49m\u001b[43m)\u001b[49m\n\u001b[1;32m   3622\u001b[0m \u001b[38;5;28;01mexcept\u001b[39;00m \u001b[38;5;167;01mKeyError\u001b[39;00m \u001b[38;5;28;01mas\u001b[39;00m err:\n",
      "File \u001b[0;32m/opt/conda/envs/anaconda-2022.05-py39/lib/python3.9/site-packages/pandas/_libs/index.pyx:136\u001b[0m, in \u001b[0;36mpandas._libs.index.IndexEngine.get_loc\u001b[0;34m()\u001b[0m\n",
      "File \u001b[0;32m/opt/conda/envs/anaconda-2022.05-py39/lib/python3.9/site-packages/pandas/_libs/index.pyx:163\u001b[0m, in \u001b[0;36mpandas._libs.index.IndexEngine.get_loc\u001b[0;34m()\u001b[0m\n",
      "File \u001b[0;32mpandas/_libs/hashtable_class_helper.pxi:5198\u001b[0m, in \u001b[0;36mpandas._libs.hashtable.PyObjectHashTable.get_item\u001b[0;34m()\u001b[0m\n",
      "File \u001b[0;32mpandas/_libs/hashtable_class_helper.pxi:5206\u001b[0m, in \u001b[0;36mpandas._libs.hashtable.PyObjectHashTable.get_item\u001b[0;34m()\u001b[0m\n",
      "\u001b[0;31mKeyError\u001b[0m: 'Tri'",
      "\nThe above exception was the direct cause of the following exception:\n",
      "\u001b[0;31mKeyError\u001b[0m                                  Traceback (most recent call last)",
      "Input \u001b[0;32mIn [163]\u001b[0m, in \u001b[0;36m<cell line: 1>\u001b[0;34m()\u001b[0m\n\u001b[0;32m----> 1\u001b[0m target\u001b[38;5;241m=\u001b[39m\u001b[43mdf\u001b[49m\u001b[43m[\u001b[49m\u001b[38;5;124;43m'\u001b[39;49m\u001b[38;5;124;43mTri\u001b[39;49m\u001b[38;5;124;43m'\u001b[39;49m\u001b[43m]\u001b[49m\n\u001b[1;32m      2\u001b[0m \u001b[38;5;28mprint\u001b[39m(target)\n",
      "File \u001b[0;32m/opt/conda/envs/anaconda-2022.05-py39/lib/python3.9/site-packages/pandas/core/frame.py:3505\u001b[0m, in \u001b[0;36mDataFrame.__getitem__\u001b[0;34m(self, key)\u001b[0m\n\u001b[1;32m   3503\u001b[0m \u001b[38;5;28;01mif\u001b[39;00m \u001b[38;5;28mself\u001b[39m\u001b[38;5;241m.\u001b[39mcolumns\u001b[38;5;241m.\u001b[39mnlevels \u001b[38;5;241m>\u001b[39m \u001b[38;5;241m1\u001b[39m:\n\u001b[1;32m   3504\u001b[0m     \u001b[38;5;28;01mreturn\u001b[39;00m \u001b[38;5;28mself\u001b[39m\u001b[38;5;241m.\u001b[39m_getitem_multilevel(key)\n\u001b[0;32m-> 3505\u001b[0m indexer \u001b[38;5;241m=\u001b[39m \u001b[38;5;28;43mself\u001b[39;49m\u001b[38;5;241;43m.\u001b[39;49m\u001b[43mcolumns\u001b[49m\u001b[38;5;241;43m.\u001b[39;49m\u001b[43mget_loc\u001b[49m\u001b[43m(\u001b[49m\u001b[43mkey\u001b[49m\u001b[43m)\u001b[49m\n\u001b[1;32m   3506\u001b[0m \u001b[38;5;28;01mif\u001b[39;00m is_integer(indexer):\n\u001b[1;32m   3507\u001b[0m     indexer \u001b[38;5;241m=\u001b[39m [indexer]\n",
      "File \u001b[0;32m/opt/conda/envs/anaconda-2022.05-py39/lib/python3.9/site-packages/pandas/core/indexes/base.py:3623\u001b[0m, in \u001b[0;36mIndex.get_loc\u001b[0;34m(self, key, method, tolerance)\u001b[0m\n\u001b[1;32m   3621\u001b[0m     \u001b[38;5;28;01mreturn\u001b[39;00m \u001b[38;5;28mself\u001b[39m\u001b[38;5;241m.\u001b[39m_engine\u001b[38;5;241m.\u001b[39mget_loc(casted_key)\n\u001b[1;32m   3622\u001b[0m \u001b[38;5;28;01mexcept\u001b[39;00m \u001b[38;5;167;01mKeyError\u001b[39;00m \u001b[38;5;28;01mas\u001b[39;00m err:\n\u001b[0;32m-> 3623\u001b[0m     \u001b[38;5;28;01mraise\u001b[39;00m \u001b[38;5;167;01mKeyError\u001b[39;00m(key) \u001b[38;5;28;01mfrom\u001b[39;00m \u001b[38;5;21;01merr\u001b[39;00m\n\u001b[1;32m   3624\u001b[0m \u001b[38;5;28;01mexcept\u001b[39;00m \u001b[38;5;167;01mTypeError\u001b[39;00m:\n\u001b[1;32m   3625\u001b[0m     \u001b[38;5;66;03m# If we have a listlike key, _check_indexing_error will raise\u001b[39;00m\n\u001b[1;32m   3626\u001b[0m     \u001b[38;5;66;03m#  InvalidIndexError. Otherwise we fall through and re-raise\u001b[39;00m\n\u001b[1;32m   3627\u001b[0m     \u001b[38;5;66;03m#  the TypeError.\u001b[39;00m\n\u001b[1;32m   3628\u001b[0m     \u001b[38;5;28mself\u001b[39m\u001b[38;5;241m.\u001b[39m_check_indexing_error(key)\n",
      "\u001b[0;31mKeyError\u001b[0m: 'Tri'"
     ]
    }
   ],
   "source": [
    "target=df['Tri']\n",
    "print(target)"
   ]
  },
  {
   "cell_type": "code",
   "execution_count": 47,
   "id": "34dc6e40-aac8-4dfc-a2b0-7e3b2f1988d9",
   "metadata": {},
   "outputs": [
    {
     "name": "stdout",
     "output_type": "stream",
     "text": [
      "Date\n",
      "2020-03-23    0.500000\n",
      "2020-03-24    0.500000\n",
      "2020-03-25    0.500000\n",
      "2020-03-26    0.500000\n",
      "2020-03-27    0.363636\n",
      "2020-03-30    0.500000\n",
      "2020-03-31    0.500000\n",
      "2020-04-01    0.500000\n",
      "2020-04-02    0.500000\n",
      "2020-04-03    0.500000\n",
      "2020-04-06    0.500000\n",
      "2020-04-07    0.000000\n",
      "2020-04-08    0.500000\n",
      "2020-04-09    0.500000\n",
      "2020-04-10    0.500000\n",
      "2020-04-13    0.500000\n",
      "2020-04-14    0.500000\n",
      "2020-04-16    0.500000\n",
      "2020-04-17    0.500000\n",
      "2020-04-20    0.500000\n",
      "2020-04-21    0.000000\n",
      "2020-04-22    0.000000\n",
      "2020-04-23    0.000000\n",
      "2020-04-24    0.000000\n",
      "2020-04-27    0.500000\n",
      "2020-04-28    0.500000\n",
      "2020-04-29    0.083333\n",
      "2020-05-04    0.500000\n",
      "2020-05-06    0.500000\n",
      "2020-05-07    0.500000\n",
      "2020-05-08    0.500000\n",
      "2020-05-11    0.500000\n",
      "2020-05-12    0.000000\n",
      "2020-05-13    0.166667\n",
      "2020-05-14    0.000000\n",
      "2020-05-15    0.000000\n",
      "2020-05-18    0.500000\n",
      "2020-05-19    0.500000\n",
      "2020-05-20    0.500000\n",
      "2020-05-21    1.000000\n",
      "2020-05-22    0.500000\n",
      "2020-05-25    0.500000\n",
      "2020-05-26    0.000000\n",
      "2020-05-27    0.000000\n",
      "2020-05-28    0.000000\n",
      "2020-05-29    0.000000\n",
      "2020-06-01    0.500000\n",
      "2020-06-02    0.500000\n",
      "2020-06-03    0.333333\n",
      "2020-06-04    0.000000\n",
      "Name: Tri, dtype: float64\n",
      "                  MA       RSI   STOCH_K   STOCH_D      MACD     WILLR\n",
      "Date                                                                  \n",
      "2020-03-23  0.000000  0.069753  0.061169  0.068869  0.005985  0.061327\n",
      "2020-03-24  0.000000  0.094683  0.081264  0.070788  0.000000  0.086902\n",
      "2020-03-25  0.000000  0.169169  0.110233  0.083807  0.005931  0.177267\n",
      "2020-03-26  0.000000  0.229887  0.179346  0.123274  0.020301  0.264205\n",
      "2020-03-27  0.000000  0.221672  0.239501  0.176118  0.032824  0.263482\n",
      "2020-03-30  0.000000  0.269223  0.291443  0.236635  0.050630  0.329738\n",
      "2020-03-31  0.000000  0.326112  0.349482  0.293453  0.073794  0.434572\n",
      "2020-04-01  0.000000  0.326112  0.473334  0.371543  0.094376  0.627040\n",
      "2020-04-02  0.000000  0.372621  0.610349  0.478043  0.118031  0.731935\n",
      "2020-04-03  0.000000  0.446173  0.782646  0.622701  0.147972  0.940334\n",
      "2020-04-06  0.000000  0.479218  0.898320  0.764628  0.177757  0.966592\n",
      "2020-04-07  0.000000  0.474202  0.950929  0.878367  0.201749  0.886364\n",
      "2020-04-08  0.000000  0.478685  0.935320  0.929354  0.222112  0.894515\n",
      "2020-04-09  0.000000  0.538275  0.903811  0.931188  0.247103  0.874101\n",
      "2020-04-10  0.000000  0.572342  0.926393  0.922994  0.272473  0.952652\n",
      "2020-04-13  0.000000  0.600694  0.908835  0.914149  0.297258  0.842975\n",
      "2020-04-14  0.000000  0.617821  0.909962  0.916203  0.319524  0.877408\n",
      "2020-04-16  0.000000  0.680425  0.909818  0.910668  0.349044  0.952229\n",
      "2020-04-17  0.000000  0.703131  0.955327  0.926194  0.376800  0.976562\n",
      "2020-04-20  0.000000  0.703131  0.971959  0.946898  0.397525  0.926230\n",
      "2020-04-21  0.000000  0.626887  0.932385  0.954435  0.405989  0.836066\n",
      "2020-04-22  0.000000  0.613493  0.878938  0.928924  0.410082  0.819672\n",
      "2020-04-23  0.000000  0.606467  0.824117  0.879552  0.411297  0.765306\n",
      "2020-04-24  0.000000  0.531910  0.748342  0.818089  0.404317  0.613636\n",
      "2020-04-27  0.000000  0.549493  0.686642  0.753870  0.399885  0.638554\n",
      "2020-04-28  0.000000  0.575349  0.668088  0.701763  0.398684  0.710843\n",
      "2020-04-29  0.000000  0.540117  0.669718  0.675506  0.393510  0.618421\n",
      "2020-05-04  0.000000  0.532961  0.658377  0.666067  0.387653  0.605263\n",
      "2020-05-06  0.000000  0.571638  0.639779  0.656613  0.386660  0.656250\n",
      "2020-05-07  0.000000  0.581016  0.661622  0.653909  0.385934  0.682540\n",
      "2020-05-08  0.000000  0.608781  0.720392  0.674619  0.387795  0.777778\n",
      "2020-05-11  0.000000  0.599981  0.756385  0.713561  0.387515  0.761905\n",
      "2020-05-12  0.000000  0.572862  0.767200  0.748819  0.384376  0.714286\n",
      "2020-05-13  0.000000  0.578408  0.754989  0.760373  0.381402  0.741935\n",
      "2020-05-14  0.000000  0.540219  0.673878  0.732820  0.375629  0.523810\n",
      "2020-05-15  0.000000  0.512111  0.575328  0.668743  0.368321  0.425000\n",
      "2020-05-18  0.000000  0.532759  0.492909  0.581219  0.363449  0.500000\n",
      "2020-05-19  0.000000  0.577874  0.532112  0.533876  0.362911  0.638889\n",
      "2020-05-20  0.000000  0.584078  0.614440  0.546937  0.362220  0.666667\n",
      "2020-05-21  0.617234  0.590566  0.680681  0.609645  0.361416  0.694444\n",
      "2020-05-22  0.616925  0.494138  0.614440  0.637139  0.354609  0.444444\n",
      "2020-05-25  0.616214  0.465239  0.510348  0.602377  0.346731  0.361111\n",
      "2020-05-26  0.615478  0.455470  0.366682  0.497515  0.339288  0.272727\n",
      "2020-05-27  0.614695  0.455470  0.308184  0.395238  0.332864  0.272727\n",
      "2020-05-28  0.613865  0.444511  0.267751  0.314222  0.326718  0.242424\n",
      "2020-05-29  0.613011  0.433131  0.247105  0.274288  0.320861  0.212121\n",
      "2020-06-01  0.612038  0.421340  0.222329  0.245616  0.315296  0.200000\n",
      "2020-06-02  0.611374  0.488205  0.276010  0.248374  0.314172  0.400000\n",
      "2020-06-03  0.610757  0.462734  0.317303  0.271817  0.311799  0.333333\n",
      "2020-06-04  0.610164  0.462734  0.362725  0.318703  0.309660  0.333333\n"
     ]
    }
   ],
   "source": [
    "target=target.fillna(0.5)\n",
    "features=features.fillna(0.5)\n",
    "print(target[50:100])\n",
    "print(features[50:100])"
   ]
  },
  {
   "cell_type": "code",
   "execution_count": 49,
   "id": "2b568d7e-6613-4e3e-aab3-f4384916bc88",
   "metadata": {},
   "outputs": [
    {
     "name": "stdout",
     "output_type": "stream",
     "text": [
      "                  MA       RSI   STOCH_K   STOCH_D      MACD     WILLR  \\\n",
      "Date                                                                     \n",
      "2020-03-23  0.000000  0.069753  0.061169  0.068869  0.005985  0.061327   \n",
      "2020-03-24  0.000000  0.094683  0.081264  0.070788  0.000000  0.086902   \n",
      "2020-03-25  0.000000  0.169169  0.110233  0.083807  0.005931  0.177267   \n",
      "2020-03-26  0.000000  0.229887  0.179346  0.123274  0.020301  0.264205   \n",
      "2020-03-27  0.000000  0.221672  0.239501  0.176118  0.032824  0.263482   \n",
      "2020-03-30  0.000000  0.269223  0.291443  0.236635  0.050630  0.329738   \n",
      "2020-03-31  0.000000  0.326112  0.349482  0.293453  0.073794  0.434572   \n",
      "2020-04-01  0.000000  0.326112  0.473334  0.371543  0.094376  0.627040   \n",
      "2020-04-02  0.000000  0.372621  0.610349  0.478043  0.118031  0.731935   \n",
      "2020-04-03  0.000000  0.446173  0.782646  0.622701  0.147972  0.940334   \n",
      "2020-04-06  0.000000  0.479218  0.898320  0.764628  0.177757  0.966592   \n",
      "2020-04-07  0.000000  0.474202  0.950929  0.878367  0.201749  0.886364   \n",
      "2020-04-08  0.000000  0.478685  0.935320  0.929354  0.222112  0.894515   \n",
      "2020-04-09  0.000000  0.538275  0.903811  0.931188  0.247103  0.874101   \n",
      "2020-04-10  0.000000  0.572342  0.926393  0.922994  0.272473  0.952652   \n",
      "2020-04-13  0.000000  0.600694  0.908835  0.914149  0.297258  0.842975   \n",
      "2020-04-14  0.000000  0.617821  0.909962  0.916203  0.319524  0.877408   \n",
      "2020-04-16  0.000000  0.680425  0.909818  0.910668  0.349044  0.952229   \n",
      "2020-04-17  0.000000  0.703131  0.955327  0.926194  0.376800  0.976562   \n",
      "2020-04-20  0.000000  0.703131  0.971959  0.946898  0.397525  0.926230   \n",
      "2020-04-21  0.000000  0.626887  0.932385  0.954435  0.405989  0.836066   \n",
      "2020-04-22  0.000000  0.613493  0.878938  0.928924  0.410082  0.819672   \n",
      "2020-04-23  0.000000  0.606467  0.824117  0.879552  0.411297  0.765306   \n",
      "2020-04-24  0.000000  0.531910  0.748342  0.818089  0.404317  0.613636   \n",
      "2020-04-27  0.000000  0.549493  0.686642  0.753870  0.399885  0.638554   \n",
      "2020-04-28  0.000000  0.575349  0.668088  0.701763  0.398684  0.710843   \n",
      "2020-04-29  0.000000  0.540117  0.669718  0.675506  0.393510  0.618421   \n",
      "2020-05-04  0.000000  0.532961  0.658377  0.666067  0.387653  0.605263   \n",
      "2020-05-06  0.000000  0.571638  0.639779  0.656613  0.386660  0.656250   \n",
      "2020-05-07  0.000000  0.581016  0.661622  0.653909  0.385934  0.682540   \n",
      "2020-05-08  0.000000  0.608781  0.720392  0.674619  0.387795  0.777778   \n",
      "2020-05-11  0.000000  0.599981  0.756385  0.713561  0.387515  0.761905   \n",
      "2020-05-12  0.000000  0.572862  0.767200  0.748819  0.384376  0.714286   \n",
      "2020-05-13  0.000000  0.578408  0.754989  0.760373  0.381402  0.741935   \n",
      "2020-05-14  0.000000  0.540219  0.673878  0.732820  0.375629  0.523810   \n",
      "2020-05-15  0.000000  0.512111  0.575328  0.668743  0.368321  0.425000   \n",
      "2020-05-18  0.000000  0.532759  0.492909  0.581219  0.363449  0.500000   \n",
      "2020-05-19  0.000000  0.577874  0.532112  0.533876  0.362911  0.638889   \n",
      "2020-05-20  0.000000  0.584078  0.614440  0.546937  0.362220  0.666667   \n",
      "2020-05-21  0.617234  0.590566  0.680681  0.609645  0.361416  0.694444   \n",
      "2020-05-22  0.616925  0.494138  0.614440  0.637139  0.354609  0.444444   \n",
      "2020-05-25  0.616214  0.465239  0.510348  0.602377  0.346731  0.361111   \n",
      "2020-05-26  0.615478  0.455470  0.366682  0.497515  0.339288  0.272727   \n",
      "2020-05-27  0.614695  0.455470  0.308184  0.395238  0.332864  0.272727   \n",
      "2020-05-28  0.613865  0.444511  0.267751  0.314222  0.326718  0.242424   \n",
      "2020-05-29  0.613011  0.433131  0.247105  0.274288  0.320861  0.212121   \n",
      "2020-06-01  0.612038  0.421340  0.222329  0.245616  0.315296  0.200000   \n",
      "2020-06-02  0.611374  0.488205  0.276010  0.248374  0.314172  0.400000   \n",
      "2020-06-03  0.610757  0.462734  0.317303  0.271817  0.311799  0.333333   \n",
      "2020-06-04  0.610164  0.462734  0.362725  0.318703  0.309660  0.333333   \n",
      "\n",
      "                 Tri  \n",
      "Date                  \n",
      "2020-03-23  0.500000  \n",
      "2020-03-24  0.500000  \n",
      "2020-03-25  0.500000  \n",
      "2020-03-26  0.500000  \n",
      "2020-03-27  0.363636  \n",
      "2020-03-30  0.500000  \n",
      "2020-03-31  0.500000  \n",
      "2020-04-01  0.500000  \n",
      "2020-04-02  0.500000  \n",
      "2020-04-03  0.500000  \n",
      "2020-04-06  0.500000  \n",
      "2020-04-07  0.000000  \n",
      "2020-04-08  0.500000  \n",
      "2020-04-09  0.500000  \n",
      "2020-04-10  0.500000  \n",
      "2020-04-13  0.500000  \n",
      "2020-04-14  0.500000  \n",
      "2020-04-16  0.500000  \n",
      "2020-04-17  0.500000  \n",
      "2020-04-20  0.500000  \n",
      "2020-04-21  0.000000  \n",
      "2020-04-22  0.000000  \n",
      "2020-04-23  0.000000  \n",
      "2020-04-24  0.000000  \n",
      "2020-04-27  0.500000  \n",
      "2020-04-28  0.500000  \n",
      "2020-04-29  0.083333  \n",
      "2020-05-04  0.500000  \n",
      "2020-05-06  0.500000  \n",
      "2020-05-07  0.500000  \n",
      "2020-05-08  0.500000  \n",
      "2020-05-11  0.500000  \n",
      "2020-05-12  0.000000  \n",
      "2020-05-13  0.166667  \n",
      "2020-05-14  0.000000  \n",
      "2020-05-15  0.000000  \n",
      "2020-05-18  0.500000  \n",
      "2020-05-19  0.500000  \n",
      "2020-05-20  0.500000  \n",
      "2020-05-21  1.000000  \n",
      "2020-05-22  0.500000  \n",
      "2020-05-25  0.500000  \n",
      "2020-05-26  0.000000  \n",
      "2020-05-27  0.000000  \n",
      "2020-05-28  0.000000  \n",
      "2020-05-29  0.000000  \n",
      "2020-06-01  0.500000  \n",
      "2020-06-02  0.500000  \n",
      "2020-06-03  0.333333  \n",
      "2020-06-04  0.000000  \n"
     ]
    }
   ],
   "source": [
    "df2 = pd.concat([features, target], axis=1)\n",
    "print(df2[50:100])"
   ]
  },
  {
   "cell_type": "code",
   "execution_count": 219,
   "id": "aa20512c-3831-4e13-96c3-17b2db0a7bd4",
   "metadata": {},
   "outputs": [
    {
     "ename": "NameError",
     "evalue": "name 'df2' is not defined",
     "output_type": "error",
     "traceback": [
      "\u001b[0;31m---------------------------------------------------------------------------\u001b[0m",
      "\u001b[0;31mNameError\u001b[0m                                 Traceback (most recent call last)",
      "Input \u001b[0;32mIn [219]\u001b[0m, in \u001b[0;36m<cell line: 7>\u001b[0;34m()\u001b[0m\n\u001b[1;32m      4\u001b[0m \u001b[38;5;66;03m# ones_matrix=pd.DataFrame(data=1, index=range(n),columns=range(1))\u001b[39;00m\n\u001b[1;32m      5\u001b[0m initial_weights\u001b[38;5;241m=\u001b[39mnp\u001b[38;5;241m.\u001b[39mrandom\u001b[38;5;241m.\u001b[39muniform(low\u001b[38;5;241m=\u001b[39m\u001b[38;5;241m0\u001b[39m,high\u001b[38;5;241m=\u001b[39m\u001b[38;5;241m1\u001b[39m,size\u001b[38;5;241m=\u001b[39m(n,d\u001b[38;5;241m+\u001b[39m\u001b[38;5;241m1\u001b[39m))\n\u001b[0;32m----> 7\u001b[0m train\u001b[38;5;241m=\u001b[39m\u001b[43mdf2\u001b[49m\u001b[38;5;241m.\u001b[39miloc[:\u001b[38;5;241m1000\u001b[39m,:]\n\u001b[1;32m      8\u001b[0m test\u001b[38;5;241m=\u001b[39mdf2\u001b[38;5;241m.\u001b[39miloc[\u001b[38;5;241m1000\u001b[39m:,:]\n\u001b[1;32m      9\u001b[0m target_column\u001b[38;5;241m=\u001b[39m[\u001b[38;5;124m'\u001b[39m\u001b[38;5;124mTri\u001b[39m\u001b[38;5;124m'\u001b[39m]\n",
      "\u001b[0;31mNameError\u001b[0m: name 'df2' is not defined"
     ]
    }
   ],
   "source": [
    "n=6\n",
    "d=6\n",
    "\n",
    "# ones_matrix=pd.DataFrame(data=1, index=range(n),columns=range(1))\n",
    "initial_weights=np.random.uniform(low=0,high=1,size=(n,d+1))\n",
    "\n",
    "train=df2.iloc[:1000,:]\n",
    "test=df2.iloc[1000:,:]\n",
    "target_column=['Tri']\n",
    "# predictors=list(set(list(df2.columns))-set(target_column))\n",
    "y=train['Tri']\n",
    "X=train.iloc[:,0:6]\n",
    "ONE=np.ones((len(X),1))\n",
    "X=np.hstack((ONE,X))\n",
    "# X: n*(d+1)\n",
    "nparray=np.empty((len(X),n+1))\n",
    "for i in range(len(X)):\n",
    "    nparray[i]=np.array(X[i,:])\n",
    "expanded_inputs=np.empty((len(X),n))\n",
    "for i in range(len(X)):\n",
    "    for j in range(n):\n",
    "        array=np.mat(nparray[i])\n",
    "        # print(array)\n",
    "        # print(array.T.dot([initial_weights[j]]).shape)\n",
    "        expanded_inputs[i,j]=np.dot(array, initial_weights[j])\n",
    "        #array.dot([initial_weights[j]])\n",
    "        # expanded_inputs[i,j]=X.iloc[i].dot(initial_weights[j])\n",
    "#test_expanded_inputs=\n",
    "print(expanded_inputs.shape)\n",
    "print(expanded_inputs[80:100])\n",
    "\n",
    "df2=df2.iloc[:800,:].copy()\n",
    "print(df2)\n"
   ]
  },
  {
   "cell_type": "code",
   "execution_count": 217,
   "id": "5804d8bd-5e82-4233-a47b-6b648a45bb47",
   "metadata": {},
   "outputs": [
    {
     "ename": "NameError",
     "evalue": "name 'df2' is not defined",
     "output_type": "error",
     "traceback": [
      "\u001b[0;31m---------------------------------------------------------------------------\u001b[0m",
      "\u001b[0;31mNameError\u001b[0m                                 Traceback (most recent call last)",
      "Input \u001b[0;32mIn [217]\u001b[0m, in \u001b[0;36m<cell line: 1>\u001b[0;34m()\u001b[0m\n\u001b[0;32m----> 1\u001b[0m df3\u001b[38;5;241m=\u001b[39m\u001b[43mdf2\u001b[49m\u001b[38;5;241m.\u001b[39mcopy(deep\u001b[38;5;241m=\u001b[39m\u001b[38;5;28;01mTrue\u001b[39;00m)\n\u001b[1;32m      2\u001b[0m \u001b[38;5;28mprint\u001b[39m(df3)\n\u001b[1;32m      3\u001b[0m df3\u001b[38;5;241m.\u001b[39mrename(columns\u001b[38;5;241m=\u001b[39m{\u001b[38;5;124m'\u001b[39m\u001b[38;5;124mTri\u001b[39m\u001b[38;5;124m'\u001b[39m:\u001b[38;5;124m'\u001b[39m\u001b[38;5;124mcx1\u001b[39m\u001b[38;5;124m'\u001b[39m,\u001b[38;5;124m'\u001b[39m\u001b[38;5;124mMA\u001b[39m\u001b[38;5;124m'\u001b[39m:\u001b[38;5;124m'\u001b[39m\u001b[38;5;124mcx2\u001b[39m\u001b[38;5;124m'\u001b[39m,\u001b[38;5;124m'\u001b[39m\u001b[38;5;124mMACD\u001b[39m\u001b[38;5;124m'\u001b[39m:\u001b[38;5;124m'\u001b[39m\u001b[38;5;124mcx3\u001b[39m\u001b[38;5;124m'\u001b[39m,\u001b[38;5;124m'\u001b[39m\u001b[38;5;124mRSI\u001b[39m\u001b[38;5;124m'\u001b[39m:\u001b[38;5;124m'\u001b[39m\u001b[38;5;124mcx4\u001b[39m\u001b[38;5;124m'\u001b[39m,\u001b[38;5;124m'\u001b[39m\u001b[38;5;124mSTOCH_D\u001b[39m\u001b[38;5;124m'\u001b[39m:\u001b[38;5;124m'\u001b[39m\u001b[38;5;124mcx5\u001b[39m\u001b[38;5;124m'\u001b[39m,\u001b[38;5;124m'\u001b[39m\u001b[38;5;124mSTOCH_K\u001b[39m\u001b[38;5;124m'\u001b[39m:\u001b[38;5;124m'\u001b[39m\u001b[38;5;124mcx6\u001b[39m\u001b[38;5;124m'\u001b[39m},inplace\u001b[38;5;241m=\u001b[39m\u001b[38;5;28;01mTrue\u001b[39;00m)\n",
      "\u001b[0;31mNameError\u001b[0m: name 'df2' is not defined"
     ]
    }
   ],
   "source": [
    "df3=df2.copy(deep=True)\n",
    "print(df3)\n",
    "df3.rename(columns={'Tri':'cx1','MA':'cx2','MACD':'cx3','RSI':'cx4','STOCH_D':'cx5','STOCH_K':'cx6'},inplace=True)\n",
    "print(df3)\n",
    "print(df3.columns)\n",
    "df4=df3.drop(columns=['WILLR'])\n",
    "print(df4)\n",
    "for i in range(len(features)):\n",
    "    df4['cx1'][i]=1\n",
    "print(df4)    \n",
    "# # df3['Date']=df['Date'].copy()\n",
    "# # df3['cx1']=pd.DataFrame(expanded_inputs[:,0])\n",
    "target_column = ['Tri'] \n",
    "predictors = list(set(list(df4.columns)))\n",
    "# indices=df['Date']\n",
    "print(expanded_inputs)\n",
    "# df3.drop('MA',axis=1)\n",
    "data_df = pd.DataFrame(expanded_inputs, index=df4.index, columns=predictors)\n"
   ]
  },
  {
   "cell_type": "code",
   "execution_count": 112,
   "id": "cbc1177c-aee7-49bd-b214-f0494dea2e22",
   "metadata": {},
   "outputs": [
    {
     "name": "stdout",
     "output_type": "stream",
     "text": [
      "[[2.38720039 2.60359403 1.8334508  2.1863517  1.77558731 2.28210692]\n",
      " [2.41181627 2.65736115 1.87854811 2.19088314 1.78989976 2.31690797]\n",
      " [2.38023854 2.66463799 1.88301062 2.146075   1.7716929  2.30883637]\n",
      " [2.38670038 2.67203014 1.89295487 2.16680081 1.78254056 2.32604482]\n",
      " [2.16720361 2.51042212 1.72991387 1.92051392 1.64276591 2.15998112]\n",
      " [1.99078723 2.32937256 1.56650639 1.76584303 1.53346247 2.00185457]\n",
      " [1.95124262 2.21211289 1.47430944 1.78706566 1.51249693 1.93342312]\n",
      " [2.08613901 2.2658139  1.53171489 1.93972056 1.58456587 1.99657297]\n",
      " [2.18483924 2.35689402 1.61150077 2.00797595 1.6298765  2.0569381 ]\n",
      " [2.39676418 2.82653845 2.17303261 2.57736012 1.89896891 2.18780861]\n",
      " [2.13446454 2.66843097 2.0195649  2.288046   1.73969553 2.00821969]\n",
      " [1.96298992 2.5086347  1.87711743 2.14601987 1.64265631 1.87648103]\n",
      " [1.75805154 2.27132472 1.66378529 1.98176508 1.51772565 1.6853557 ]\n",
      " [1.68566304 2.13158985 1.54413764 1.93870863 1.46080824 1.57020469]\n",
      " [1.60990636 2.01130274 1.4384997  1.87615831 1.40027845 1.46086425]\n",
      " [1.55833113 1.9426146  1.37719506 1.82810508 1.35968108 1.39463223]\n",
      " [1.51271465 1.88242695 1.32617352 1.79433534 1.32791125 1.34169527]\n",
      " [1.71508929 2.01882574 1.45968794 2.02171176 1.45413847 1.49348478]\n",
      " [1.70360665 2.04060395 1.47250289 1.97502538 1.43659491 1.48421867]\n",
      " [1.75236552 2.1183114  1.53868287 2.0020492  1.46575627 1.54228752]]\n"
     ]
    }
   ],
   "source": [
    "print(expanded_inputs[80:100])"
   ]
  },
  {
   "cell_type": "code",
   "execution_count": 116,
   "id": "11e516ae-399e-458a-89f8-1277f81ab2c9",
   "metadata": {},
   "outputs": [
    {
     "name": "stdout",
     "output_type": "stream",
     "text": [
      "                  MA       RSI   STOCH_K   STOCH_D      MACD     WILLR   aa\n",
      "Date                                                                       \n",
      "2020-01-09  0.000000  0.500000  0.500000  0.500000  0.500000  0.500000  1.0\n",
      "2020-01-10  0.000000  0.500000  0.500000  0.500000  0.500000  0.500000  1.0\n",
      "2020-01-13  0.000000  0.500000  0.500000  0.500000  0.500000  0.500000  1.0\n",
      "2020-01-14  0.000000  0.500000  0.500000  0.500000  0.500000  0.500000  1.0\n",
      "2020-01-15  0.000000  0.500000  0.500000  0.500000  0.500000  0.500000  1.0\n",
      "...              ...       ...       ...       ...       ...       ...  ...\n",
      "2023-12-01  0.007591  0.979307  0.994191  0.945714  0.324367  0.977221  1.0\n",
      "2023-12-04  0.006878  0.979578  0.998064  0.998712  0.328627  0.982906  1.0\n",
      "2023-12-05  0.006215  0.961667  0.998059  0.998064  0.331335  0.971510  1.0\n",
      "2023-12-06  0.006749  0.962568  0.999987  1.000000  0.333112  0.982882  1.0\n",
      "2023-12-07  0.007336  0.969251  0.983805  0.995238  0.335245  0.935404  1.0\n",
      "\n",
      "[966 rows x 7 columns]\n",
      "(966, 6)\n",
      "(966, 6)\n",
      "            0         1         2         3         4         5\n",
      "0    1.974840  2.167876  1.436194  1.792813  1.551247  1.904114\n",
      "1    1.974840  2.167876  1.436194  1.792813  1.551247  1.904114\n",
      "2    1.974840  2.167876  1.436194  1.792813  1.551247  1.904114\n",
      "3    1.974840  2.167876  1.436194  1.792813  1.551247  1.904114\n",
      "4    1.974840  2.167876  1.436194  1.792813  1.551247  1.904114\n",
      "..        ...       ...       ...       ...       ...       ...\n",
      "961  3.066383  3.403678  2.480594  2.702941  2.185613  3.017563\n",
      "962  3.081671  3.454223  2.524823  2.716447  2.208469  3.068482\n",
      "963  3.062128  3.436913  2.511409  2.697690  2.196221  3.048396\n",
      "964  3.071224  3.443657  2.518798  2.709648  2.203366  3.056223\n",
      "965  3.039050  3.425327  2.494860  2.665795  2.183705  3.037946\n",
      "\n",
      "[966 rows x 6 columns]\n",
      "(966, 12)\n",
      "                  MA       RSI   STOCH_K   STOCH_D      MACD     WILLR  \\\n",
      "Date                                                                     \n",
      "2020-01-09  0.000000  0.500000  0.500000  0.500000  0.500000  0.500000   \n",
      "2020-01-10  0.000000  0.500000  0.500000  0.500000  0.500000  0.500000   \n",
      "2020-01-13  0.000000  0.500000  0.500000  0.500000  0.500000  0.500000   \n",
      "2020-01-14  0.000000  0.500000  0.500000  0.500000  0.500000  0.500000   \n",
      "2020-01-15  0.000000  0.500000  0.500000  0.500000  0.500000  0.500000   \n",
      "...              ...       ...       ...       ...       ...       ...   \n",
      "2023-12-01  0.007591  0.979307  0.994191  0.945714  0.324367  0.977221   \n",
      "2023-12-04  0.006878  0.979578  0.998064  0.998712  0.328627  0.982906   \n",
      "2023-12-05  0.006215  0.961667  0.998059  0.998064  0.331335  0.971510   \n",
      "2023-12-06  0.006749  0.962568  0.999987  1.000000  0.333112  0.982882   \n",
      "2023-12-07  0.007336  0.969251  0.983805  0.995238  0.335245  0.935404   \n",
      "\n",
      "                 cx3       cx5       cx2       cx4       cx6       cx1  \n",
      "Date                                                                    \n",
      "2020-01-09  1.974840  2.167876  1.436194  1.792813  1.551247  1.904114  \n",
      "2020-01-10  1.974840  2.167876  1.436194  1.792813  1.551247  1.904114  \n",
      "2020-01-13  1.974840  2.167876  1.436194  1.792813  1.551247  1.904114  \n",
      "2020-01-14  1.974840  2.167876  1.436194  1.792813  1.551247  1.904114  \n",
      "2020-01-15  1.974840  2.167876  1.436194  1.792813  1.551247  1.904114  \n",
      "...              ...       ...       ...       ...       ...       ...  \n",
      "2023-12-01  3.066383  3.403678  2.480594  2.702941  2.185613  3.017563  \n",
      "2023-12-04  3.081671  3.454223  2.524823  2.716447  2.208469  3.068482  \n",
      "2023-12-05  3.062128  3.436913  2.511409  2.697690  2.196221  3.048396  \n",
      "2023-12-06  3.071224  3.443657  2.518798  2.709648  2.203366  3.056223  \n",
      "2023-12-07  3.039050  3.425327  2.494860  2.665795  2.183705  3.037946  \n",
      "\n",
      "[966 rows x 12 columns]\n"
     ]
    }
   ],
   "source": [
    "# aa=features['MA'].copy()\n",
    "# # print(aa)\n",
    "# # print(aa.shape)\n",
    "# for i in range(len(aa)):\n",
    "#     aa[i]=1\n",
    "# print(aa)\n",
    "# print(features['MA'])\n",
    "features['aa']=features['MA'].copy()\n",
    "for i in range(len(features)):\n",
    "    features['aa'][i]=1\n",
    "print(features)\n",
    "features1=features.drop(columns='aa')\n",
    "# expanded_inputs=pd.concat([train.iloc[:,0:6],expanded_inputs],axis=1)\n",
    "# expanded_inputs=pd.concat(features,expanded_inputs)\n",
    "# ONE=np.ones((len(X),1))\n",
    "\n",
    "# features1=np.hstack((ONE,features))\n",
    "\n",
    "# one=[1]*966\n",
    "# ONE=pd.DataFrame(one)\n",
    "# print(ONE.shape)\n",
    "# print(features.shape)\n",
    "# features1=pd.DataFrame()\n",
    "# print(features1.shape)\n",
    "# features1=pd.concat([aa,features],axis=1)\n",
    "# print(features1.shape)\n",
    "print(expanded_inputs.shape)\n",
    "expanded_inputs1=pd.DataFrame(expanded_inputs)\n",
    "print(expanded_inputs1.shape)\n",
    "print(expanded_inputs1)\n",
    "expanded_inputs2=pd.concat([features1,data_df],axis=1)\n",
    "print(expanded_inputs2.shape)\n",
    "print(expanded_inputs2)\n",
    "\n",
    "\n",
    "#data_df\n"
   ]
  },
  {
   "cell_type": "code",
   "execution_count": 143,
   "id": "74909c3a-f525-4b03-b743-d6df22539d8a",
   "metadata": {},
   "outputs": [
    {
     "name": "stdout",
     "output_type": "stream",
     "text": [
      "                  MA       RSI   STOCH_K   STOCH_D      MACD     WILLR  \\\n",
      "Date                                                                     \n",
      "2020-01-09  0.000000  0.500000  0.500000  0.500000  0.500000  0.500000   \n",
      "2020-01-10  0.000000  0.500000  0.500000  0.500000  0.500000  0.500000   \n",
      "2020-01-13  0.000000  0.500000  0.500000  0.500000  0.500000  0.500000   \n",
      "2020-01-14  0.000000  0.500000  0.500000  0.500000  0.500000  0.500000   \n",
      "2020-01-15  0.000000  0.500000  0.500000  0.500000  0.500000  0.500000   \n",
      "...              ...       ...       ...       ...       ...       ...   \n",
      "2023-12-01  0.007591  0.979307  0.994191  0.945714  0.324367  0.977221   \n",
      "2023-12-04  0.006878  0.979578  0.998064  0.998712  0.328627  0.982906   \n",
      "2023-12-05  0.006215  0.961667  0.998059  0.998064  0.331335  0.971510   \n",
      "2023-12-06  0.006749  0.962568  0.999987  1.000000  0.333112  0.982882   \n",
      "2023-12-07  0.007336  0.969251  0.983805  0.995238  0.335245  0.935404   \n",
      "\n",
      "                 cx3       cx5       cx2       cx4       cx6       cx1  \n",
      "Date                                                                    \n",
      "2020-01-09  1.974840  2.167876  1.436194  1.792813  1.551247  1.904114  \n",
      "2020-01-10  1.974840  2.167876  1.436194  1.792813  1.551247  1.904114  \n",
      "2020-01-13  1.974840  2.167876  1.436194  1.792813  1.551247  1.904114  \n",
      "2020-01-14  1.974840  2.167876  1.436194  1.792813  1.551247  1.904114  \n",
      "2020-01-15  1.974840  2.167876  1.436194  1.792813  1.551247  1.904114  \n",
      "...              ...       ...       ...       ...       ...       ...  \n",
      "2023-12-01  3.066383  3.403678  2.480594  2.702941  2.185613  3.017563  \n",
      "2023-12-04  3.081671  3.454223  2.524823  2.716447  2.208469  3.068482  \n",
      "2023-12-05  3.062128  3.436913  2.511409  2.697690  2.196221  3.048396  \n",
      "2023-12-06  3.071224  3.443657  2.518798  2.709648  2.203366  3.056223  \n",
      "2023-12-07  3.039050  3.425327  2.494860  2.665795  2.183705  3.037946  \n",
      "\n",
      "[966 rows x 12 columns]\n"
     ]
    }
   ],
   "source": [
    "expanded_inputs=expanded_inputs2.copy()\n",
    "print(expanded_inputs)"
   ]
  },
  {
   "cell_type": "code",
   "execution_count": 425,
   "id": "14a64f0b-deed-49de-bd8b-3248b120578b",
   "metadata": {},
   "outputs": [
    {
     "name": "stdout",
     "output_type": "stream",
     "text": [
      "                  MA       RSI   STOCH_K   STOCH_D      MACD     WILLR   aa\n",
      "Date                                                                       \n",
      "2020-01-09  0.000000  0.500000  0.500000  0.500000  0.500000  0.500000  1.0\n",
      "2020-01-10  0.000000  0.500000  0.500000  0.500000  0.500000  0.500000  1.0\n",
      "2020-01-13  0.000000  0.500000  0.500000  0.500000  0.500000  0.500000  1.0\n",
      "2020-01-14  0.000000  0.500000  0.500000  0.500000  0.500000  0.500000  1.0\n",
      "2020-01-15  0.000000  0.500000  0.500000  0.500000  0.500000  0.500000  1.0\n",
      "...              ...       ...       ...       ...       ...       ...  ...\n",
      "2023-12-01  0.007591  0.979307  0.994191  0.945714  0.324367  0.977221  1.0\n",
      "2023-12-04  0.006878  0.979578  0.998064  0.998712  0.328627  0.982906  1.0\n",
      "2023-12-05  0.006215  0.961667  0.998059  0.998064  0.331335  0.971510  1.0\n",
      "2023-12-06  0.006749  0.962568  0.999987  1.000000  0.333112  0.982882  1.0\n",
      "2023-12-07  0.007336  0.969251  0.983805  0.995238  0.335245  0.935404  1.0\n",
      "\n",
      "[966 rows x 7 columns]\n"
     ]
    }
   ],
   "source": [
    "# aa=features['MA'].copy()\n",
    "# print(aa)\n",
    "# print(aa.shape)\n",
    "# for i in range(len(aa)):\n",
    "#     aa[i]=1\n",
    "# print(aa)\n",
    "# print(features['MA'])\n",
    "# aa.columns=['constant']\n",
    "# aa.rename(columns={'MA':'constant'})\n",
    "# print(aa)\n"
   ]
  },
  {
   "cell_type": "code",
   "execution_count": 345,
   "id": "e0be197d-3b96-4616-b7b0-ae6bccc4bed5",
   "metadata": {},
   "outputs": [
    {
     "name": "stdout",
     "output_type": "stream",
     "text": [
      "(996, 1)\n"
     ]
    }
   ],
   "source": [
    "# one=[1]*996\n",
    "# dd=pd.DataFrame(one)\n",
    "# print(dd.shape)"
   ]
  },
  {
   "cell_type": "code",
   "execution_count": 297,
   "id": "43c308ef-dc6e-4aec-83f2-1d0bfeaa7fa6",
   "metadata": {},
   "outputs": [
    {
     "name": "stdout",
     "output_type": "stream",
     "text": [
      "(966, 6)\n",
      "(966, 7)\n"
     ]
    }
   ],
   "source": [
    "# print(features[:1000].shape)\n",
    "# print(expanded_inputs.shape)"
   ]
  },
  {
   "cell_type": "code",
   "execution_count": 118,
   "id": "b8ef6481-7955-4cb0-b2b5-9dcccf5648b5",
   "metadata": {
    "tags": []
   },
   "outputs": [
    {
     "name": "stdout",
     "output_type": "stream",
     "text": [
      "[[0.03243413]\n",
      " [0.95316865]\n",
      " [0.63558791]\n",
      " [0.28428718]\n",
      " [0.38709988]\n",
      " [0.22223643]\n",
      " [0.2825782 ]\n",
      " [0.82011277]\n",
      " [0.31183394]\n",
      " [0.20849067]\n",
      " [0.57435039]\n",
      " [0.98179054]]\n"
     ]
    }
   ],
   "source": [
    "# train=df2.iloc[:1000,:]\n",
    "# test=df2.iloc[1000:,:]\n",
    "# target_column = ['Tri'] \n",
    "# predictors = list(set(list(df2.columns))-set(target_column))\n",
    "# X= train[predictors]\n",
    "# print('X:')\n",
    "# print(X.iloc[0])\n",
    "# print(len(X.iloc[0]))\n",
    "# print(len(X))\n",
    "# print(X[0:50])\n",
    "# y = train[target_column]\n",
    "synaptic_weights = np.random.uniform(low=0, high=1, size=(n+d,1))\n",
    "# synaptic_weights = np.append(synaptic_weights, 1)\n",
    "print(synaptic_weights)\n"
   ]
  },
  {
   "cell_type": "code",
   "execution_count": null,
   "id": "510f310e-97eb-4d74-acdb-f303f607653b",
   "metadata": {},
   "outputs": [],
   "source": []
  },
  {
   "cell_type": "code",
   "execution_count": null,
   "id": "4b719883-8b78-4682-8f76-331ec52a6924",
   "metadata": {},
   "outputs": [],
   "source": []
  },
  {
   "cell_type": "code",
   "execution_count": null,
   "id": "ead699d4-42ff-42f7-b8d8-bab75ad422c6",
   "metadata": {},
   "outputs": [],
   "source": []
  }
 ],
 "metadata": {
  "kernelspec": {
   "display_name": "anaconda-2022.05-py39",
   "language": "python",
   "name": "conda-env-anaconda-2022.05-py39-py"
  },
  "language_info": {
   "codemirror_mode": {
    "name": "ipython",
    "version": 3
   },
   "file_extension": ".py",
   "mimetype": "text/x-python",
   "name": "python",
   "nbconvert_exporter": "python",
   "pygments_lexer": "ipython3",
   "version": "3.9.12"
  }
 },
 "nbformat": 4,
 "nbformat_minor": 5
}
